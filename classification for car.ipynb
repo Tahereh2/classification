{
 "cells": [
  {
   "cell_type": "code",
   "execution_count": 1,
   "id": "a4028515",
   "metadata": {},
   "outputs": [],
   "source": [
    "import numpy as np\n",
    "import pandas as pd\n",
    "import matplotlib.pyplot as plt\n",
    "from sklearn import tree\n",
    "from sklearn.ensemble import RandomForestClassifier\n",
    "from sklearn import svm\n",
    "from sklearn.svm import SVC\n",
    "from sklearn import metrics , model_selection , preprocessing\n",
    "from IPython.display import Image ,display\n",
    "import matplotlib.pyplot as plt\n",
    "\n",
    "%matplotlib inline"
   ]
  },
  {
   "cell_type": "code",
   "execution_count": 2,
   "id": "ee1adb83",
   "metadata": {},
   "outputs": [
    {
     "data": {
      "text/html": [
       "<div>\n",
       "<style scoped>\n",
       "    .dataframe tbody tr th:only-of-type {\n",
       "        vertical-align: middle;\n",
       "    }\n",
       "\n",
       "    .dataframe tbody tr th {\n",
       "        vertical-align: top;\n",
       "    }\n",
       "\n",
       "    .dataframe thead th {\n",
       "        text-align: right;\n",
       "    }\n",
       "</style>\n",
       "<table border=\"1\" class=\"dataframe\">\n",
       "  <thead>\n",
       "    <tr style=\"text-align: right;\">\n",
       "      <th></th>\n",
       "      <th>Model</th>\n",
       "      <th>Engine</th>\n",
       "      <th>SC/Turbo</th>\n",
       "      <th>Weight</th>\n",
       "      <th>Fuel Economy</th>\n",
       "      <th>Fast</th>\n",
       "    </tr>\n",
       "  </thead>\n",
       "  <tbody>\n",
       "    <tr>\n",
       "      <th>0</th>\n",
       "      <td>M1</td>\n",
       "      <td>Small</td>\n",
       "      <td>No</td>\n",
       "      <td>Average</td>\n",
       "      <td>Good</td>\n",
       "      <td>No</td>\n",
       "    </tr>\n",
       "    <tr>\n",
       "      <th>1</th>\n",
       "      <td>M2</td>\n",
       "      <td>Small</td>\n",
       "      <td>No</td>\n",
       "      <td>Light</td>\n",
       "      <td>Average</td>\n",
       "      <td>No</td>\n",
       "    </tr>\n",
       "    <tr>\n",
       "      <th>2</th>\n",
       "      <td>M3</td>\n",
       "      <td>Small</td>\n",
       "      <td>Yes</td>\n",
       "      <td>Average</td>\n",
       "      <td>Bad</td>\n",
       "      <td>Yes</td>\n",
       "    </tr>\n",
       "    <tr>\n",
       "      <th>3</th>\n",
       "      <td>M4</td>\n",
       "      <td>Medium</td>\n",
       "      <td>No</td>\n",
       "      <td>Heavy</td>\n",
       "      <td>Bad</td>\n",
       "      <td>Yes</td>\n",
       "    </tr>\n",
       "    <tr>\n",
       "      <th>4</th>\n",
       "      <td>M5</td>\n",
       "      <td>Large</td>\n",
       "      <td>No</td>\n",
       "      <td>Average</td>\n",
       "      <td>Bad</td>\n",
       "      <td>Yes</td>\n",
       "    </tr>\n",
       "  </tbody>\n",
       "</table>\n",
       "</div>"
      ],
      "text/plain": [
       "  Model  Engine SC/Turbo   Weight Fuel Economy Fast\n",
       "0    M1   Small       No  Average         Good   No\n",
       "1    M2   Small       No    Light      Average   No\n",
       "2    M3   Small      Yes  Average          Bad  Yes\n",
       "3    M4  Medium       No    Heavy          Bad  Yes\n",
       "4    M5   Large       No  Average          Bad  Yes"
      ]
     },
     "execution_count": 2,
     "metadata": {},
     "output_type": "execute_result"
    }
   ],
   "source": [
    "data=pd.read_csv(\"D:\\\\tala\\\\carsdata.csv\")\n",
    "data.head()"
   ]
  },
  {
   "cell_type": "code",
   "execution_count": 3,
   "id": "d54d0082",
   "metadata": {},
   "outputs": [
    {
     "name": "stdout",
     "output_type": "stream",
     "text": [
      "<class 'pandas.core.frame.DataFrame'>\n",
      "RangeIndex: 15 entries, 0 to 14\n",
      "Data columns (total 6 columns):\n",
      " #   Column        Non-Null Count  Dtype \n",
      "---  ------        --------------  ----- \n",
      " 0   Model         15 non-null     object\n",
      " 1   Engine        15 non-null     object\n",
      " 2   SC/Turbo      15 non-null     object\n",
      " 3   Weight        15 non-null     object\n",
      " 4   Fuel Economy  15 non-null     object\n",
      " 5   Fast          15 non-null     object\n",
      "dtypes: object(6)\n",
      "memory usage: 848.0+ bytes\n"
     ]
    }
   ],
   "source": [
    "data.info()"
   ]
  },
  {
   "cell_type": "markdown",
   "id": "b4c89fdc",
   "metadata": {},
   "source": [
    "# preprocessing"
   ]
  },
  {
   "cell_type": "code",
   "execution_count": 4,
   "id": "9acf0ab2",
   "metadata": {
    "scrolled": true
   },
   "outputs": [
    {
     "data": {
      "text/html": [
       "<div>\n",
       "<style scoped>\n",
       "    .dataframe tbody tr th:only-of-type {\n",
       "        vertical-align: middle;\n",
       "    }\n",
       "\n",
       "    .dataframe tbody tr th {\n",
       "        vertical-align: top;\n",
       "    }\n",
       "\n",
       "    .dataframe thead th {\n",
       "        text-align: right;\n",
       "    }\n",
       "</style>\n",
       "<table border=\"1\" class=\"dataframe\">\n",
       "  <thead>\n",
       "    <tr style=\"text-align: right;\">\n",
       "      <th></th>\n",
       "      <th>Engine</th>\n",
       "      <th>SC/Turbo</th>\n",
       "      <th>Weight</th>\n",
       "      <th>Fuel Economy</th>\n",
       "      <th>Fast</th>\n",
       "    </tr>\n",
       "  </thead>\n",
       "  <tbody>\n",
       "    <tr>\n",
       "      <th>0</th>\n",
       "      <td>Small</td>\n",
       "      <td>No</td>\n",
       "      <td>Average</td>\n",
       "      <td>Good</td>\n",
       "      <td>No</td>\n",
       "    </tr>\n",
       "    <tr>\n",
       "      <th>1</th>\n",
       "      <td>Small</td>\n",
       "      <td>No</td>\n",
       "      <td>Light</td>\n",
       "      <td>Average</td>\n",
       "      <td>No</td>\n",
       "    </tr>\n",
       "    <tr>\n",
       "      <th>2</th>\n",
       "      <td>Small</td>\n",
       "      <td>Yes</td>\n",
       "      <td>Average</td>\n",
       "      <td>Bad</td>\n",
       "      <td>Yes</td>\n",
       "    </tr>\n",
       "    <tr>\n",
       "      <th>3</th>\n",
       "      <td>Medium</td>\n",
       "      <td>No</td>\n",
       "      <td>Heavy</td>\n",
       "      <td>Bad</td>\n",
       "      <td>Yes</td>\n",
       "    </tr>\n",
       "    <tr>\n",
       "      <th>4</th>\n",
       "      <td>Large</td>\n",
       "      <td>No</td>\n",
       "      <td>Average</td>\n",
       "      <td>Bad</td>\n",
       "      <td>Yes</td>\n",
       "    </tr>\n",
       "  </tbody>\n",
       "</table>\n",
       "</div>"
      ],
      "text/plain": [
       "   Engine SC/Turbo   Weight Fuel Economy Fast\n",
       "0   Small       No  Average         Good   No\n",
       "1   Small       No    Light      Average   No\n",
       "2   Small      Yes  Average          Bad  Yes\n",
       "3  Medium       No    Heavy          Bad  Yes\n",
       "4   Large       No  Average          Bad  Yes"
      ]
     },
     "execution_count": 4,
     "metadata": {},
     "output_type": "execute_result"
    }
   ],
   "source": [
    "data=data.drop([\"Model\"] , axis=1)\n",
    "data.head()"
   ]
  },
  {
   "cell_type": "code",
   "execution_count": 5,
   "id": "49f6c932",
   "metadata": {},
   "outputs": [
    {
     "data": {
      "text/plain": [
       "dtype('O')"
      ]
     },
     "execution_count": 5,
     "metadata": {},
     "output_type": "execute_result"
    }
   ],
   "source": [
    "data[\"Engine\"].dtype"
   ]
  },
  {
   "cell_type": "code",
   "execution_count": 6,
   "id": "98350917",
   "metadata": {},
   "outputs": [],
   "source": [
    "#changing to being categorical\n",
    "data.Engine=pd.Categorical(data.Engine)\n",
    "data[\"re_Engine\"]=data[\"Engine\"].cat.codes\n"
   ]
  },
  {
   "cell_type": "code",
   "execution_count": 7,
   "id": "b9f9b359",
   "metadata": {},
   "outputs": [
    {
     "data": {
      "text/plain": [
       "dtype('int8')"
      ]
     },
     "execution_count": 7,
     "metadata": {},
     "output_type": "execute_result"
    }
   ],
   "source": [
    "data[\"re_Engine\"].dtype"
   ]
  },
  {
   "cell_type": "code",
   "execution_count": 8,
   "id": "93cb2e39",
   "metadata": {},
   "outputs": [],
   "source": [
    "data[\"SC/Turbo\"]=pd.Categorical(data[\"SC/Turbo\"])\n",
    "data[\"re_SC/Turbo\"]=data[\"SC/Turbo\"].cat.codes\n",
    "\n",
    "data.Weight=pd.Categorical(data.Weight)\n",
    "data[\"re_Weight\"]=data[\"Weight\"].cat.codes\n",
    "\n",
    "data[\"Fuel Economy\"]=pd.Categorical(data[\"Fuel Economy\"])\n",
    "data[\"re_Fuel Economy\"]=data[\"Fuel Economy\"].cat.codes\n",
    "\n",
    "data.Fast=pd.Categorical(data.Fast)\n",
    "data[\"re_Fast\"]=data[\"Fast\"].cat.codes"
   ]
  },
  {
   "cell_type": "code",
   "execution_count": 9,
   "id": "1a0ccdd3",
   "metadata": {},
   "outputs": [],
   "source": [
    "data=data.drop([\"Engine\",\"SC/Turbo\",\"Weight\",\"Fuel Economy\",\"Fast\"] , axis=1)"
   ]
  },
  {
   "cell_type": "code",
   "execution_count": 10,
   "id": "eb243aad",
   "metadata": {},
   "outputs": [
    {
     "name": "stdout",
     "output_type": "stream",
     "text": [
      "<class 'pandas.core.frame.DataFrame'>\n",
      "RangeIndex: 15 entries, 0 to 14\n",
      "Data columns (total 5 columns):\n",
      " #   Column           Non-Null Count  Dtype\n",
      "---  ------           --------------  -----\n",
      " 0   re_Engine        15 non-null     int8 \n",
      " 1   re_SC/Turbo      15 non-null     int8 \n",
      " 2   re_Weight        15 non-null     int8 \n",
      " 3   re_Fuel Economy  15 non-null     int8 \n",
      " 4   re_Fast          15 non-null     int8 \n",
      "dtypes: int8(5)\n",
      "memory usage: 203.0 bytes\n"
     ]
    }
   ],
   "source": [
    "data.info()"
   ]
  },
  {
   "cell_type": "code",
   "execution_count": 11,
   "id": "b65d807e",
   "metadata": {},
   "outputs": [
    {
     "data": {
      "text/html": [
       "<div>\n",
       "<style scoped>\n",
       "    .dataframe tbody tr th:only-of-type {\n",
       "        vertical-align: middle;\n",
       "    }\n",
       "\n",
       "    .dataframe tbody tr th {\n",
       "        vertical-align: top;\n",
       "    }\n",
       "\n",
       "    .dataframe thead th {\n",
       "        text-align: right;\n",
       "    }\n",
       "</style>\n",
       "<table border=\"1\" class=\"dataframe\">\n",
       "  <thead>\n",
       "    <tr style=\"text-align: right;\">\n",
       "      <th></th>\n",
       "      <th>re_Engine</th>\n",
       "      <th>re_SC/Turbo</th>\n",
       "      <th>re_Weight</th>\n",
       "      <th>re_Fuel Economy</th>\n",
       "      <th>re_Fast</th>\n",
       "    </tr>\n",
       "  </thead>\n",
       "  <tbody>\n",
       "    <tr>\n",
       "      <th>0</th>\n",
       "      <td>2</td>\n",
       "      <td>0</td>\n",
       "      <td>0</td>\n",
       "      <td>2</td>\n",
       "      <td>0</td>\n",
       "    </tr>\n",
       "    <tr>\n",
       "      <th>1</th>\n",
       "      <td>2</td>\n",
       "      <td>0</td>\n",
       "      <td>2</td>\n",
       "      <td>0</td>\n",
       "      <td>0</td>\n",
       "    </tr>\n",
       "    <tr>\n",
       "      <th>2</th>\n",
       "      <td>2</td>\n",
       "      <td>1</td>\n",
       "      <td>0</td>\n",
       "      <td>1</td>\n",
       "      <td>1</td>\n",
       "    </tr>\n",
       "    <tr>\n",
       "      <th>3</th>\n",
       "      <td>1</td>\n",
       "      <td>0</td>\n",
       "      <td>1</td>\n",
       "      <td>1</td>\n",
       "      <td>1</td>\n",
       "    </tr>\n",
       "    <tr>\n",
       "      <th>4</th>\n",
       "      <td>0</td>\n",
       "      <td>0</td>\n",
       "      <td>0</td>\n",
       "      <td>1</td>\n",
       "      <td>1</td>\n",
       "    </tr>\n",
       "  </tbody>\n",
       "</table>\n",
       "</div>"
      ],
      "text/plain": [
       "   re_Engine  re_SC/Turbo  re_Weight  re_Fuel Economy  re_Fast\n",
       "0          2            0          0                2        0\n",
       "1          2            0          2                0        0\n",
       "2          2            1          0                1        1\n",
       "3          1            0          1                1        1\n",
       "4          0            0          0                1        1"
      ]
     },
     "execution_count": 11,
     "metadata": {},
     "output_type": "execute_result"
    }
   ],
   "source": [
    "data.head()"
   ]
  },
  {
   "cell_type": "markdown",
   "id": "97cc21b2",
   "metadata": {},
   "source": [
    "# detecting inputs and target"
   ]
  },
  {
   "cell_type": "code",
   "execution_count": 12,
   "id": "0c79197b",
   "metadata": {},
   "outputs": [],
   "source": [
    "x=data.drop([\"re_Fast\"] , axis=1)\n",
    "y=data[\"re_Fast\"]"
   ]
  },
  {
   "cell_type": "markdown",
   "id": "b8075825",
   "metadata": {},
   "source": [
    "# splitting our data to train and test"
   ]
  },
  {
   "cell_type": "code",
   "execution_count": 13,
   "id": "3c01be14",
   "metadata": {},
   "outputs": [],
   "source": [
    "from sklearn.model_selection import train_test_split\n",
    "x_train , x_test , y_train ,y_test=train_test_split(x , y , test_size=0.2 , random_state=42)"
   ]
  },
  {
   "cell_type": "code",
   "execution_count": 14,
   "id": "83849d02",
   "metadata": {},
   "outputs": [
    {
     "data": {
      "text/plain": [
       "((12, 4), (3, 4))"
      ]
     },
     "execution_count": 14,
     "metadata": {},
     "output_type": "execute_result"
    }
   ],
   "source": [
    "x_train.shape  , x_test.shape"
   ]
  },
  {
   "cell_type": "markdown",
   "id": "1a4f3446",
   "metadata": {},
   "source": [
    "# machine learning algorithems\n",
    "1_decision tree\n",
    "\n",
    "2_random forest\n",
    "\n",
    "3_SVM"
   ]
  },
  {
   "cell_type": "markdown",
   "id": "5792b119",
   "metadata": {},
   "source": [
    "decision tree"
   ]
  },
  {
   "cell_type": "code",
   "execution_count": 15,
   "id": "f7cca747",
   "metadata": {},
   "outputs": [],
   "source": [
    "dt=tree.DecisionTreeClassifier()"
   ]
  },
  {
   "cell_type": "code",
   "execution_count": 16,
   "id": "f6c32bcf",
   "metadata": {},
   "outputs": [
    {
     "data": {
      "text/plain": [
       "DecisionTreeClassifier()"
      ]
     },
     "execution_count": 16,
     "metadata": {},
     "output_type": "execute_result"
    }
   ],
   "source": [
    "dt.fit(x_train , y_train)"
   ]
  },
  {
   "cell_type": "code",
   "execution_count": 17,
   "id": "baf61e03",
   "metadata": {},
   "outputs": [],
   "source": [
    "y_pred=dt.predict(x_test)"
   ]
  },
  {
   "cell_type": "code",
   "execution_count": 18,
   "id": "b59d1240",
   "metadata": {},
   "outputs": [
    {
     "data": {
      "text/plain": [
       "array([1, 0, 0], dtype=int8)"
      ]
     },
     "execution_count": 18,
     "metadata": {},
     "output_type": "execute_result"
    }
   ],
   "source": [
    "y_pred"
   ]
  },
  {
   "cell_type": "code",
   "execution_count": 19,
   "id": "1f43c99b",
   "metadata": {},
   "outputs": [
    {
     "data": {
      "text/plain": [
       "9     1\n",
       "11    0\n",
       "0     0\n",
       "Name: re_Fast, dtype: int8"
      ]
     },
     "execution_count": 19,
     "metadata": {},
     "output_type": "execute_result"
    }
   ],
   "source": [
    "y_test"
   ]
  },
  {
   "cell_type": "markdown",
   "id": "9dde2716",
   "metadata": {},
   "source": [
    "# metrics evaluation"
   ]
  },
  {
   "cell_type": "code",
   "execution_count": 20,
   "id": "893c3da0",
   "metadata": {},
   "outputs": [
    {
     "name": "stdout",
     "output_type": "stream",
     "text": [
      "accuracy is :  1.0\n"
     ]
    }
   ],
   "source": [
    "accuracy=metrics.accuracy_score(y_test , y_pred)\n",
    "print(\"accuracy is :  {}\".format(accuracy))"
   ]
  },
  {
   "cell_type": "markdown",
   "id": "a7ae251e",
   "metadata": {},
   "source": [
    "# random forest"
   ]
  },
  {
   "cell_type": "code",
   "execution_count": 22,
   "id": "08583ae1",
   "metadata": {},
   "outputs": [
    {
     "data": {
      "text/plain": [
       "RandomForestClassifier(n_estimators=10)"
      ]
     },
     "execution_count": 22,
     "metadata": {},
     "output_type": "execute_result"
    }
   ],
   "source": [
    "rf=RandomForestClassifier(n_estimators=10) #how mant trees(models) do you need?\n",
    "rf.fit(x_train ,y_train)"
   ]
  },
  {
   "cell_type": "code",
   "execution_count": 24,
   "id": "b0cd92ce",
   "metadata": {},
   "outputs": [],
   "source": [
    "y_rf_pred=rf.predict(x_test)"
   ]
  },
  {
   "cell_type": "code",
   "execution_count": 25,
   "id": "48ce3efc",
   "metadata": {},
   "outputs": [
    {
     "data": {
      "text/plain": [
       "array([1, 0, 0], dtype=int8)"
      ]
     },
     "execution_count": 25,
     "metadata": {},
     "output_type": "execute_result"
    }
   ],
   "source": [
    "y_rf_pred"
   ]
  },
  {
   "cell_type": "markdown",
   "id": "fda78f4a",
   "metadata": {},
   "source": [
    "# metrics evaluation"
   ]
  },
  {
   "cell_type": "code",
   "execution_count": 26,
   "id": "2b4c2a81",
   "metadata": {},
   "outputs": [
    {
     "name": "stdout",
     "output_type": "stream",
     "text": [
      "accuracy is :  1.0\n"
     ]
    }
   ],
   "source": [
    "accuracy_rf=metrics.accuracy_score(y_test , y_rf_pred)\n",
    "print(\"accuracy is :  {}\".format(accuracy_rf))"
   ]
  },
  {
   "cell_type": "markdown",
   "id": "6c619968",
   "metadata": {},
   "source": [
    "# SVM"
   ]
  },
  {
   "cell_type": "code",
   "execution_count": 27,
   "id": "71f534f6",
   "metadata": {},
   "outputs": [
    {
     "data": {
      "text/plain": [
       "SVC()"
      ]
     },
     "execution_count": 27,
     "metadata": {},
     "output_type": "execute_result"
    }
   ],
   "source": [
    "svm_model=svm.SVC()\n",
    "svm_model.fit(x_train,y_train)"
   ]
  },
  {
   "cell_type": "code",
   "execution_count": 29,
   "id": "b09400ca",
   "metadata": {},
   "outputs": [],
   "source": [
    "y_svm_pred=svm_model.predict(x_test)"
   ]
  },
  {
   "cell_type": "code",
   "execution_count": 30,
   "id": "ab3cd48f",
   "metadata": {},
   "outputs": [
    {
     "data": {
      "text/plain": [
       "array([0, 0, 0], dtype=int8)"
      ]
     },
     "execution_count": 30,
     "metadata": {},
     "output_type": "execute_result"
    }
   ],
   "source": [
    "y_svm_pred"
   ]
  },
  {
   "cell_type": "markdown",
   "id": "6ca520fe",
   "metadata": {},
   "source": [
    "# metrics_evaluation"
   ]
  },
  {
   "cell_type": "code",
   "execution_count": 31,
   "id": "0d4acab3",
   "metadata": {},
   "outputs": [
    {
     "name": "stdout",
     "output_type": "stream",
     "text": [
      "accuracy is :  0.6666666666666666\n"
     ]
    }
   ],
   "source": [
    "accuracy_svm=metrics.accuracy_score(y_test , y_svm_pred)\n",
    "print(\"accuracy is :  {}\".format(accuracy_svm))"
   ]
  },
  {
   "cell_type": "code",
   "execution_count": null,
   "id": "29798a08",
   "metadata": {},
   "outputs": [],
   "source": []
  }
 ],
 "metadata": {
  "kernelspec": {
   "display_name": "Python 3 (ipykernel)",
   "language": "python",
   "name": "python3"
  },
  "language_info": {
   "codemirror_mode": {
    "name": "ipython",
    "version": 3
   },
   "file_extension": ".py",
   "mimetype": "text/x-python",
   "name": "python",
   "nbconvert_exporter": "python",
   "pygments_lexer": "ipython3",
   "version": "3.9.12"
  }
 },
 "nbformat": 4,
 "nbformat_minor": 5
}
