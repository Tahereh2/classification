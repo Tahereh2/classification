{
 "cells": [
  {
   "cell_type": "markdown",
   "id": "f1d5747a",
   "metadata": {},
   "source": [
    "# dealing with null valuabales"
   ]
  },
  {
   "cell_type": "code",
   "execution_count": 1,
   "id": "e6be5300",
   "metadata": {},
   "outputs": [],
   "source": [
    "import pandas as pd\n",
    "import numpy as np\n",
    "import matplotlib.pyplot as plt\n",
    "import seaborn as sns\n",
    "sns.set()"
   ]
  },
  {
   "cell_type": "code",
   "execution_count": 2,
   "id": "503321{
 "cells": [
  {
   "cell_type": "markdown",
   "id": "c5d23c6c",
   "metadata": {},
   "source": [
    "# titanc"
   ]
  },
  {
   "cell_type": "code",
   "execution_count": 1,
   "id": "23a4409b",
   "metadata": {},
   "outputs": [],
   "source": [
    "import pandas as pd\n",
    "import numpy as np\n",
    "import matplotlib.pyplot as plt\n",
    "import seaborn as sns\n",
    "sns.set()"
   ]
  },
  {
   "cell_type": "code",
   "execution_count": 2,
   "id": "a3d07f46",
   "metadata": {},
   "outputs": [
    {
     "data": {
      "text/html": [
       "<div>\n",
       "<style scoped>\n",
       "    .dataframe tbody tr th:only-of-type {\n",
       "        vertical-align: middle;\n",
       "    }\n",
       "\n",
       "    .dataframe tbody tr th {\n",
       "        vertical-align: top;\n",
       "    }\n",
       "\n",
       "    .dataframe thead th {\n",
       "        text-align: right;\n",
       "    }\n",
       "</style>\n",
       "<table border=\"1\" class=\"dataframe\">\n",
       "  <thead>\n",
       "    <tr style=\"text-align: right;\">\n",
       "      <th></th>\n",
       "      <th>PassengerId</th>\n",
       "      <th>Survived</th>\n",
       "      <th>Pclass</th>\n",
       "      <th>Name</th>\n",
       "      <th>Sex</th>\n",
       "      <th>Age</th>\n",
       "      <th>SibSp</th>\n",
       "      <th>Parch</th>\n",
       "      <th>Ticket</th>\n",
       "      <th>Fare</th>\n",
       "      <th>...</th>\n",
       "      <th>Embarked</th>\n",
       "      <th>WikiId</th>\n",
       "      <th>Name_wiki</th>\n",
       "      <th>Age_wiki</th>\n",
       "      <th>Hometown</th>\n",
       "      <th>Boarded</th>\n",
       "      <th>Destination</th>\n",
       "      <th>Lifeboat</th>\n",
       "      <th>Body</th>\n",
       "      <th>Class</th>\n",
       "    </tr>\n",
       "  </thead>\n",
       "  <tbody>\n",
       "    <tr>\n",
       "      <th>0</th>\n",
       "      <td>1</td>\n",
       "      <td>0.0</td>\n",
       "      <td>3</td>\n",
       "      <td>Braund, Mr. Owen Harris</td>\n",
       "      <td>male</td>\n",
       "      <td>22.0</td>\n",
       "      <td>1</td>\n",
       "      <td>0</td>\n",
       "      <td>A/5 21171</td>\n",
       "      <td>7.2500</td>\n",
       "      <td>...</td>\n",
       "      <td>S</td>\n",
       "      <td>691.0</td>\n",
       "      <td>Braund, Mr. Owen Harris</td>\n",
       "      <td>22.0</td>\n",
       "      <td>Bridgerule, Devon, England</td>\n",
       "      <td>Southampton</td>\n",
       "      <td>Qu'Appelle Valley, Saskatchewan, Canada</td>\n",
       "      <td>NaN</td>\n",
       "      <td>NaN</td>\n",
       "      <td>3.0</td>\n",
       "    </tr>\n",
       "    <tr>\n",
       "      <th>1</th>\n",
       "      <td>2</td>\n",
       "      <td>1.0</td>\n",
       "      <td>1</td>\n",
       "      <td>Cumings, Mrs. John Bradley (Florence Briggs Th...</td>\n",
       "      <td>female</td>\n",
       "      <td>38.0</td>\n",
       "      <td>1</td>\n",
       "      <td>0</td>\n",
       "      <td>PC 17599</td>\n",
       "      <td>71.2833</td>\n",
       "      <td>...</td>\n",
       "      <td>C</td>\n",
       "      <td>90.0</td>\n",
       "      <td>Cumings, Mrs. Florence Briggs (née Thayer)</td>\n",
       "      <td>35.0</td>\n",
       "      <td>New York, New York, US</td>\n",
       "      <td>Cherbourg</td>\n",
       "      <td>New York, New York, US</td>\n",
       "      <td>4</td>\n",
       "      <td>NaN</td>\n",
       "      <td>1.0</td>\n",
       "    </tr>\n",
       "    <tr>\n",
       "      <th>2</th>\n",
       "      <td>3</td>\n",
       "      <td>1.0</td>\n",
       "      <td>3</td>\n",
       "      <td>Heikkinen, Miss. Laina</td>\n",
       "      <td>female</td>\n",
       "      <td>26.0</td>\n",
       "      <td>0</td>\n",
       "      <td>0</td>\n",
       "      <td>STON/O2. 3101282</td>\n",
       "      <td>7.9250</td>\n",
       "      <td>...</td>\n",
       "      <td>S</td>\n",
       "      <td>865.0</td>\n",
       "      <td>Heikkinen, Miss Laina</td>\n",
       "      <td>26.0</td>\n",
       "      <td>Jyväskylä, Finland</td>\n",
       "      <td>Southampton</td>\n",
       "      <td>New York City</td>\n",
       "      <td>14?</td>\n",
       "      <td>NaN</td>\n",
       "      <td>3.0</td>\n",
       "    </tr>\n",
       "    <tr>\n",
       "      <th>3</th>\n",
       "      <td>4</td>\n",
       "      <td>1.0</td>\n",
       "      <td>1</td>\n",
       "      <td>Futrelle, Mrs. Jacques Heath (Lily May Peel)</td>\n",
       "      <td>female</td>\n",
       "      <td>35.0</td>\n",
       "      <td>1</td>\n",
       "      <td>0</td>\n",
       "      <td>113803</td>\n",
       "      <td>53.1000</td>\n",
       "      <td>...</td>\n",
       "      <td>S</td>\n",
       "      <td>127.0</td>\n",
       "      <td>Futrelle, Mrs. Lily May (née Peel)</td>\n",
       "      <td>35.0</td>\n",
       "      <td>Scituate, Massachusetts, US</td>\n",
       "      <td>Southampton</td>\n",
       "      <td>Scituate, Massachusetts, US</td>\n",
       "      <td>D</td>\n",
       "      <td>NaN</td>\n",
       "      <td>1.0</td>\n",
       "    </tr>\n",
       "    <tr>\n",
       "      <th>4</th>\n",
       "      <td>5</td>\n",
       "      <td>0.0</td>\n",
       "      <td>3</td>\n",
       "      <td>Allen, Mr. William Henry</td>\n",
       "      <td>male</td>\n",
       "      <td>35.0</td>\n",
       "      <td>0</td>\n",
       "      <td>0</td>\n",
       "      <td>373450</td>\n",
       "      <td>8.0500</td>\n",
       "      <td>...</td>\n",
       "      <td>S</td>\n",
       "      <td>627.0</td>\n",
       "      <td>Allen, Mr. William Henry</td>\n",
       "      <td>35.0</td>\n",
       "      <td>Birmingham, West Midlands, England</td>\n",
       "      <td>Southampton</td>\n",
       "      <td>New York City</td>\n",
       "      <td>NaN</td>\n",
       "      <td>NaN</td>\n",
       "      <td>3.0</td>\n",
       "    </tr>\n",
       "  </tbody>\n",
       "</table>\n",
       "<p>5 rows × 21 columns</p>\n",
       "</div>"
      ],
      "text/plain": [
       "   PassengerId  Survived  Pclass  \\\n",
       "0            1       0.0       3   \n",
       "1            2       1.0       1   \n",
       "2            3       1.0       3   \n",
       "3            4       1.0       1   \n",
       "4            5       0.0       3   \n",
       "\n",
       "                                                Name     Sex   Age  SibSp  \\\n",
       "0                            Braund, Mr. Owen Harris    male  22.0      1   \n",
       "1  Cumings, Mrs. John Bradley (Florence Briggs Th...  female  38.0      1   \n",
       "2                             Heikkinen, Miss. Laina  female  26.0      0   \n",
       "3       Futrelle, Mrs. Jacques Heath (Lily May Peel)  female  35.0      1   \n",
       "4                           Allen, Mr. William Henry    male  35.0      0   \n",
       "\n",
       "   Parch            Ticket     Fare  ... Embarked WikiId  \\\n",
       "0      0         A/5 21171   7.2500  ...        S  691.0   \n",
       "1      0          PC 17599  71.2833  ...        C   90.0   \n",
       "2      0  STON/O2. 3101282   7.9250  ...        S  865.0   \n",
       "3      0            113803  53.1000  ...        S  127.0   \n",
       "4      0            373450   8.0500  ...        S  627.0   \n",
       "\n",
       "                                    Name_wiki Age_wiki  \\\n",
       "0                     Braund, Mr. Owen Harris     22.0   \n",
       "1  Cumings, Mrs. Florence Briggs (née Thayer)     35.0   \n",
       "2                       Heikkinen, Miss Laina     26.0   \n",
       "3          Futrelle, Mrs. Lily May (née Peel)     35.0   \n",
       "4                    Allen, Mr. William Henry     35.0   \n",
       "\n",
       "                             Hometown      Boarded  \\\n",
       "0          Bridgerule, Devon, England  Southampton   \n",
       "1              New York, New York, US    Cherbourg   \n",
       "2                  Jyväskylä, Finland  Southampton   \n",
       "3         Scituate, Massachusetts, US  Southampton   \n",
       "4  Birmingham, West Midlands, England  Southampton   \n",
       "\n",
       "                               Destination Lifeboat Body Class  \n",
       "0  Qu'Appelle Valley, Saskatchewan, Canada      NaN  NaN   3.0  \n",
       "1                   New York, New York, US        4  NaN   1.0  \n",
       "2                            New York City      14?  NaN   3.0  \n",
       "3              Scituate, Massachusetts, US        D  NaN   1.0  \n",
       "4                            New York City      NaN  NaN   3.0  \n",
       "\n",
       "[5 rows x 21 columns]"
      ]
     },
     "execution_count": 2,
     "metadata": {},
     "output_type": "execute_result"
    }
   ],
   "source": [
    "data=pd.read_csv(\"D:\\\\tala\\\\titanic\\\\titanic.csv\")\n",
    "data.head()"
   ]
  },
  {
   "cell_type": "code",
   "execution_count": 3,
   "id": "b23a66f6",
   "metadata": {},
   "outputs": [
    {
     "name": "stdout",
     "output_type": "stream",
     "text": [
      "<class 'pandas.core.frame.DataFrame'>\n",
      "RangeIndex: 1309 entries, 0 to 1308\n",
      "Data columns (total 21 columns):\n",
      " #   Column       Non-Null Count  Dtype  \n",
      "---  ------       --------------  -----  \n",
      " 0   PassengerId  1309 non-null   int64  \n",
      " 1   Survived     891 non-null    float64\n",
      " 2   Pclass       1309 non-null   int64  \n",
      " 3   Name         1309 non-null   object \n",
      " 4   Sex          1309 non-null   object \n",
      " 5   Age          1046 non-null   float64\n",
      " 6   SibSp        1309 non-null   int64  \n",
      " 7   Parch        1309 non-null   int64  \n",
      " 8   Ticket       1309 non-null   object \n",
      " 9   Fare         1308 non-null   float64\n",
      " 10  Cabin        295 non-null    object \n",
      " 11  Embarked     1307 non-null   object \n",
      " 12  WikiId       1304 non-null   float64\n",
      " 13  Name_wiki    1304 non-null   object \n",
      " 14  Age_wiki     1302 non-null   float64\n",
      " 15  Hometown     1304 non-null   object \n",
      " 16  Boarded      1304 non-null   object \n",
      " 17  Destination  1304 non-null   object \n",
      " 18  Lifeboat     502 non-null    object \n",
      " 19  Body         130 non-null    object \n",
      " 20  Class        1304 non-null   float64\n",
      "dtypes: float64(6), int64(4), object(11)\n",
      "memory usage: 214.9+ KB\n"
     ]
    }
   ],
   "source": [
    "data.info()"
   ]
  },
  {
   "cell_type": "code",
   "execution_count": 4,
   "id": "a50e5c32",
   "metadata": {},
   "outputs": [
    {
     "data": {
      "text/plain": [
       "PassengerId       0\n",
       "Survived        418\n",
       "Pclass            0\n",
       "Name              0\n",
       "Sex               0\n",
       "Age             263\n",
       "SibSp             0\n",
       "Parch             0\n",
       "Ticket            0\n",
       "Fare              1\n",
       "Cabin          1014\n",
       "Embarked          2\n",
       "WikiId            5\n",
       "Name_wiki         5\n",
       "Age_wiki          7\n",
       "Hometown          5\n",
       "Boarded           5\n",
       "Destination       5\n",
       "Lifeboat        807\n",
       "Body           1179\n",
       "Class             5\n",
       "dtype: int64"
      ]
     },
     "execution_count": 4,
     "metadata": {},
     "output_type": "execute_result"
    }
   ],
   "source": [
    "data.isnull().sum()"
   ]
  },
  {
   "cell_type": "code",
   "execution_count": 5,
   "id": "ddf32ef1",
   "metadata": {},
   "outputs": [],
   "source": [
    "data=data.drop([\"PassengerId\"] , axis=1)"
   ]
  },
  {
   "cell_type": "code",
   "execution_count": 6,
   "id": "9d92eecf",
   "metadata": {},
   "outputs": [],
   "source": [
    "data=data.drop([\"Name\"] , axis=1)"
   ]
  },
  {
   "cell_type": "code",
   "execution_count": 7,
   "id": "923c8de0",
   "metadata": {},
   "outputs": [
    {
     "data": {
      "text/html": [
       "<div>\n",
       "<style scoped>\n",
       "    .dataframe tbody tr th:only-of-type {\n",
       "        vertical-align: middle;\n",
       "    }\n",
       "\n",
       "    .dataframe tbody tr th {\n",
       "        vertical-align: top;\n",
       "    }\n",
       "\n",
       "    .dataframe thead th {\n",
       "        text-align: right;\n",
       "    }\n",
       "</style>\n",
       "<table border=\"1\" class=\"dataframe\">\n",
       "  <thead>\n",
       "    <tr style=\"text-align: right;\">\n",
       "      <th></th>\n",
       "      <th>Survived</th>\n",
       "      <th>Pclass</th>\n",
       "      <th>Sex</th>\n",
       "      <th>Age</th>\n",
       "      <th>SibSp</th>\n",
       "      <th>Parch</th>\n",
       "      <th>Ticket</th>\n",
       "      <th>Fare</th>\n",
       "      <th>Cabin</th>\n",
       "      <th>Embarked</th>\n",
       "      <th>WikiId</th>\n",
       "      <th>Name_wiki</th>\n",
       "      <th>Hometown</th>\n",
       "      <th>Boarded</th>\n",
       "      <th>Destination</th>\n",
       "      <th>Lifeboat</th>\n",
       "      <th>Body</th>\n",
       "      <th>Class</th>\n",
       "    </tr>\n",
       "  </thead>\n",
       "  <tbody>\n",
       "    <tr>\n",
       "      <th>0</th>\n",
       "      <td>0.0</td>\n",
       "      <td>3</td>\n",
       "      <td>male</td>\n",
       "      <td>22.0</td>\n",
       "      <td>1</td>\n",
       "      <td>0</td>\n",
       "      <td>A/5 21171</td>\n",
       "      <td>7.25</td>\n",
       "      <td>NaN</td>\n",
       "      <td>S</td>\n",
       "      <td>691.0</td>\n",
       "      <td>Braund, Mr. Owen Harris</td>\n",
       "      <td>Bridgerule, Devon, England</td>\n",
       "      <td>Southampton</td>\n",
       "      <td>Qu'Appelle Valley, Saskatchewan, Canada</td>\n",
       "      <td>NaN</td>\n",
       "      <td>NaN</td>\n",
       "      <td>3.0</td>\n",
       "    </tr>\n",
       "  </tbody>\n",
       "</table>\n",
       "</div>"
      ],
      "text/plain": [
       "   Survived  Pclass   Sex   Age  SibSp  Parch     Ticket  Fare Cabin Embarked  \\\n",
       "0       0.0       3  male  22.0      1      0  A/5 21171  7.25   NaN        S   \n",
       "\n",
       "   WikiId                Name_wiki                    Hometown      Boarded  \\\n",
       "0   691.0  Braund, Mr. Owen Harris  Bridgerule, Devon, England  Southampton   \n",
       "\n",
       "                               Destination Lifeboat Body  Class  \n",
       "0  Qu'Appelle Valley, Saskatchewan, Canada      NaN  NaN    3.0  "
      ]
     },
     "execution_count": 7,
     "metadata": {},
     "output_type": "execute_result"
    }
   ],
   "source": [
    "data=data.drop(\"Age_wiki\" , axis=1)\n",
    "data.head(1)"
   ]
  },
  {
   "cell_type": "code",
   "execution_count": 8,
   "id": "959706a5",
   "metadata": {},
   "outputs": [],
   "source": [
    "data=data.drop([\"Ticket\"] , axis=1)"
   ]
  },
  {
   "cell_type": "code",
   "execution_count": 9,
   "id": "ffdbe26b",
   "metadata": {},
   "outputs": [],
   "source": [
    "data=data.drop([\"Class\"] , axis=1)"
   ]
  },
  {
   "cell_type": "code",
   "execution_count": 10,
   "id": "d60d844c",
   "metadata": {},
   "outputs": [
    {
     "data": {
      "text/plain": [
       "dtype('float64')"
      ]
     },
     "execution_count": 10,
     "metadata": {},
     "output_type": "execute_result"
    }
   ],
   "source": [
    "data[\"Survived\"].dtype"
   ]
  },
  {
   "cell_type": "code",
   "execution_count": 11,
   "id": "c0ad5ac8",
   "metadata": {},
   "outputs": [
    {
     "data": {
      "text/plain": [
       "418"
      ]
     },
     "execution_count": 11,
     "metadata": {},
     "output_type": "execute_result"
    }
   ],
   "source": [
    "data[\"Survived\"].isnull().sum()"
   ]
  },
  {
   "cell_type": "code",
   "execution_count": 12,
   "id": "72f56605",
   "metadata": {},
   "outputs": [],
   "source": [
    "data=data.dropna(subset=[\"Survived\"])"
   ]
  },
  {
   "cell_type": "code",
   "execution_count": 13,
   "id": "d1cf01c7",
   "metadata": {},
   "outputs": [
    {
     "data": {
      "text/plain": [
       "0"
      ]
     },
     "execution_count": 13,
     "metadata": {},
     "output_type": "execute_result"
    }
   ],
   "source": [
    "data[\"Survived\"].isnull().sum()"
   ]
  },
  {
   "cell_type": "code",
   "execution_count": 14,
   "id": "20577ffd",
   "metadata": {},
   "outputs": [],
   "source": [
    "data[\"Survived\"]=data[\"Survived\"].astype(\"int\")"
   ]
  },
  {
   "cell_type": "code",
   "execution_count": 15,
   "id": "c7b12c5b",
   "metadata": {},
   "outputs": [
    {
     "data": {
      "text/plain": [
       "dtype('int32')"
      ]
     },
     "execution_count": 15,
     "metadata": {},
     "output_type": "execute_result"
    }
   ],
   "source": [
    "data[\"Survived\"].dtype"
   ]
  },
  {
   "cell_type": "code",
   "execution_count": 16,
   "id": "e554d6bf",
   "metadata": {},
   "outputs": [
    {
     "name": "stdout",
     "output_type": "stream",
     "text": [
      "<class 'pandas.core.frame.DataFrame'>\n",
      "Int64Index: 891 entries, 0 to 890\n",
      "Data columns (total 16 columns):\n",
      " #   Column       Non-Null Count  Dtype  \n",
      "---  ------       --------------  -----  \n",
      " 0   Survived     891 non-null    int32  \n",
      " 1   Pclass       891 non-null    int64  \n",
      " 2   Sex          891 non-null    object \n",
      " 3   Age          714 non-null    float64\n",
      " 4   SibSp        891 non-null    int64  \n",
      " 5   Parch        891 non-null    int64  \n",
      " 6   Fare         891 non-null    float64\n",
      " 7   Cabin        204 non-null    object \n",
      " 8   Embarked     889 non-null    object \n",
      " 9   WikiId       889 non-null    float64\n",
      " 10  Name_wiki    889 non-null    object \n",
      " 11  Hometown     889 non-null    object \n",
      " 12  Boarded      889 non-null    object \n",
      " 13  Destination  889 non-null    object \n",
      " 14  Lifeboat     345 non-null    object \n",
      " 15  Body         87 non-null     object \n",
      "dtypes: float64(3), int32(1), int64(3), object(9)\n",
      "memory usage: 114.9+ KB\n"
     ]
    }
   ],
   "source": [
    "data.info()"
   ]
  },
  {
   "cell_type": "code",
   "execution_count": 17,
   "id": "7b8b1e6b",
   "metadata": {},
   "outputs": [
    {
     "data": {
      "text/plain": [
       "3    491\n",
       "1    216\n",
       "2    184\n",
       "Name: Pclass, dtype: int64"
      ]
     },
     "execution_count": 17,
     "metadata": {},
     "output_type": "execute_result"
    }
   ],
   "source": [
    "data[\"Pclass\"].value_counts()"
   ]
  },
  {
   "cell_type": "code",
   "execution_count": 18,
   "id": "383a40ad",
   "metadata": {},
   "outputs": [
    {
     "data": {
      "text/plain": [
       "<AxesSubplot:xlabel='Pclass', ylabel='count'>"
      ]
     },
     "execution_count": 18,
     "metadata": {},
     "output_type": "execute_result"
    },
    {
     "data": {
      "image/png": "iVBORw0KGgoAAAANSUhEUgAAAYcAAAEJCAYAAAB/pOvWAAAAOXRFWHRTb2Z0d2FyZQBNYXRwbG90bGliIHZlcnNpb24zLjUuMSwgaHR0cHM6Ly9tYXRwbG90bGliLm9yZy/YYfK9AAAACXBIWXMAAAsTAAALEwEAmpwYAAAfLUlEQVR4nO3df1hUdaI/8PeBAfyFZjgjXnTZjTSKrmGav1L49rQMKKCEWoLKmqlYKqu1kgIr10xhkc1vpD25LXrXH3UlU1AfBMtaWxeNnDYNl8xM7II2DKjAEDMwzLl/uE2xR2FGOXNgeL+ep+fhfDhz5j1OzHvmc+acI4iiKIKIiOhn3JQOQEREXQ/LgYiIJFgOREQkwXIgIiIJlgMREUmwHIiISILlQEREEiqlA3SW69cbYbXykA0iInu4uQkYOLDvbX/vMuVgtYosByKiTsJpJSIikmA5EBGRhMtMK92KKIq4ft2A5mYTAFeZchLg6dkLAweqIQiC0mGIyEW5dDkYjXUQBAGDBw+FILjGhyRRtOLGjRoYjXXw9r5H6ThE5KJc4xXzNpqajPD2vsdligEABMEN3t4D0dRkVDoKEbkw13nVvAWrtRXu7q734cjdXQWrtVXpGETkwly6HAC45Ly8Kz4mIupaXO9ttR3Kyr7Etm1bUF9fB6vVCo3GF0uX/hb33Rdw19vOz9+HhgYj5s2bf9fb+uqrfyIt7WXs23forrdFpDTv/r3Qy8tD6RgOMZlb0FBvUjqGInpcOTQ3N+Pll1fgtde24oEHAgEAxcWF+N3vkvDeewfh7u5+V9uPiZnZGTGJXE4vLw/EJ+9ROoZD3smagwawHHoEk8kEo9GIpqYfbGNa7RT07dsXOt1neOON17BrVx4A4PPPT2Pz5izs2pWH3NxtOHfuS9TUGPCrXwXgyy/PYOPGbAQGPggAWLt2DUaNGo1r12pRV3cDkyaFYsuWzdi5cy8AoKGhAbNmTUNeXgHMZhNeey0Lev33aG214MkntUhIWAAAOHBgH/bufQf9+vXrlE8yRER3oseVQ//+/fH888vx0kvLce+9gzBy5EiMGjUGv/51OP75z7J2b/v991exc+deqFQq5OZuQ2HhQQQGPoj6+nqcPl2K5ORU7N17853RY4+NQ1NTE7766p8IDHwIH35YjIkTJ6F///5ISkrG00/HY9KkEJjNZqxa9Vv4+Q3DL37xC2zf/if893+/Ax+fQdi0aaMz/kmIiCRcfof0rcyePReHDh3FihW/g4/PIOzZ8xc8+2w8Ghvb/3poUNB/QqW62aeRkdPw0UcfoqWlBR9+WIxJk0LQr18/27qCICAychoKC2/uLygsPIjo6Bg0NTXhiy8+x5///Bbmz49HYuKz0Ou/xzfffI3Tpz/D2LHj4OMzCAAwbVqsTP8CRETt63GfHM6e/QJlZWcRH5+Axx+fjMcfn4zFi5ciIeEZXLjwNcSfHUhtsVja3LZ37962n319h2DEiECUlPwNhYWHkJT0ouS+IiOnYcGCuYiOjkFDgxGjRo1GY6MRoijirbe2o1evXgCAGzduwNPTEwUF+9vc/93u/yAiulM97pPDPfcMxF/+koszZ76wjdXW1qCx0YjJk/8f9Prvcf36NYiiiA8/LG53W9OmxWD37r/AZGrCyJHBkt+r1Ro8+GAQsrI2Ijp6OgCgb99+CAr6T/zP/+wGcHNfxPPPL8CJE8cxdux4lJaeQnW1HgBw5Ai/pUREyuhxnxx+8Qt/ZGT8EX/601ZUV1fDy8sTffv2w5o16Rg+fASmT4/Fc8/Ng4/PIDz++GSUl5+77bYmTQrFH//4B8yZk3DbdaZNi0Fa2sv4wx9es42lp7+KzZuzkJDwDFpaWvDrX4dDq50CAHjhhST89rfPo0+fvnjwwaDOe+BERA4QRFF0iTPS1dYaJddz+P77y/D19Vcokbxc+bGRa1KrvbvlV1kNhgalY8jCzU2Aj0+/2/5e1k8Or7/+OoqLiyEIAmbOnIlnn30Wa9asgU6ns83fL1u2DGFhYSgvL0dqaioaGxsxZswYrFu3zrbzl4iInEu2V9/S0lKcOnUKBw8ehMViwdSpUxEaGoqysjLs3r0bGo2mzfqrVq3Cq6++iuDgYKSkpCAvLw/x8fFyxSMionbItkN67Nix2LlzJ1QqFWpra9Ha2opevXrhypUrSElJQXR0NHJycmC1WlFVVQWTyYTg4GAAQGxsLIqKiuSKRkREHZB13sbDwwM5OTnYvn07IiIiYLFYMH78eKSnp8Pb2xuJiYnYt28fhg8fDrVabbudWq2GXq936L5uNXdWXe0Glco1v5Dl5uYGtdpb6RhELq+n/p3JPqmflJSERYsWYcmSJTh58iS2bt1q+928efOQn5+PgICANmcaFUXR4TOP3mqHtNVqhcVivbsH0EVZrVaX3VFGrqm7vsi66t9ZRzukZXtbffHiRZSXlwO4efCYVqtFYWEhiot/OnZAFEWoVCr4+vrCYDDYxmtqaiT7JIiIyHlkK4fKykqkpaWhubkZzc3NOHbsGB577DFs3LgRdXV1aGlpwd69exEWFgY/Pz94eXlBp9MBAAoKChASEiJXNCIi6oBs00qhoaE4e/YsYmJi4O7uDq1Wi2XLlmHgwIGIi4uDxWKBVqtFVFQUACA7OxtpaWkwGo0ICgpCQsLtDyzrTHKdY97e88AfPVqEnTtzYbFYMGtWHGbMeLrTsxAROarHHwQn14E59hw8YzBU44UXFiI3dxc8PDyxZMkC/Nd/bcCvfnVfh9vnQXDU3fAguK5FsX0O1LHTp0vx6KNj0L//APTu3RtPPPEk/vrXY0rHIiJiOSippsZgOz03APj4DEJ1dbWCiYiIbmI5KMhqtUq+wuvm5thXeImI5MByUJBGMxi1tTW25WvXajFokLqdWxAROQfLQUFjxoyFTvcZrl+/DpPJhL/+9SOMGzdB6VhERD3veg7/zmRuwTtZc2TZbkfUag0WLXoBSUmJaGmxIDp6Oh566OFOz0JE5KgeXw4N9SY0oOPjEeSi1UZAq41Q7P6JiG6F00pERCTBciAiIgmWAxERSbAciIhIguVAREQSLAciIpLo8V9lHTjAEypPr07frqXZjOt1zXat29hoxJIlC5CV9f8xZMh/dHoWIiJH9fhyUHl6QZe1sNO3Ozr5zwA6Lodz58qQlfUq/vd/v+v0DEREd4rTSgo7dOgAXnzxZZ5TiYi6lB7/yUFpq1f/XukIREQS/ORAREQSLAciIpKQtRxef/11TJ06FZGRkdixYwcAoKSkBNHR0dBqtdi8ebNt3fLycsTGxiI8PBypqamwWCxyRiMionbIVg6lpaU4deoUDh48iPfffx+7du3CV199hZSUFLz55psoLCxEWVkZjh8/DgBYtWoV1q5di+LiYoiiiLy8PLmiERFRB2TbIT127Fjs3LkTKpUKer0era2tqK+vh7+/P4YNGwYAiI6ORlFREe6//36YTCYEBwcDAGJjY5GTk4P4+Hi54tlYms3/+tpp52/XEfv2Her0DEREd0rWbyt5eHggJycH27dvR0REBKqrq6FW//SVTY1GA71eLxlXq9XQ6/UO3ZePTz/JWHW1G1Sq9j8cNTRagEZ5prA6uu+74ebmBrXaW7btE9FNPfXvTPavsiYlJWHRokVYsmQJKioqIAiC7XeiKEIQBFit1luOO6K21girVWwzZrVaYbFY7+4BdFFWqxUGQ4PSMYjs1l1fZF3178zNTbjlm2rb7+W644sXL6K8vBwA0Lt3b2i1Wnz66acwGAy2dQwGAzQaDXx9fduM19TUQKPRyBWNiIg6IFs5VFZWIi0tDc3NzWhubsaxY8cwe/ZsXLp0CZcvX0ZraysOHz6MkJAQ+Pn5wcvLCzqdDgBQUFCAkJCQTskhimLHK3UzrviYiKhrkW1aKTQ0FGfPnkVMTAzc3d2h1WoRGRmJe++9F8uXL4fZbEZoaCgiIm5ePzk7OxtpaWkwGo0ICgpCQkLCXWdQqTzR2FiPvn37OzxN1VWJoojGxnqoVJ5KRyEiFyaILvI29Fb7HFpbLbh+3QCLxb6zo3YXKpUnBg5Uw92dZz+h7kOt9kZ88h6lYzjknaw5PXafg0u/uri7qzBo0BClYxARdTs8fQYREUmwHIiISILlQEREEiwHIiKSYDkQEZEEy4GIiCRYDkREJMFyICIiCZYDERFJsByIiEiC5UBERBIsByIikmA5EBGRBMuBiIgkWA5ERCTBciAiIgmWAxERSch6JbgtW7bgyJEjAG5eUzo5ORlr1qyBTqdD7969AQDLli1DWFgYysvLkZqaisbGRowZMwbr1q2DSuXSF6ojIuqyZHv1LSkpwYkTJ3DgwAEIgoCFCxfigw8+QFlZGXbv3g2NRtNm/VWrVuHVV19FcHAwUlJSkJeXh/j4eLniERFRO2SbVlKr1Vi9ejU8PT3h4eGBgIAAXLlyBVeuXEFKSgqio6ORk5MDq9WKqqoqmEwmBAcHAwBiY2NRVFQkVzQiIuqAbJ8chg8fbvu5oqICR44cwZ49e1BaWor09HR4e3sjMTER+/btw/Dhw6FWq23rq9Vq6PV6uaIREVEHZJ/Uv3DhAhITE5GcnIz77rsPW7dutf1u3rx5yM/PR0BAAARBsI2Lothm2R4+Pv06LTMR0Y/Uam+lIyhC1nLQ6XRISkpCSkoKIiMjcf78eVRUVCA8PBzAzRJQqVTw9fWFwWCw3a6mpkayT6IjtbVGWK1ip+Ynos7TXV9kDYYGpSPIws1NaPdNtWz7HK5evYqlS5ciOzsbkZGRAG6WwcaNG1FXV4eWlhbs3bsXYWFh8PPzg5eXF3Q6HQCgoKAAISEhckUjIqIOyPbJITc3F2azGZmZmbax2bNnY/HixYiLi4PFYoFWq0VUVBQAIDs7G2lpaTAajQgKCkJCQoJc0YiIqAOCKIouMRfDaSWirk2t9kZ88h6lYzjknaw5nFYiIiL6EcuBiIgkWA5ERCTBciAiIgmWAxERSbAciIhIguVAREQSLAciIpJgORARkQTLgYiIJFgOREQkwXIgIiIJlgMREUnYVQ63umTnN9980+lhiIioa2i3HG7cuIEbN25g0aJFqKursy3X1NRg2bJlzspIRERO1u7Ffl566SX8/e9/BwCMGzfupxupVLZLfRIRketptxxyc3MBAGvWrEFGRoZTAhERkfLsukxoRkYGqqqqUFdXh59fOC4oKEi2YEREpBy7yiEnJwe5ubnw8fGxjQmCgGPHjskWjIiIlGNXOeTn5+Po0aMYPHiwQxvfsmULjhw5AgAIDQ1FcnIySkpKkJGRAbPZjClTpmDlypUAgPLycqSmpqKxsRFjxozBunXroFLZFY+IiDqZXV9lHTJkiMPFUFJSghMnTuDAgQPIz8/HuXPncPjwYaSkpODNN99EYWEhysrKcPz4cQDAqlWrsHbtWhQXF0MUReTl5Tn+aIiIqFPYVQ4TJkxAVlYWdDodzp07Z/uvPWq1GqtXr4anpyc8PDwQEBCAiooK+Pv7Y9iwYVCpVIiOjkZRURGqqqpgMpkQHBwMAIiNjUVRUdFdPzgiIrozds3b7N+/HwDavGB3tM9h+PDhtp8rKipw5MgRzJ07F2q12jau0Wig1+tRXV3dZlytVt/ywDsiInIOu8rho48+uuM7uHDhAhITE5GcnAx3d3dUVFTYfieKIgRBgNVqhSAIknFH+Pj0u+OMRES3o1Z7Kx1BEXaVw44dO245/uyzz7Z7O51Oh6SkJKSkpCAyMhKlpaUwGAy23xsMBmg0Gvj6+rYZr6mpgUajsSeaTW2tEVar2PGKRKSI7voiazA0KB1BFm5uQrtvqu0qh6+//tr2c3NzMz777DNMmDCh3dtcvXoVS5cuxebNm23rPvLII7h06RIuX76MoUOH4vDhw5gxYwb8/Pzg5eUFnU6H0aNHo6CgACEhIfZEIyIiGdh9ENzP6fV6pKamtnub3NxcmM1mZGZm2sZmz56NzMxMLF++HGazGaGhoYiIiAAAZGdnIy0tDUajEUFBQUhISHD0sRARUScRxJ8f8uyAKVOm2I5h6Ao4rUTUtanV3ohP3qN0DIe8kzWH00rt+fk+B1EUUVZW1uZoaSIici0O73MAbh4Ul5ycLEsgIiJSnkP7HKqqqmCxWODv7y9rKCIiUpZd5XD58mW88MILqK6uhtVqxcCBA7Ft2zYEBATInY+IiBRg1+kzXnnlFSxcuBCfffYZdDodnn/+eaxbt07ubEREpBC7yqG2thZPPfWUbXnGjBm4fv26bKGIiEhZdpVDa2srbty4YVu+du2aXHmIiKgLsGufw9y5c/HMM89gypQpEAQBhYWF+M1vfiN3NiIiUohdnxxCQ0MBAC0tLbh48SL0ej3CwsJkDUZERMqx65PD6tWrMWfOHCQkJMBsNuPdd99FSkoK3n77bbnzERGRAuz65HD9+nXbuY68vLwwf/78NmdRJSIi12L3DumfX3ynpqYGd3hKJiIi6gbsmlaaP38+YmJiMHnyZAiCgJKSEp4+g4jIhdlVDjNnzsTDDz+MU6dOwd3dHc899xxGjBghdzYiIlKIXeUAAIGBgQgMDJQzCxERdRF27XMgIqKeheVAREQSLAciIpJgORARkYSs5WA0GhEVFYXKykoAwJo1a6DVajF9+nRMnz4dH3zwAQCgvLwcsbGxCA8PR2pqKiwWi5yxiIioA7KVw5kzZxAXF4eKigrbWFlZGXbv3o2CggIUFBTYzs+0atUqrF27FsXFxRBFEXl5eXLFIiIiO8hWDnl5eUhPT4dGowEANDU14cqVK0hJSUF0dDRycnJgtVpRVVUFk8mE4OBgAEBsbCyKiorkikVERHaw+zgHR23YsKHNck1NDcaPH4/09HR4e3sjMTER+/btw/Dhw6FWq23rqdXqNqfqICIi55OtHP7dsGHDsHXrVtvyvHnzkJ+fj4CAAAiCYBsXRbHNsr18fPp1Sk4iop9Tq72VjqAIp5XD+fPnUVFRgfDwcAA3S0ClUsHX17fNGV5rampsU1GOqK01wmrlyQCJuqru+iJrMDQoHUEWbm5Cu2+qnfZVVlEUsXHjRtTV1aGlpQV79+5FWFgY/Pz84OXlBZ1OBwAoKChASEiIs2IREdEtOO2TQ2BgIBYvXoy4uDhYLBZotVpERUUBALKzs5GWlgaj0YigoCDbtSOIiEgZgugiF2bgtBJR16ZWeyM+eY/SMRzyTtYcTisRERH9iOVAREQSLAciIpJw2g5punMDB3hC5emldAyHWJrNuF7XrHQMIrpDLIduQOXpBV3WQqVjOGR08p8BsByIuitOKxERkQTLgYiIJFgOREQkwXIgIiIJlgMREUmwHIiISILlQEREEjzOgYjoNqyWlm53HYrOOgCV5UBEdBtuKo8eewAqp5WIiEiC5UBERBIsByIikmA5EBGRBMuBiIgkZC0Ho9GIqKgoVFZWAgBKSkoQHR0NrVaLzZs329YrLy9HbGwswsPDkZqaCovFImcsIiLqgGzlcObMGcTFxaGiogIAYDKZkJKSgjfffBOFhYUoKyvD8ePHAQCrVq3C2rVrUVxcDFEUkZeXJ1csIiKyg2zlkJeXh/T0dGg0GgDA2bNn4e/vj2HDhkGlUiE6OhpFRUWoqqqCyWRCcHAwACA2NhZFRUVyxSIiIjvIdhDchg0b2ixXV1dDrVbbljUaDfR6vWRcrVZDr9fLFYuIiOzgtCOkrVYrBEGwLYuiCEEQbjvuKB+ffp2SkzpPdzvtAJGr6Iy/PaeVg6+vLwwGg23ZYDBAo9FIxmtqamxTUY6orTXCahU7JWtX011fZA2Ghk7fpnf/Xujl5dHp25WLydyChnqT0jG6hO76/3F3ZM/fnpub0O6baqeVwyOPPIJLly7h8uXLGDp0KA4fPowZM2bAz88PXl5e0Ol0GD16NAoKChASEuKsWNTN9PLyQHzyHqVj2O2drDloAMuBuh+nlYOXlxcyMzOxfPlymM1mhIaGIiIiAgCQnZ2NtLQ0GI1GBAUFISEhwVmxiIjoFmQvh48++sj284QJE3Dw4EHJOoGBgdi3b5/cUYiIyE48QpqIiCRYDkREJMGL/RDJqCdfSYy6N5YDkYx68pXEqHvjtBIREUmwHIiISKLHTSt1tyNsiYiU0OPKobsdYQvcPMqWiMiZOK1EREQSLAciIpJgORARkQTLgYiIJFgOREQkwXIgIiIJlgMREUmwHIiISILlQEREEiwHIiKSYDkQEZGEIudWmjdvHq5duwaV6ubdv/LKK2hsbERGRgbMZjOmTJmClStXKhGNiIigQDmIooiKigp8/PHHtnIwmUyIiIjArl27MGTIECQmJuL48eMIDQ11djwiIoIC5fDtt98CABYsWIAbN27g6aefxogRI+Dv749hw4YBAKKjo1FUVMRyICJSiNPLob6+HhMmTMDvf/97tLS0ICEhAQsXLoRarbato9FooNfrHdquj0+/zo5Kd6m7XTuZfsLnrnvrjOfP6eUwatQojBo1yrY8c+ZM5OTkYPTo0bYxURQhCIJD262tNcJqFTtcj//TO4/B0NDp2+Tz5xx87ro3e54/Nzeh3TfVTv+20unTp3Hy5EnbsiiK8PPzg8FgsI0ZDAZoNBpnRyMion9xejk0NDQgKysLZrMZRqMRBw4cwIsvvohLly7h8uXLaG1txeHDhxESEuLsaERE9C9On1Z64okncObMGcTExMBqtSI+Ph6jRo1CZmYmli9fDrPZjNDQUERERDg7GhER/YsixzmsWLECK1asaDM2YcIEHDx4UIk4RET0b3iENBERSbAciIhIguVAREQSLAciIpJgORARkQTLgYiIJFgOREQkwXIgIiIJlgMREUmwHIiISILlQEREEiwHIiKSYDkQEZEEy4GIiCRYDkREJMFyICIiCZYDERFJsByIiEiC5UBERBJdqhwOHTqEqVOnQqvVYs+ePUrHISLqsVRKB/iRXq/H5s2bsX//fnh6emL27NkYN24c7r//fqWjERH1OF2mHEpKSjB+/Hjcc889AIDw8HAUFRVh2bJldt3ezU2w+74GDex7JxEV5dnfR+kIDnPkOXFEd3v++Nz9pLs9d4DrPn8drSOIoih2VqC7sW3bNvzwww9YuXIlAOC9997D2bNnsX79eoWTERH1PF1mn4PVaoUg/NRkoii2WSYiIufpMuXg6+sLg8FgWzYYDNBoNAomIiLqubpMOUycOBEnT57EtWvX0NTUhKNHjyIkJETpWEREPVKX2SE9ePBgrFy5EgkJCWhpacHMmTMxcuRIpWMREfVIXWaHNBERdR1dZlqJiIi6DpYDERFJsByIiEiC5UBERBIshy7OaDQiKioKlZWVSkchB23ZsgWRkZGIjIxEVlaW0nHIAa+//jqmTp2KyMhI7NixQ+k4imA5dGFnzpxBXFwcKioqlI5CDiopKcGJEydw4MAB5Ofn49y5c/jggw+UjkV2KC0txalTp3Dw4EG8//772LVrF7799lulYzkdy6ELy8vLQ3p6Oo8U74bUajVWr14NT09PeHh4ICAgAFeuXFE6Ftlh7Nix2LlzJ1QqFWpra9Ha2oo+ffooHcvpusxBcCS1YcMGpSPQHRo+fLjt54qKChw5cgTvvvuugonIER4eHsjJycH27dsRERGBwYMHKx3J6fjJgUhGFy5cwIIFC5CcnIxf/vKXSschByQlJeHkyZO4evUq8vLylI7jdCwHIpnodDrMnz8fL730Ep566iml45CdLl68iPLycgBA7969odVqcf78eYVTOR/LgUgGV69exdKlS5GdnY3IyEil45ADKisrkZaWhubmZjQ3N+PYsWMYPXq00rGcjvsciGSQm5sLs9mMzMxM29js2bMRFxenYCqyR2hoKM6ePYuYmBi4u7tDq9X2yILnifeIiEiC00pERCTBciAiIgmWAxERSbAciIhIguVAREQS/CorUTsqKysRFhaGESNG2MZEUURCQgJmzpx5y9vs378fxcXF2LZtm7NiEnU6lgNRB3r16oWCggLbsl6vR1RUFB5++GEEBgYqmIxIPiwHIgcNHjwY/v7+qKiowPHjx3HgwAGoVCr4+/u3OegNAL744gts2rQJzc3NMBgMmDhxIjZu3AiLxYL169fj888/h4eHB4YOHYqMjAx4eXndcrxv374KPVrqqVgORA76xz/+ge+++w5NTU3Yv38/8vLyMGDAAGRkZGD37t1tzuC5c+dOJCUlYdy4cWhsbMSTTz6JsrIymEwmlJaWorCwEIIgYNOmTTh//jysVustxx999FEFHzH1RCwHog6YTCZMnz4dANDa2oqBAwdi06ZN+Nvf/oaIiAgMGDAAALBmzRoAN/c5/CgzMxOffPIJ3nrrLXz77bcwm8344YcfEBgYCHd3d8yaNQuTJk1CeHg4Ro4cifr6+luOEzkby4GoA/++z+FHJSUlEATBtlxfX4/6+vo268ydOxcPPPAAJk+ejClTpuDMmTMQRRH9+/dHQUEBPv/8c5w6dQorVqzAc889hzlz5tx2nMiZWA5Ed2jixInIysrCwoUL0a9fP7zxxhsQRREPPfQQgJtl8eWXX+Ltt9/GgAED8Omnn+K7776D1WrFxx9/jO3bt2PHjh147LHHIIoiysrKbjtO5GwsB6I7FBoaim+++cZ2ptX7778f69evx9GjRwEA/fv3x+LFi/HUU0+hT58+GDx4MB599FFcvnwZs2bNwieffIKoqCj06dMHAwYMwPr16zFkyJBbjhM5G8/KSkREEjxCmoiIJFgOREQkwXIgIiIJlgMREUmwHIiISILlQEREEiwHIiKSYDkQEZHE/wFrkyxKOvbRvgAAAABJRU5ErkJggg==\n",
      "text/plain": [
       "<Figure size 432x288 with 1 Axes>"
      ]
     },
     "metadata": {},
     "output_type": "display_data"
    }
   ],
   "source": [
    "sns.countplot(x=\"Pclass\" , hue=\"Survived\" , data=data)"
   ]
  },
  {
   "cell_type": "code",
   "execution_count": 19,
   "id": "ef186db0",
   "metadata": {},
   "outputs": [
    {
     "data": {
      "text/plain": [
       "<AxesSubplot:xlabel='Pclass', ylabel='count'>"
      ]
     },
     "execution_count": 19,
     "metadata": {},
     "output_type": "execute_result"
    },
    {
     "data": {
      "image/png": "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\n",
      "text/plain": [
       "<Figure size 432x288 with 1 Axes>"
      ]
     },
     "metadata": {},
     "output_type": "display_data"
    }
   ],
   "source": [
    "sns.countplot(x=\"Pclass\" , hue=\"Sex\" , data=data)"
   ]
  },
  {
   "cell_type": "code",
   "execution_count": 20,
   "id": "d553b9a0",
   "metadata": {},
   "outputs": [
    {
     "data": {
      "text/plain": [
       "male      577\n",
       "female    314\n",
       "Name: Sex, dtype: int64"
      ]
     },
     "execution_count": 20,
     "metadata": {},
     "output_type": "execute_result"
    }
   ],
   "source": [
    "data[\"Sex\"].value_counts()"
   ]
  },
  {
   "cell_type": "code",
   "execution_count": 21,
   "id": "552b332c",
   "metadata": {},
   "outputs": [
    {
     "data": {
      "text/plain": [
       "<AxesSubplot:xlabel='Sex', ylabel='count'>"
      ]
     },
     "execution_count": 21,
     "metadata": {},
     "output_type": "execute_result"
    },
    {
     "data": {
      "image/png": "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\n",
      "text/plain": [
       "<Figure size 432x288 with 1 Axes>"
      ]
     },
     "metadata": {},
     "output_type": "display_data"
    }
   ],
   "source": [
    "sns.countplot(x=\"Sex\" , hue=\"Survived\" , data=data)"
   ]
  },
  {
   "cell_type": "code",
   "execution_count": 22,
   "id": "38f1ee7e",
   "metadata": {},
   "outputs": [
    {
     "data": {
      "text/plain": [
       "<AxesSubplot:xlabel='Sex', ylabel='Age'>"
      ]
     },
     "execution_count": 22,
     "metadata": {},
     "output_type": "execute_result"
    },
    {
     "data": {
      "image/png": "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\n",
      "text/plain": [
       "<Figure size 432x288 with 1 Axes>"
      ]
     },
     "metadata": {},
     "output_type": "display_data"
    }
   ],
   "source": [
    "sns.boxplot(x=\"Sex\" , y=\"Age\" , data=data)"
   ]
  },
  {
   "cell_type": "code",
   "execution_count": 23,
   "id": "b968eb3b",
   "metadata": {},
   "outputs": [
    {
     "data": {
      "text/plain": [
       "<seaborn.axisgrid.FacetGrid at 0x11526f6a700>"
      ]
     },
     "execution_count": 23,
     "metadata": {},
     "output_type": "execute_result"
    },
    {
     "data": {
      "image/png": "iVBORw0KGgoAAAANSUhEUgAAAVwAAAFcCAYAAACEFgYsAAAAOXRFWHRTb2Z0d2FyZQBNYXRwbG90bGliIHZlcnNpb24zLjUuMSwgaHR0cHM6Ly9tYXRwbG90bGliLm9yZy/YYfK9AAAACXBIWXMAAAsTAAALEwEAmpwYAAAY6ElEQVR4nO3df2xV9f3H8Vfbe1vrWhTrvcCwIdGxEA2ULCNaSygYUwr1zu3aKeiEYIhjskJIhpKKkA0lBXHdD8MyM+ISZ8z4UdfS1E60UovFMAiRVYZhGy2MdOUOgVJa2t57z/cPvtzK14313m/v+5Z7n4+/uKfnc8+773v74uRz7/mcNMdxHAEA4i490QUAQKogcAHACIELAEYIXAAwQuACgBECFwCMuBJdwEg5e7ZH4fDwvuE2duzNOneuN84V3RjoxRX0YQi9GBJLLzye3P/4s5Q8w3W5MhJdwqhBL66gD0PoxZCR7kVKBi4AJAKBCwBGCFwAMBLXwO3p6dFDDz2kf/zjH5Kk1tZW+Xw+lZSUqLq6OrLfX/7yF/n9fs2dO1fPP/+8gsFgPMsCgISIW+B+8sknWrhwodrb2yVJly9fVmVlpbZu3aqGhga1tbWpublZkrR69WqtW7dOf/zjH+U4jrZv3x6vsgAgYeIWuNu3b9f69evl9XolSUeOHNGkSZOUn58vl8sln8+nxsZGnT59WpcvX9b06dMlSX6/X42NjfEqCwASJm7fw33ppZeueXzmzBl5PJ7IY6/Xq66uri9t93g86urqivp4eXk5Ue1/ve/KpRp6cQV9GEIvhoxkL8wufAiHw0pLS4s8dhxHaWlp/3F7tKK58MHjyVUgcDHqYyQjenEFfRhCL4bE0otRceHD+PHjFQgEIo8DgYC8Xu+Xtv/rX/+KTEMAQDIxC9yCggKdOHFCHR0dCoVCqq+v16xZszRx4kRlZWXp0KFDkqTa2lrNmjXLqiwAMGM2pZCVlaWqqipVVFSov79fxcXFKi0tlSRt2bJFa9euVU9Pj+655x4tWrTIqiwAMJOWLPc0Yw43NvTiCvowhF4MGek53KRZLQyxG3NLtrIyo3sr9A8E1X2hL04VAcmJwIWyMl1a/fPmqMa8vLI4TtUAyYu1FADACIELAEYIXAAwQuACgBECFwCMELgAYITABQAjBC4AGCFwAcAIgQsARghcADBC4AKAEQIXAIwQuABghMAFACMELgAYIXABwAiBCwBGCFwAMELgAoARAhcAjBC4AGCEwAUAIwQuABghcAHACIELAEYIXAAwQuACgBECFwCMELgAYITABQAjBC4AGCFwAcAIgQsARghcADBC4AKAEVeiC8CNaTAYlseTG9WY/oGgui/0xakiYPQjcBETtytdq3/eHNWYl1cWx6ka4MbAlAIAGOEMF2ZimYaQmIpA8iBwYSaWaQiJqQgkD6YUAMAIgQsARghcADBC4AKAEQIXAIwQuABgJCGBW1tbq7KyMpWVlWnTpk2SpNbWVvl8PpWUlKi6ujoRZQFAXJkHbl9fn1566SW98cYbqq2t1cGDB9XU1KTKykpt3bpVDQ0NamtrU3Nz9N/XBIDRzDxwQ6GQwuGw+vr6FAwGFQwGlZOTo0mTJik/P18ul0s+n0+NjY3WpQFAXJlfaZaTk6OVK1dq3rx5ys7O1owZM3TmzBl5PJ7IPl6vV11dXdalAUBcmQfusWPHtGvXLn3wwQfKzc3Vj370I7W3tystLS2yj+M41zwejry8nKj2j+Wa/mTmdkf/VrAaI9m8XrwnhtCLISPZC/PA3bdvnwoLC5WXlydJ8vv92rZtmzIyMiL7BAIBeb3eqJ737NkehcPOsPb1eHIVCFyM6vmT1dU30+BgMOqxVmMkxf314j0xhF4MiaUX1wto8zncKVOmqLW1Vb29vXIcR01NTSooKNCJEyfU0dGhUCik+vp6zZo1y7o0AIgr8zPcmTNn6ujRo/L7/XK73Zo6daoqKipUVFSkiooK9ff3q7i4WKWlpdal3fDG3JKtrEwWgANGq4T8dT799NN6+umnr9lWWFiourq6RJSTNLIyXVEvf+h2u7TxmaI4VQTgi7jSDACMELgAYITABQAjBC4AGCFwAcAIgQsARghcADBC4AKAEQIXAIwQuABghMAFACMELgAYIXABwAiBCwBGCFwAMMJq1Rj1BoPhqO8r1T8QVPeFvjhVBMSGwMWo53alR72w+ssri+NUDRA7phQAwAiBCwBGCFwAMELgAoARAhcAjBC4AGCEwAUAIwQuABghcAHACIELAEYIXAAwQuACgBECFwCMELgAYITABQAjBC4AGCFwAcAIgQsARghcADBC4AKAEQIXAIwQuABghMAFACMELgAYIXABwAiBCwBGCFwAMELgAoARAhcAjBC4AGCEwAUAIwQuABghcAHASEICt6mpSX6/X/PmzdOLL74oSWptbZXP51NJSYmqq6sTURYAxJV54J46dUrr16/X1q1bVVdXp6NHj6q5uVmVlZXaunWrGhoa1NbWpubmZuvSACCuzAN3z549mj9/vsaPHy+3263q6mplZ2dr0qRJys/Pl8vlks/nU2Njo3VpABBXLusDdnR0yO12a9myZers7NTs2bM1efJkeTyeyD5er1ddXV1RPW9eXk5U+3s8uVHtf6Nwu2N7SWMZZzUm1nHRvsbJ+p6IBb0YMpK9MA/cUCikgwcP6o033tDNN9+sH/zgB7rpppuUlpYW2cdxnGseD8fZsz0Kh51h7evx5CoQuBjV898IPJ5cDQ4GoxpzNciiHWc5JtZx0bzGyfqeiAW9GBJLL64X0OaBe/vtt6uwsFC33XabJOnBBx9UY2OjMjIyIvsEAgF5vV7r0gAgrszncOfMmaN9+/apu7tboVBILS0tKi0t1YkTJ9TR0aFQKKT6+nrNmjXLujQAiCvzM9yCggItXbpUjz/+uAYHB1VUVKSFCxfqzjvvVEVFhfr7+1VcXKzS0lLr0gAgrswDV5LKy8tVXl5+zbbCwkLV1dUlohwAMMGVZgBghMAFACMELgAYIXABwAiBCwBGhhW4lZWVX9q2YsWKES8GAJLZdb8Wtn79enV1denQoUP6/PPPI9uDwaBOnToV9+IAIJlcN3DLy8t1/PhxffbZZ5o7d25ke0ZGhqZPnx7v2gAgqVw3cKdOnaqpU6fq/vvv1/jx461qAoCkNKwrzTo7O7V69WpduHBBjjO0Itfu3bvjVhgAJJthBe66devk9/t19913R71sIgDgimEFrsvl0pIlS+JdCwAktWF9LWzy5Mn67LPP4l0LACS1YZ3hnjp1So888oi++tWvKisrK7KdOVwAGL5hBe6qVaviXQcAJL1hBe7Xv/71eNcBAElvWIF73333KS0t7ZqbO3o8Hn344YdxLQ4AksmwAvfYsWORfw8MDKi+vl4nTpyIW1EAkIyiXi0sMzNTfr9fH330UTzqAYCkNawz3PPnz0f+7TiO2tra1N3dHa+aACApRT2HK0l5eXl6/vnn41oYACSbqOdwAQCxGVbghsNhbdu2TR9++KGCwaCKioq0bNkyuVwJucs6ANyQhvWh2SuvvKKPP/5Yixcv1pIlS3T48GFt3rw53rUBQFIZ1ilqS0uLdu3aJbfbLUmaPXu2vvWtb/3bW+8AAP69YZ3hOo4TCVvpylfDvvgYAPDfDStwp0yZoo0bN+rkyZM6deqUNm7cyOW+ABClYQXu+vXr1d3drQULFui73/2uzp07pxdeeCHetQFAUrlu4A4MDOi5557T/v37VVVVpdbWVk2bNk0ZGRnKycmxqhEAksJ1A/cXv/iFenp69I1vfCOybcOGDeru7tYvf/nLuBcHAMnkuoG7d+9evfLKK8rLy4tsGzdunDZv3qz33nsv7sUBQDK5buC63W7ddNNNX9qek5OjzMzMuBUFAMnouoGbnp6unp6eL23v6elRMBiMW1EAkIyuG7gPPfSQ1q5dq97e3si23t5erV27ViUlJXEvDgCSyXUDd/HixcrNzVVRUZEeffRRlZeXq6ioSGPGjNHy5cutagSApHDdS3vT09O1YcMGLVu2TJ9++qnS09M1bdo0eb1eq/oAIGkMay2FiRMnauLEifGuBQCSWtS32AEAxIYFbZGUBoNheTy5UY0Zc0u2ui/0xakigMBFknK70rX6583D39/t0sZniuJYEcCUAgCYIXABwAiBCwBGCFwAMELgAoARAhcAjBC4AGCEwAUAIwQuABhJaOBu2rRJa9askSS1trbK5/OppKRE1dXViSwLAOIiYYG7f/9+vf3225Kky5cvq7KyUlu3blVDQ4Pa2trU3Dz8yzIB4EaQkMA9f/68qqurtWzZMknSkSNHNGnSJOXn58vlcsnn86mxsTERpQFA3CRk8Zp169Zp1apV6uzslCSdOXNGHo8n8nOv16uurq6onjMvLyeq/W8d+xW5XdH/fzMYDMc0zorbHdtLGss4qzGWx4p2hbFkRR+GjGQvzAN3x44dmjBhggoLC1VTUyNJCofDSktLi+zjOM41j4fj7NkehcPOsPb1eHKjXk3qqpdXFisQuBj1OAseT64GB6O7uefVUIp2nOUYi2Nd7cNofW0teTy59OF/xdKL6wW0eeA2NDQoEAjo4Ycf1oULF9Tb26vTp08rIyMjsk8gEOA2PgCSjnngvv7665F/19TU6MCBA/rxj3+skpISdXR06I477lB9fb0eeeQR69IAIK5GxQLkWVlZqqqqUkVFhfr7+1VcXKzS0tJElwUAIyqhgev3++X3+yVJhYWFqqurS2Q5ABBXo/fjdgBIMgQuABghcAHACIELAEYIXAAwQuACgBECFwCMELgAYITABQAjo+LSXmA0GAyGo16KbzAYktuV8d93/D/6B4LqvtAX9Tjc2Ahc4H/FsmTnyyuLY17mE6mHKQUAMELgAoARAhcAjBC4AGCEwAUAIwQuABghcAHACIELAEYIXAAwQuACgBEu7R2lxtySraxMXh4gmfAXPUplZbpiuq4fwOjFlAIAGCFwAcAIgQsARghcADDCh2ZAAsRydwnuEnHjI3CBBIj17hK4sTGlAABGCFwAMELgAoARAhcAjBC4AGCEwAUAIwQuABghcAHACIELAEYIXAAwQuACgBECFwCMELgAYITABQAjBC4AGCFwAcAIgQsARghcADBC4AKAEQIXAIwkJHBfffVVlZWVqaysTJs3b5Yktba2yufzqaSkRNXV1YkoCwDiyjxwW1tbtW/fPr399tv6wx/+oE8//VT19fWqrKzU1q1b1dDQoLa2NjU3R3dHUwAY7cwD1+PxaM2aNcrMzJTb7dZdd92l9vZ2TZo0Sfn5+XK5XPL5fGpsbLQuDQDiyjxwJ0+erOnTp0uS2tvb9c477ygtLU0ejyeyj9frVVdXl3VpABBXrkQd+Pjx4/r+97+vZ599VhkZGWpvb4/8zHEcpaWlRfV8eXk5Udfgdsf263s8uTGNi1Ys9cX6O1kdKxnrs/ydrN57Vse5EYxkLxISuIcOHdKKFStUWVmpsrIyHThwQIFAIPLzQCAgr9cb1XOePdujcNgZ1r5XGzg4GIzqGFcFAhdjGhcNjyc3pvqiHXP1j97iWLGOsTiWdR9iHWf13rM4zo0gll5cL6DNpxQ6Ozu1fPlybdmyRWVlZZKkgoICnThxQh0dHQqFQqqvr9esWbOsSwOAuDI/w922bZv6+/tVVVUV2bZgwQJVVVWpoqJC/f39Ki4uVmlpqXVpABBX5oG7du1arV279t/+rK6uzrgaALDDlWYAYITABQAjBC4AGCFwAcAIgQsARghcADBC4AKAkYStpQAgOoPBcNTX9fcPBNV9oS9OFSFaBC5wg3C70rX659GtE/3yyuI4VYNYELgGxtySraxMWg2kOlLAQFamizMTAHxoBgBWOMONUiwfXACAROBGjQ8uAMSKKQUAMMIZLpDEYp0CG3NLNt/fjQMCF0hisUyBud0ubXymKE4VpTamFADACIELAEYIXAAwQuACgBE+NAPwJaxMFh8ELoAv4QKf+GBKAQCMELgAYITABQAjBC4AGCFwAcAIgQsARghcADBC4AKAEQIXAIwQuABghMAFACMELgAYIXABwAiBCwBGCFwAMELgAoARFiAHkDBjbslWVmZ0MXQj31mCwAWQMFmZrpS6swRTCgBghDNcACMilhtPphoCF8CI4MaT/x1TCgBghMAFACMELgAYIXABwAiBCwBGCFwAMDKqvha2e/du/epXv1IwGNTixYv1xBNPJLokAKNMrN/3HQyG5HZlRH2skTRqArerq0vV1dWqqalRZmamFixYoHvvvVdf+9rXEl0agFEklu/7Sle+85vo7wmPmsBtbW3Vfffdp1tvvVWSNHfuXDU2NuqHP/zhsManp6dFfcyxuVlRj4l13Ggd43K7zI4V6xiLY1n3wfJYyfiesOx5LNnyn6Q5juOM2LP9P/z6179Wb2+vVq1aJUnasWOHjhw5og0bNiS4MgAYGaPmQ7NwOKy0tKH/SRzHueYxANzoRk3gjh8/XoFAIPI4EAjI6/UmsCIAGFmjJnDvv/9+7d+/X59//rn6+vr07rvvatasWYkuCwBGzKj50GzcuHFatWqVFi1apMHBQZWXl2vatGmJLgsARsyo+dAMAJLdqJlSAIBkR+ACgBECFwCMELgAYCSlAnf37t2aP3++SkpK9Oabbya6HHOvvvqqysrKVFZWps2bN0u6ckm1z+dTSUmJqqurE1yhvU2bNmnNmjWSUrMXTU1N8vv9mjdvnl588UVJqdkHSaqtrY38fWzatElSHHrhpIh//vOfzpw5c5xz5845ly5dcnw+n3P8+PFEl2Xmo48+ch577DGnv7/fGRgYcBYtWuTs3r3bKS4udk6ePOkMDg46Tz31lLN3795El2qmtbXVuffee53nnnvO6evrS7lenDx50pk5c6bT2dnpDAwMOAsXLnT27t2bcn1wHMfp7e11ZsyY4Zw9e9YZHBx0ysvLnffff3/Ee5EyZ7hfXBzn5ptvjiyOkyo8Ho/WrFmjzMxMud1u3XXXXWpvb9ekSZOUn58vl8sln8+XMj05f/68qqurtWzZMknSkSNHUq4Xe/bs0fz58zV+/Hi53W5VV1crOzs75fogSaFQSOFwWH19fQoGgwoGg8rJyRnxXoyaCx/i7cyZM/J4PJHHXq9XR44cSWBFtiZPnhz5d3t7u9555x1973vf+1JPurq6ElGeuXXr1mnVqlXq7OyU9O/fH8nei46ODrndbi1btkydnZ2aPXu2Jk+enHJ9kKScnBytXLlS8+bNU3Z2tmbMmBGX90TKnOGyOM4Vx48f11NPPaVnn31W+fn5KdmTHTt2aMKECSosLIxsS8X3RygU0v79+7Vx40b9/ve/15EjR3Tq1KmU64MkHTt2TLt27dIHH3yglpYWpaenq729fcR7kTJnuOPHj9fBgwcjj1NxcZxDhw5pxYoVqqysVFlZmQ4cOJCSCwY1NDQoEAjo4Ycf1oULF9Tb26vTp08rI2PobgCp0Ivbb79dhYWFuu222yRJDz74oBobG1OuD5K0b98+FRYWKi8vT5Lk9/u1bdu2Ee9FypzhpvriOJ2dnVq+fLm2bNmisrIySVJBQYFOnDihjo4OhUIh1dfXp0RPXn/9ddXX16u2tlYrVqzQAw88oN/85jcp14s5c+Zo37596u7uVigUUktLi0pLS1OuD5I0ZcoUtba2qre3V47jqKmpKS5/Hylzhpvqi+Ns27ZN/f39qqqqimxbsGCBqqqqVFFRof7+fhUXF6u0tDSBVSZOVlZWyvWioKBAS5cu1eOPP67BwUEVFRVp4cKFuvPOO1OqD5I0c+ZMHT16VH6/X263W1OnTlVFRYWKiopGtBcsXgMARlJmSgEAEo3ABQAjBC4AGCFwAcAIgQsARghcpIzBwUHNnDlTS5cuTXQpSFEELlLGnj17NGXKFLW1telvf/tbostBCuJ7uEgZTz75pObPn6/jx48rGAzqJz/5iSTptdde086dO/WVr3xF3/zmN/X++++rqalJAwMD2rJli/70pz8pFArp7rvv1tq1a5WTk5Pg3wQ3Ks5wkRL++te/6vDhwyotLdW3v/1t1dbW6ty5c2ppaVFNTY127typmpoaXbp0KTLmtddeU0ZGhmpqalRXVyev16stW7Yk8LfAjS5lLu1Fanvrrbc0Z84cjR07VmPHjtUdd9yh7du3KxAIqLS0VGPGjJEkPfHEE/r4448lSXv37tXFixfV2toq6coc8NXFTYBYELhIer29vaqtrVVmZqYeeOABSVJPT49+97vfqaysTF+cVfvi6lDhcFiVlZUqLi6WJF26dEn9/f22xSOpMKWApLd7927deuutamlpUVNTk5qamvTee++pt7dX99xzj959911dvHhRkrRz587IuJkzZ+rNN9/UwMCAwuGwXnjhBf30pz9N1K+BJEDgIum99dZbWrJkyTVnr2PGjNGTTz6p3/72t3r00Uf12GOPye/36+LFi8rOzpYkPfPMM5o4caK+853vaP78+XIcJ3LDSSAWfEsBKe3Pf/6zDh8+rEWLFkm6slbuJ598op/97GeJLQxJicBFSuvp6VFlZaX+/ve/Ky0tTRMmTNCGDRs0bty4RJeGJETgAoAR5nABwAiBCwBGCFwAMELgAoARAhcAjBC4AGDkfwA59bYLGocxWwAAAABJRU5ErkJggg==\n",
      "text/plain": [
       "<Figure size 360x360 with 1 Axes>"
      ]
     },
     "metadata": {},
     "output_type": "display_data"
    }
   ],
   "source": [
    "sns.displot(data[\"Age\"])"
   ]
  },
  {
   "cell_type": "code",
   "execution_count": 24,
   "id": "bd69c98d",
   "metadata": {},
   "outputs": [
    {
     "data": {
      "text/plain": [
       "177"
      ]
     },
     "execution_count": 24,
     "metadata": {},
     "output_type": "execute_result"
    }
   ],
   "source": [
    "data[\"Age\"].isnull().sum()"
   ]
  },
  {
   "cell_type": "code",
   "execution_count": 25,
   "id": "f81dabda",
   "metadata": {},
   "outputs": [
    {
     "data": {
      "text/plain": [
       "male      577\n",
       "female    314\n",
       "Name: Sex, dtype: int64"
      ]
     },
     "execution_count": 25,
     "metadata": {},
     "output_type": "execute_result"
    }
   ],
   "source": [
    "data[\"Sex\"].value_counts()"
   ]
  },
  {
   "cell_type": "code",
   "execution_count": 26,
   "id": "92068901",
   "metadata": {},
   "outputs": [
    {
     "name": "stderr",
     "output_type": "stream",
     "text": [
      "<>:6: SyntaxWarning: \"is\" with a literal. Did you mean \"==\"?\n",
      "<>:6: SyntaxWarning: \"is\" with a literal. Did you mean \"==\"?\n",
      "C:\\Users\\Science Pillar\\AppData\\Local\\Temp\\ipykernel_9616\\1555998751.py:6: SyntaxWarning: \"is\" with a literal. Did you mean \"==\"?\n",
      "  if sex is \"male\":\n"
     ]
    }
   ],
   "source": [
    "def null_age(data):\n",
    "    age=data[0]\n",
    "    sex=data[1]\n",
    "    \n",
    "    if pd.isnull(age):\n",
    "        if sex is \"male\":\n",
    "            return np.random.choice([20,21,22,23,24,25,26,27,28,29,30,31,32,33,34,35,36,37,38,39])\n",
    "        else :\n",
    "            return np.random.choice([18,19,20,21,22,23,24,25,26,27,28,29,30,31,32,33,34,35,36,37])\n",
    "    else:\n",
    "        return age"
   ]
  },
  {
   "cell_type": "code",
   "execution_count": 27,
   "id": "6e97b44f",
   "metadata": {},
   "outputs": [],
   "source": [
    "data[\"Age\"]=data[[\"Age\" ,\"Sex\"]].apply(null_age , axis=1)"
   ]
  },
  {
   "cell_type": "code",
   "execution_count": 28,
   "id": "91ec990f",
   "metadata": {},
   "outputs": [
    {
     "data": {
      "text/plain": [
       "0"
      ]
     },
     "execution_count": 28,
     "metadata": {},
     "output_type": "execute_result"
    }
   ],
   "source": [
    "data[\"Age\"].isnull().sum()"
   ]
  },
  {
   "cell_type": "code",
   "execution_count": 29,
   "id": "0be94a58",
   "metadata": {},
   "outputs": [
    {
     "data": {
      "text/plain": [
       "<seaborn.axisgrid.FacetGrid at 0x11526d007f0>"
      ]
     },
     "execution_count": 29,
     "metadata": {},
     "output_type": "execute_result"
    },
    {
     "data": {
      "image/png": "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\n",
      "text/plain": [
       "<Figure size 360x360 with 1 Axes>"
      ]
     },
     "metadata": {},
     "output_type": "display_data"
    }
   ],
   "source": [
    "sns.displot(data[\"Age\"])"
   ]
  },
  {
   "cell_type": "code",
   "execution_count": 30,
   "id": "248eb466",
   "metadata": {},
   "outputs": [
    {
     "name": "stdout",
     "output_type": "stream",
     "text": [
      "<class 'pandas.core.frame.DataFrame'>\n",
      "Int64Index: 891 entries, 0 to 890\n",
      "Data columns (total 16 columns):\n",
      " #   Column       Non-Null Count  Dtype  \n",
      "---  ------       --------------  -----  \n",
      " 0   Survived     891 non-null    int32  \n",
      " 1   Pclass       891 non-null    int64  \n",
      " 2   Sex          891 non-null    object \n",
      " 3   Age          891 non-null    float64\n",
      " 4   SibSp        891 non-null    int64  \n",
      " 5   Parch        891 non-null    int64  \n",
      " 6   Fare         891 non-null    float64\n",
      " 7   Cabin        204 non-null    object \n",
      " 8   Embarked     889 non-null    object \n",
      " 9   WikiId       889 non-null    float64\n",
      " 10  Name_wiki    889 non-null    object \n",
      " 11  Hometown     889 non-null    object \n",
      " 12  Boarded      889 non-null    object \n",
      " 13  Destination  889 non-null    object \n",
      " 14  Lifeboat     345 non-null    object \n",
      " 15  Body         87 non-null     object \n",
      "dtypes: float64(3), int32(1), int64(3), object(9)\n",
      "memory usage: 114.9+ KB\n"
     ]
    }
   ],
   "source": [
    "data.info()"
   ]
  },
  {
   "cell_type": "code",
   "execution_count": 31,
   "id": "6431ab94",
   "metadata": {},
   "outputs": [
    {
     "data": {
      "text/plain": [
       "0"
      ]
     },
     "execution_count": 31,
     "metadata": {},
     "output_type": "execute_result"
    }
   ],
   "source": [
    "data[\"Survived\"].isnull().sum()"
   ]
  },
  {
   "cell_type": "code",
   "execution_count": 32,
   "id": "e40acce3",
   "metadata": {},
   "outputs": [],
   "source": [
    "data=data.dropna(subset=[\"Survived\"] ,axis=0)"
   ]
  },
  {
   "cell_type": "code",
   "execution_count": 33,
   "id": "8e8158a4",
   "metadata": {},
   "outputs": [
    {
     "data": {
      "text/plain": [
       "0"
      ]
     },
     "execution_count": 33,
     "metadata": {},
     "output_type": "execute_result"
    }
   ],
   "source": [
    "data[\"Survived\"].isnull().sum()"
   ]
  },
  {
   "cell_type": "code",
   "execution_count": 34,
   "id": "184e5a25",
   "metadata": {},
   "outputs": [
    {
     "name": "stdout",
     "output_type": "stream",
     "text": [
      "<class 'pandas.core.frame.DataFrame'>\n",
      "Int64Index: 891 entries, 0 to 890\n",
      "Data columns (total 16 columns):\n",
      " #   Column       Non-Null Count  Dtype  \n",
      "---  ------       --------------  -----  \n",
      " 0   Survived     891 non-null    int32  \n",
      " 1   Pclass       891 non-null    int64  \n",
      " 2   Sex          891 non-null    object \n",
      " 3   Age          891 non-null    float64\n",
      " 4   SibSp        891 non-null    int64  \n",
      " 5   Parch        891 non-null    int64  \n",
      " 6   Fare         891 non-null    float64\n",
      " 7   Cabin        204 non-null    object \n",
      " 8   Embarked     889 non-null    object \n",
      " 9   WikiId       889 non-null    float64\n",
      " 10  Name_wiki    889 non-null    object \n",
      " 11  Hometown     889 non-null    object \n",
      " 12  Boarded      889 non-null    object \n",
      " 13  Destination  889 non-null    object \n",
      " 14  Lifeboat     345 non-null    object \n",
      " 15  Body         87 non-null     object \n",
      "dtypes: float64(3), int32(1), int64(3), object(9)\n",
      "memory usage: 114.9+ KB\n"
     ]
    }
   ],
   "source": [
    "data.info()"
   ]
  },
  {
   "cell_type": "code",
   "execution_count": 35,
   "id": "707b671d",
   "metadata": {},
   "outputs": [],
   "source": [
    "data[\"Age\"]=data[\"Age\"].astype(\"int\")"
   ]
  },
  {
   "cell_type": "code",
   "execution_count": 36,
   "id": "d7712a58",
   "metadata": {},
   "outputs": [
    {
     "data": {
      "text/plain": [
       "0    608\n",
       "1    209\n",
       "2     28\n",
       "4     18\n",
       "3     16\n",
       "8      7\n",
       "5      5\n",
       "Name: SibSp, dtype: int64"
      ]
     },
     "execution_count": 36,
     "metadata": {},
     "output_type": "execute_result"
    }
   ],
   "source": [
    "data[\"SibSp\"].value_counts()"
   ]
  },
  {
   "cell_type": "code",
   "execution_count": 37,
   "id": "4e5dc8af",
   "metadata": {},
   "outputs": [],
   "source": [
    "data=data.drop(\"Cabin\" , axis=1)"
   ]
  },
  {
   "cell_type": "code",
   "execution_count": 38,
   "id": "2008504e",
   "metadata": {},
   "outputs": [
    {
     "data": {
      "text/plain": [
       "S    644\n",
       "C    168\n",
       "Q     77\n",
       "Name: Embarked, dtype: int64"
      ]
     },
     "execution_count": 38,
     "metadata": {},
     "output_type": "execute_result"
    }
   ],
   "source": [
    "data[\"Embarked\"].value_counts()"
   ]
  },
  {
   "cell_type": "code",
   "execution_count": 39,
   "id": "c596cabc",
   "metadata": {},
   "outputs": [],
   "source": [
    "data=data.drop(\"WikiId\" , axis=1)"
   ]
  },
  {
   "cell_type": "code",
   "execution_count": 40,
   "id": "abb9ede5",
   "metadata": {},
   "outputs": [],
   "source": [
    "data=data.drop(\"Name_wiki\" , axis=1)"
   ]
  },
  {
   "cell_type": "code",
   "execution_count": 41,
   "id": "64944464",
   "metadata": {},
   "outputs": [
    {
     "name": "stdout",
     "output_type": "stream",
     "text": [
      "<class 'pandas.core.frame.DataFrame'>\n",
      "Int64Index: 891 entries, 0 to 890\n",
      "Data columns (total 13 columns):\n",
      " #   Column       Non-Null Count  Dtype  \n",
      "---  ------       --------------  -----  \n",
      " 0   Survived     891 non-null    int32  \n",
      " 1   Pclass       891 non-null    int64  \n",
      " 2   Sex          891 non-null    object \n",
      " 3   Age          891 non-null    int32  \n",
      " 4   SibSp        891 non-null    int64  \n",
      " 5   Parch        891 non-null    int64  \n",
      " 6   Fare         891 non-null    float64\n",
      " 7   Embarked     889 non-null    object \n",
      " 8   Hometown     889 non-null    object \n",
      " 9   Boarded      889 non-null    object \n",
      " 10  Destination  889 non-null    object \n",
      " 11  Lifeboat     345 non-null    object \n",
      " 12  Body         87 non-null     object \n",
      "dtypes: float64(1), int32(2), int64(3), object(7)\n",
      "memory usage: 90.5+ KB\n"
     ]
    }
   ],
   "source": [
    "data.info()"
   ]
  },
  {
   "cell_type": "code",
   "execution_count": 42,
   "id": "99498927",
   "metadata": {},
   "outputs": [
    {
     "data": {
      "text/plain": [
       "New York, New York, US             50\n",
       "London, England                    31\n",
       "London, England, UK                23\n",
       "Paris, France                      16\n",
       "Unknown, Bulgaria                  13\n",
       "                                   ..\n",
       "Manchester, England, UK             1\n",
       "Cortrasna, Cavan, Ireland           1\n",
       "Tokyo, Japan                        1\n",
       "Gumostnik, Lovech, Bulgaria         1\n",
       "Patrickswell, Limerick, Ireland     1\n",
       "Name: Hometown, Length: 437, dtype: int64"
      ]
     },
     "execution_count": 42,
     "metadata": {},
     "output_type": "execute_result"
    }
   ],
   "source": [
    "data[\"Hometown\"].value_counts()"
   ]
  },
  {
   "cell_type": "code",
   "execution_count": 43,
   "id": "e79f2edc",
   "metadata": {},
   "outputs": [],
   "source": [
    "data=data.drop(\"Hometown\" , axis=1)"
   ]
  },
  {
   "cell_type": "code",
   "execution_count": 44,
   "id": "33de20fa",
   "metadata": {},
   "outputs": [
    {
     "data": {
      "text/plain": [
       "Southampton    638\n",
       "Cherbourg      166\n",
       "Queenstown      76\n",
       "Belfast          9\n",
       "Name: Boarded, dtype: int64"
      ]
     },
     "execution_count": 44,
     "metadata": {},
     "output_type": "execute_result"
    }
   ],
   "source": [
    "data[\"Boarded\"].value_counts()"
   ]
  },
  {
   "cell_type": "code",
   "execution_count": 45,
   "id": "2b1b0f6b",
   "metadata": {},
   "outputs": [],
   "source": [
    "data=data.drop([\"Boarded\",\"Body\",\"Lifeboat\",\"Destination\"] , axis=1)"
   ]
  },
  {
   "cell_type": "code",
   "execution_count": 46,
   "id": "2a53f6eb",
   "metadata": {},
   "outputs": [
    {
     "name": "stdout",
     "output_type": "stream",
     "text": [
      "<class 'pandas.core.frame.DataFrame'>\n",
      "Int64Index: 891 entries, 0 to 890\n",
      "Data columns (total 8 columns):\n",
      " #   Column    Non-Null Count  Dtype  \n",
      "---  ------    --------------  -----  \n",
      " 0   Survived  891 non-null    int32  \n",
      " 1   Pclass    891 non-null    int64  \n",
      " 2   Sex       891 non-null    object \n",
      " 3   Age       891 non-null    int32  \n",
      " 4   SibSp     891 non-null    int64  \n",
      " 5   Parch     891 non-null    int64  \n",
      " 6   Fare      891 non-null    float64\n",
      " 7   Embarked  889 non-null    object \n",
      "dtypes: float64(1), int32(2), int64(3), object(2)\n",
      "memory usage: 55.7+ KB\n"
     ]
    }
   ],
   "source": [
    "data.info()"
   ]
  },
  {
   "cell_type": "code",
   "execution_count": 47,
   "id": "8cf9ec27",
   "metadata": {},
   "outputs": [
    {
     "name": "stdout",
     "output_type": "stream",
     "text": [
      "<class 'pandas.core.frame.DataFrame'>\n",
      "Int64Index: 891 entries, 0 to 890\n",
      "Data columns (total 8 columns):\n",
      " #   Column    Non-Null Count  Dtype  \n",
      "---  ------    --------------  -----  \n",
      " 0   Survived  891 non-null    int32  \n",
      " 1   Pclass    891 non-null    int64  \n",
      " 2   Sex       891 non-null    object \n",
      " 3   Age       891 non-null    int32  \n",
      " 4   SibSp     891 non-null    int64  \n",
      " 5   Parch     891 non-null    int64  \n",
      " 6   Fare      891 non-null    float64\n",
      " 7   Embarked  889 non-null    object \n",
      "dtypes: float64(1), int32(2), int64(3), object(2)\n",
      "memory usage: 55.7+ KB\n"
     ]
    }
   ],
   "source": [
    "data.info()"
   ]
  },
  {
   "cell_type": "code",
   "execution_count": 48,
   "id": "a7b3df41",
   "metadata": {},
   "outputs": [
    {
     "data": {
      "text/html": [
       "<div>\n",
       "<style scoped>\n",
       "    .dataframe tbody tr th:only-of-type {\n",
       "        vertical-align: middle;\n",
       "    }\n",
       "\n",
       "    .dataframe tbody tr th {\n",
       "        vertical-align: top;\n",
       "    }\n",
       "\n",
       "    .dataframe thead th {\n",
       "        text-align: right;\n",
       "    }\n",
       "</style>\n",
       "<table border=\"1\" class=\"dataframe\">\n",
       "  <thead>\n",
       "    <tr style=\"text-align: right;\">\n",
       "      <th></th>\n",
       "      <th>Survived</th>\n",
       "      <th>Pclass</th>\n",
       "      <th>Sex</th>\n",
       "      <th>Age</th>\n",
       "      <th>SibSp</th>\n",
       "      <th>Parch</th>\n",
       "      <th>Fare</th>\n",
       "      <th>Embarked</th>\n",
       "    </tr>\n",
       "  </thead>\n",
       "  <tbody>\n",
       "    <tr>\n",
       "      <th>0</th>\n",
       "      <td>0</td>\n",
       "      <td>3</td>\n",
       "      <td>male</td>\n",
       "      <td>22</td>\n",
       "      <td>1</td>\n",
       "      <td>0</td>\n",
       "      <td>7.2500</td>\n",
       "      <td>S</td>\n",
       "    </tr>\n",
       "    <tr>\n",
       "      <th>1</th>\n",
       "      <td>1</td>\n",
       "      <td>1</td>\n",
       "      <td>female</td>\n",
       "      <td>38</td>\n",
       "      <td>1</td>\n",
       "      <td>0</td>\n",
       "      <td>71.2833</td>\n",
       "      <td>C</td>\n",
       "    </tr>\n",
       "    <tr>\n",
       "      <th>2</th>\n",
       "      <td>1</td>\n",
       "      <td>3</td>\n",
       "      <td>female</td>\n",
       "      <td>26</td>\n",
       "      <td>0</td>\n",
       "      <td>0</td>\n",
       "      <td>7.9250</td>\n",
       "      <td>S</td>\n",
       "    </tr>\n",
       "    <tr>\n",
       "      <th>3</th>\n",
       "      <td>1</td>\n",
       "      <td>1</td>\n",
       "      <td>female</td>\n",
       "      <td>35</td>\n",
       "      <td>1</td>\n",
       "      <td>0</td>\n",
       "      <td>53.1000</td>\n",
       "      <td>S</td>\n",
       "    </tr>\n",
       "    <tr>\n",
       "      <th>4</th>\n",
       "      <td>0</td>\n",
       "      <td>3</td>\n",
       "      <td>male</td>\n",
       "      <td>35</td>\n",
       "      <td>0</td>\n",
       "      <td>0</td>\n",
       "      <td>8.0500</td>\n",
       "      <td>S</td>\n",
       "    </tr>\n",
       "  </tbody>\n",
       "</table>\n",
       "</div>"
      ],
      "text/plain": [
       "   Survived  Pclass     Sex  Age  SibSp  Parch     Fare Embarked\n",
       "0         0       3    male   22      1      0   7.2500        S\n",
       "1         1       1  female   38      1      0  71.2833        C\n",
       "2         1       3  female   26      0      0   7.9250        S\n",
       "3         1       1  female   35      1      0  53.1000        S\n",
       "4         0       3    male   35      0      0   8.0500        S"
      ]
     },
     "execution_count": 48,
     "metadata": {},
     "output_type": "execute_result"
    }
   ],
   "source": [
    "data.head()"
   ]
  },
  {
   "cell_type": "code",
   "execution_count": 49,
   "id": "bf2340e7",
   "metadata": {},
   "outputs": [
    {
     "data": {
      "text/html": [
       "<div>\n",
       "<style scoped>\n",
       "    .dataframe tbody tr th:only-of-type {\n",
       "        vertical-align: middle;\n",
       "    }\n",
       "\n",
       "    .dataframe tbody tr th {\n",
       "        vertical-align: top;\n",
       "    }\n",
       "\n",
       "    .dataframe thead th {\n",
       "        text-align: right;\n",
       "    }\n",
       "</style>\n",
       "<table border=\"1\" class=\"dataframe\">\n",
       "  <thead>\n",
       "    <tr style=\"text-align: right;\">\n",
       "      <th></th>\n",
       "      <th>Survived</th>\n",
       "      <th>Pclass</th>\n",
       "      <th>Sex</th>\n",
       "      <th>Age</th>\n",
       "      <th>SibSp</th>\n",
       "      <th>Parch</th>\n",
       "      <th>Fare</th>\n",
       "      <th>Embarked</th>\n",
       "    </tr>\n",
       "  </thead>\n",
       "  <tbody>\n",
       "    <tr>\n",
       "      <th>61</th>\n",
       "      <td>1</td>\n",
       "      <td>1</td>\n",
       "      <td>female</td>\n",
       "      <td>38</td>\n",
       "      <td>0</td>\n",
       "      <td>0</td>\n",
       "      <td>80.0</td>\n",
       "      <td>NaN</td>\n",
       "    </tr>\n",
       "    <tr>\n",
       "      <th>829</th>\n",
       "      <td>1</td>\n",
       "      <td>1</td>\n",
       "      <td>female</td>\n",
       "      <td>62</td>\n",
       "      <td>0</td>\n",
       "      <td>0</td>\n",
       "      <td>80.0</td>\n",
       "      <td>NaN</td>\n",
       "    </tr>\n",
       "  </tbody>\n",
       "</table>\n",
       "</div>"
      ],
      "text/plain": [
       "     Survived  Pclass     Sex  Age  SibSp  Parch  Fare Embarked\n",
       "61          1       1  female   38      0      0  80.0      NaN\n",
       "829         1       1  female   62      0      0  80.0      NaN"
      ]
     },
     "execution_count": 49,
     "metadata": {},
     "output_type": "execute_result"
    }
   ],
   "source": [
    "data[data[\"Embarked\"].isnull()]"
   ]
  },
  {
   "cell_type": "code",
   "execution_count": 50,
   "id": "d607ef95",
   "metadata": {},
   "outputs": [],
   "source": [
    "data[\"Embarked\"]=data[\"Embarked\"].fillna(\"S\")"
   ]
  },
  {
   "cell_type": "code",
   "execution_count": 51,
   "id": "d4efe31b",
   "metadata": {},
   "outputs": [
    {
     "name": "stdout",
     "output_type": "stream",
     "text": [
      "<class 'pandas.core.frame.DataFrame'>\n",
      "Int64Index: 891 entries, 0 to 890\n",
      "Data columns (total 8 columns):\n",
      " #   Column    Non-Null Count  Dtype  \n",
      "---  ------    --------------  -----  \n",
      " 0   Survived  891 non-null    int32  \n",
      " 1   Pclass    891 non-null    int64  \n",
      " 2   Sex       891 non-null    object \n",
      " 3   Age       891 non-null    int32  \n",
      " 4   SibSp     891 non-null    int64  \n",
      " 5   Parch     891 non-null    int64  \n",
      " 6   Fare      891 non-null    float64\n",
      " 7   Embarked  891 non-null    object \n",
      "dtypes: float64(1), int32(2), int64(3), object(2)\n",
      "memory usage: 55.7+ KB\n"
     ]
    }
   ],
   "source": [
    "data.info()"
   ]
  },
  {
   "cell_type": "code",
   "execution_count": 52,
   "id": "cc481802",
   "metadata": {},
   "outputs": [],
   "source": [
    "from statsmodels.stats.outliers_influence import variance_inflation_factor"
   ]
  },
  {
   "cell_type": "code",
   "execution_count": 53,
   "id": "b4174627",
   "metadata": {},
   "outputs": [
    {
     "data": {
      "text/html": [
       "<div>\n",
       "<style scoped>\n",
       "    .dataframe tbody tr th:only-of-type {\n",
       "        vertical-align: middle;\n",
       "    }\n",
       "\n",
       "    .dataframe tbody tr th {\n",
       "        vertical-align: top;\n",
       "    }\n",
       "\n",
       "    .dataframe thead th {\n",
       "        text-align: right;\n",
       "    }\n",
       "</style>\n",
       "<table border=\"1\" class=\"dataframe\">\n",
       "  <thead>\n",
       "    <tr style=\"text-align: right;\">\n",
       "      <th></th>\n",
       "      <th>VIF</th>\n",
       "      <th>features</th>\n",
       "    </tr>\n",
       "  </thead>\n",
       "  <tbody>\n",
       "    <tr>\n",
       "      <th>0</th>\n",
       "      <td>3.573199</td>\n",
       "      <td>Age</td>\n",
       "    </tr>\n",
       "    <tr>\n",
       "      <th>1</th>\n",
       "      <td>1.421943</td>\n",
       "      <td>Fare</td>\n",
       "    </tr>\n",
       "    <tr>\n",
       "      <th>2</th>\n",
       "      <td>2.938022</td>\n",
       "      <td>Pclass</td>\n",
       "    </tr>\n",
       "  </tbody>\n",
       "</table>\n",
       "</div>"
      ],
      "text/plain": [
       "        VIF features\n",
       "0  3.573199      Age\n",
       "1  1.421943     Fare\n",
       "2  2.938022   Pclass"
      ]
     },
     "execution_count": 53,
     "metadata": {},
     "output_type": "execute_result"
    }
   ],
   "source": [
    "variables=data[[\"Age\",\"Fare\" , \"Pclass\"]]\n",
    "vif=pd.DataFrame()\n",
    "vif[\"VIF\"]=[variance_inflation_factor(variables.values , i) for i in range(variables.shape[1])]\n",
    "vif[\"features\"]=variables.columns\n",
    "vif"
   ]
  },
  {
   "cell_type": "code",
   "execution_count": 54,
   "id": "171357f1",
   "metadata": {},
   "outputs": [
    {
     "data": {
      "text/plain": [
       "<AxesSubplot:>"
      ]
     },
     "execution_count": 54,
     "metadata": {},
     "output_type": "execute_result"
    },
    {
     "data": {
      "image/png": "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\n",
      "text/plain": [
       "<Figure size 800x800 with 2 Axes>"
      ]
     },
     "metadata": {},
     "output_type": "display_data"
    }
   ],
   "source": [
    "plt.figure(figsize=(8,8) , dpi=100)\n",
    "sns.heatmap(data.corr())"
   ]
  },
  {
   "cell_type": "code",
   "execution_count": 55,
   "id": "df00eba5",
   "metadata": {},
   "outputs": [
    {
     "data": {
      "text/html": [
       "<div>\n",
       "<style scoped>\n",
       "    .dataframe tbody tr th:only-of-type {\n",
       "        vertical-align: middle;\n",
       "    }\n",
       "\n",
       "    .dataframe tbody tr th {\n",
       "        vertical-align: top;\n",
       "    }\n",
       "\n",
       "    .dataframe thead th {\n",
       "        text-align: right;\n",
       "    }\n",
       "</style>\n",
       "<table border=\"1\" class=\"dataframe\">\n",
       "  <thead>\n",
       "    <tr style=\"text-align: right;\">\n",
       "      <th></th>\n",
       "      <th>Survived</th>\n",
       "      <th>Pclass</th>\n",
       "      <th>Sex</th>\n",
       "      <th>Age</th>\n",
       "      <th>SibSp</th>\n",
       "      <th>Parch</th>\n",
       "      <th>Fare</th>\n",
       "      <th>Embarked</th>\n",
       "    </tr>\n",
       "  </thead>\n",
       "  <tbody>\n",
       "    <tr>\n",
       "      <th>0</th>\n",
       "      <td>0</td>\n",
       "      <td>3</td>\n",
       "      <td>male</td>\n",
       "      <td>22</td>\n",
       "      <td>1</td>\n",
       "      <td>0</td>\n",
       "      <td>7.2500</td>\n",
       "      <td>S</td>\n",
       "    </tr>\n",
       "    <tr>\n",
       "      <th>1</th>\n",
       "      <td>1</td>\n",
       "      <td>1</td>\n",
       "      <td>female</td>\n",
       "      <td>38</td>\n",
       "      <td>1</td>\n",
       "      <td>0</td>\n",
       "      <td>71.2833</td>\n",
       "      <td>C</td>\n",
       "    </tr>\n",
       "    <tr>\n",
       "      <th>2</th>\n",
       "      <td>1</td>\n",
       "      <td>3</td>\n",
       "      <td>female</td>\n",
       "      <td>26</td>\n",
       "      <td>0</td>\n",
       "      <td>0</td>\n",
       "      <td>7.9250</td>\n",
       "      <td>S</td>\n",
       "    </tr>\n",
       "    <tr>\n",
       "      <th>3</th>\n",
       "      <td>1</td>\n",
       "      <td>1</td>\n",
       "      <td>female</td>\n",
       "      <td>35</td>\n",
       "      <td>1</td>\n",
       "      <td>0</td>\n",
       "      <td>53.1000</td>\n",
       "      <td>S</td>\n",
       "    </tr>\n",
       "    <tr>\n",
       "      <th>4</th>\n",
       "      <td>0</td>\n",
       "      <td>3</td>\n",
       "      <td>male</td>\n",
       "      <td>35</td>\n",
       "      <td>0</td>\n",
       "      <td>0</td>\n",
       "      <td>8.0500</td>\n",
       "      <td>S</td>\n",
       "    </tr>\n",
       "  </tbody>\n",
       "</table>\n",
       "</div>"
      ],
      "text/plain": [
       "   Survived  Pclass     Sex  Age  SibSp  Parch     Fare Embarked\n",
       "0         0       3    male   22      1      0   7.2500        S\n",
       "1         1       1  female   38      1      0  71.2833        C\n",
       "2         1       3  female   26      0      0   7.9250        S\n",
       "3         1       1  female   35      1      0  53.1000        S\n",
       "4         0       3    male   35      0      0   8.0500        S"
      ]
     },
     "execution_count": 55,
     "metadata": {},
     "output_type": "execute_result"
    }
   ],
   "source": [
    "data.head()"
   ]
  },
  {
   "cell_type": "code",
   "execution_count": 56,
   "id": "6f69f191",
   "metadata": {},
   "outputs": [
    {
     "data": {
      "text/html": [
       "<div>\n",
       "<style scoped>\n",
       "    .dataframe tbody tr th:only-of-type {\n",
       "        vertical-align: middle;\n",
       "    }\n",
       "\n",
       "    .dataframe tbody tr th {\n",
       "        vertical-align: top;\n",
       "    }\n",
       "\n",
       "    .dataframe thead th {\n",
       "        text-align: right;\n",
       "    }\n",
       "</style>\n",
       "<table border=\"1\" class=\"dataframe\">\n",
       "  <thead>\n",
       "    <tr style=\"text-align: right;\">\n",
       "      <th></th>\n",
       "      <th>Survived</th>\n",
       "      <th>Pclass</th>\n",
       "      <th>Age</th>\n",
       "      <th>SibSp</th>\n",
       "      <th>Parch</th>\n",
       "      <th>Fare</th>\n",
       "      <th>Sex_male</th>\n",
       "      <th>Embarked_Q</th>\n",
       "      <th>Embarked_S</th>\n",
       "    </tr>\n",
       "  </thead>\n",
       "  <tbody>\n",
       "    <tr>\n",
       "      <th>0</th>\n",
       "      <td>0</td>\n",
       "      <td>3</td>\n",
       "      <td>22</td>\n",
       "      <td>1</td>\n",
       "      <td>0</td>\n",
       "      <td>7.25</td>\n",
       "      <td>1</td>\n",
       "      <td>0</td>\n",
       "      <td>1</td>\n",
       "    </tr>\n",
       "  </tbody>\n",
       "</table>\n",
       "</div>"
      ],
      "text/plain": [
       "   Survived  Pclass  Age  SibSp  Parch  Fare  Sex_male  Embarked_Q  Embarked_S\n",
       "0         0       3   22      1      0  7.25         1           0           1"
      ]
     },
     "execution_count": 56,
     "metadata": {},
     "output_type": "execute_result"
    }
   ],
   "source": [
    "data_with_dummies=pd.get_dummies(data , drop_first=True)\n",
    "data_with_dummies.head(1)"
   ]
  },
  {
   "cell_type": "code",
   "execution_count": 57,
   "id": "c6ba46bd",
   "metadata": {},
   "outputs": [],
   "source": [
    "df_ready=data_with_dummies.copy()"
   ]
  },
  {
   "cell_type": "code",
   "execution_count": 58,
   "id": "e5c8e9be",
   "metadata": {},
   "outputs": [],
   "source": [
    "inputs=df_ready.drop([\"Survived\"] , axis=1)\n",
    "target=df_ready[\"Survived\"]"
   ]
  },
  {
   "cell_type": "code",
   "execution_count": 59,
   "id": "2a32b440",
   "metadata": {},
   "outputs": [],
   "source": [
    "from sklearn.preprocessing import StandardScaler\n",
    "\n",
    "scaler=StandardScaler()\n",
    "scaler.fit(inputs)\n",
    "inputs_scaled=scaler.transform(inputs)"
   ]
  },
  {
   "cell_type": "code",
   "execution_count": 60,
   "id": "48528634",
   "metadata": {},
   "outputs": [],
   "source": [
    "from sklearn.model_selection import train_test_split\n",
    "\n",
    "x_train ,x_other , y_train , y_other=train_test_split(inputs_scaled , target , test_size=0.2 , random_state=42)\n",
    "x_valid ,x_test , y_valid , y_test=train_test_split(x_other , y_other , test_size=0.5 , random_state=42)"
   ]
  },
  {
   "cell_type": "markdown",
   "id": "457e7a3d",
   "metadata": {},
   "source": [
    "# ML algorithems"
   ]
  },
  {
   "cell_type": "markdown",
   "id": "d465d83f",
   "metadata": {},
   "source": [
    "# LogisticRegression"
   ]
  },
  {
   "cell_type": "code",
   "execution_count": 61,
   "id": "c134bdb8",
   "metadata": {},
   "outputs": [],
   "source": [
    "from sklearn.linear_model import LogisticRegression\n",
    "\n",
    "log=LogisticRegression(random_state=42)\n",
    "log.fit(x_train , y_train)                                        \n",
    "\n",
    "y_pred=log.predict(x_valid)"
   ]
  },
  {
   "cell_type": "code",
   "execution_count": 62,
   "id": "62c49dbb",
   "metadata": {},
   "outputs": [
    {
     "name": "stderr",
     "output_type": "stream",
     "text": [
      "C:\\Anaconda\\lib\\site-packages\\sklearn\\utils\\deprecation.py:87: FutureWarning: Function plot_confusion_matrix is deprecated; Function `plot_confusion_matrix` is deprecated in 1.0 and will be removed in 1.2. Use one of the class methods: ConfusionMatrixDisplay.from_predictions or ConfusionMatrixDisplay.from_estimator.\n",
      "  warnings.warn(msg, category=FutureWarning)\n"
     ]
    },
    {
     "data": {
      "text/plain": [
       "<sklearn.metrics._plot.confusion_matrix.ConfusionMatrixDisplay at 0x11528f12fa0>"
      ]
     },
     "execution_count": 62,
     "metadata": {},
     "output_type": "execute_result"
    },
    {
     "data": {
      "image/png": "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\n",
      "text/plain": [
       "<Figure size 432x288 with 2 Axes>"
      ]
     },
     "metadata": {},
     "output_type": "display_data"
    }
   ],
   "source": [
    "from sklearn.metrics import plot_confusion_matrix\n",
    "\n",
    "plot_confusion_matrix(log , x_valid , y_valid)"
   ]
  },
  {
   "cell_type": "code",
   "execution_count": 63,
   "id": "423446b4",
   "metadata": {},
   "outputs": [
    {
     "data": {
      "text/plain": [
       "0.8764044943820225"
      ]
     },
     "execution_count": 63,
     "metadata": {},
     "output_type": "execute_result"
    }
   ],
   "source": [
    "from sklearn.metrics import accuracy_score\n",
    "\n",
    "accuracy_score(y_valid,y_pred)"
   ]
  },
  {
   "cell_type": "code",
   "execution_count": 64,
   "id": "e075fa94",
   "metadata": {},
   "outputs": [
    {
     "data": {
      "text/plain": [
       "0.1235955056179775"
      ]
     },
     "execution_count": 64,
     "metadata": {},
     "output_type": "execute_result"
    }
   ],
   "source": [
    "error=1-accuracy_score(y_valid,y_pred)\n",
    "error"
   ]
  },
  {
   "cell_type": "markdown",
   "id": "8deddd18",
   "metadata": {},
   "source": [
    "# RandomForestClassifier"
   ]
  },
  {
   "cell_type": "code",
   "execution_count": 65,
   "id": "54658f18",
   "metadata": {},
   "outputs": [],
   "source": [
    "from sklearn.ensemble import RandomForestClassifier\n",
    "\n",
    "rfc=RandomForestClassifier(n_estimators=200) \n",
    "rfc.fit(x_train ,y_train)                     \n",
    "pred_rfc=rfc.predict(x_valid)"
   ]
  },
  {
   "cell_type": "code",
   "execution_count": 66,
   "id": "97feee2f",
   "metadata": {},
   "outputs": [
    {
     "name": "stderr",
     "output_type": "stream",
     "text": [
      "C:\\Anaconda\\lib\\site-packages\\sklearn\\utils\\deprecation.py:87: FutureWarning: Function plot_confusion_matrix is deprecated; Function `plot_confusion_matrix` is deprecated in 1.0 and will be removed in 1.2. Use one of the class methods: ConfusionMatrixDisplay.from_predictions or ConfusionMatrixDisplay.from_estimator.\n",
      "  warnings.warn(msg, category=FutureWarning)\n"
     ]
    },
    {
     "data": {
      "text/plain": [
       "<sklearn.metrics._plot.confusion_matrix.ConfusionMatrixDisplay at 0x11529148970>"
      ]
     },
     "execution_count": 66,
     "metadata": {},
     "output_type": "execute_result"
    },
    {
     "data": {
      "image/png": "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\n",
      "text/plain": [
       "<Figure size 432x288 with 2 Axes>"
      ]
     },
     "metadata": {},
     "output_type": "display_data"
    }
   ],
   "source": [
    "from sklearn.metrics import plot_confusion_matrix\n",
    "\n",
    "plot_confusion_matrix(rfc , x_valid , y_valid)"
   ]
  },
  {
   "cell_type": "code",
   "execution_count": 67,
   "id": "93fb42dd",
   "metadata": {},
   "outputs": [
    {
     "data": {
      "text/plain": [
       "0.8539325842696629"
      ]
     },
     "execution_count": 67,
     "metadata": {},
     "output_type": "execute_result"
    }
   ],
   "source": [
    "accuracy_score(y_valid,pred_rfc)"
   ]
  },
  {
   "cell_type": "code",
   "execution_count": 68,
   "id": "8acaa7b6",
   "metadata": {},
   "outputs": [
    {
     "data": {
      "text/plain": [
       "0.1460674157303371"
      ]
     },
     "execution_count": 68,
     "metadata": {},
     "output_type": "execute_result"
    }
   ],
   "source": [
    "error=1-accuracy_score(y_valid,pred_rfc)\n",
    "error"
   ]
  },
  {
   "cell_type": "code",
   "execution_count": 69,
   "id": "b9f3dffc",
   "metadata": {},
   "outputs": [
    {
     "name": "stderr",
     "output_type": "stream",
     "text": [
      "C:\\Anaconda\\lib\\site-packages\\sklearn\\model_selection\\_validation.py:372: FitFailedWarning: \n",
      "80 fits failed out of a total of 320.\n",
      "The score on these train-test partitions for these parameters will be set to nan.\n",
      "If these failures are not expected, you can try to debug them by setting error_score='raise'.\n",
      "\n",
      "Below are more details about the failures:\n",
      "--------------------------------------------------------------------------------\n",
      "80 fits failed with the following error:\n",
      "Traceback (most recent call last):\n",
      "  File \"C:\\Anaconda\\lib\\site-packages\\sklearn\\model_selection\\_validation.py\", line 680, in _fit_and_score\n",
      "    estimator.fit(X_train, y_train, **fit_params)\n",
      "  File \"C:\\Anaconda\\lib\\site-packages\\sklearn\\ensemble\\_forest.py\", line 411, in fit\n",
      "    raise ValueError(\"Out of bag estimation only available if bootstrap=True\")\n",
      "ValueError: Out of bag estimation only available if bootstrap=True\n",
      "\n",
      "  warnings.warn(some_fits_failed_message, FitFailedWarning)\n",
      "C:\\Anaconda\\lib\\site-packages\\sklearn\\model_selection\\_search.py:969: UserWarning: One or more of the test scores are non-finite: [0.80759381 0.80622476 0.80621491 0.80618536 0.81462622 0.80620506\n",
      " 0.80762336 0.81321777 0.80483601 0.81320792 0.82444598 0.81744312\n",
      " 0.80758397 0.81183887 0.80478676 0.81322762 0.81743327 0.82305722\n",
      " 0.81180932 0.81882202 0.82165862 0.81883187 0.81887127 0.82025017\n",
      " 0.81743327 0.81182902 0.82444598 0.81886142 0.81601497 0.81885157\n",
      " 0.80904166 0.81320792        nan 0.80063036        nan 0.79919236\n",
      "        nan 0.80478676        nan 0.79917266        nan 0.79918251\n",
      "        nan 0.80201911        nan 0.80197971        nan 0.80620506\n",
      "        nan 0.79497685        nan 0.79637546        nan 0.79779376\n",
      "        nan 0.80479661        nan 0.7907712         nan 0.79636561\n",
      "        nan 0.79637546        nan 0.79775436]\n",
      "  warnings.warn(\n"
     ]
    },
    {
     "data": {
      "text/plain": [
       "GridSearchCV(estimator=RandomForestClassifier(n_estimators=200),\n",
       "             param_grid={'bootstrap': [True, False],\n",
       "                         'max_features': [2, 3, 4, 5],\n",
       "                         'n_estimators': [64, 100, 128, 150],\n",
       "                         'oob_score': [True, False]})"
      ]
     },
     "execution_count": 69,
     "metadata": {},
     "output_type": "execute_result"
    }
   ],
   "source": [
    "from sklearn.model_selection import GridSearchCV\n",
    "rfc_param={\"n_estimators\":[64,100,128,150],\"max_features\":[2,3, 4,5] ,\"bootstrap\":[True,False] ,\"oob_score\":[True, False]}\n",
    "rfc_grid=GridSearchCV(rfc ,rfc_param)\n",
    "rfc_grid.fit(x_train , y_train)"
   ]
  },
  {
   "cell_type": "code",
   "execution_count": 70,
   "id": "1f6137d4",
   "metadata": {},
   "outputs": [
    {
     "data": {
      "text/plain": [
       "{'bootstrap': True, 'max_features': 3, 'n_estimators': 100, 'oob_score': True}"
      ]
     },
     "execution_count": 70,
     "metadata": {},
     "output_type": "execute_result"
    }
   ],
   "source": [
    "rfc_grid.best_params_"
   ]
  },
  {
   "cell_type": "code",
   "execution_count": 71,
   "id": "24030f33",
   "metadata": {},
   "outputs": [],
   "source": [
    "rfc_grid_pred=rfc_grid.predict(x_valid)"
   ]
  },
  {
   "cell_type": "code",
   "execution_count": 72,
   "id": "d4897d1e",
   "metadata": {},
   "outputs": [
    {
     "data": {
      "text/plain": [
       "0.8426966292134831"
      ]
     },
     "execution_count": 72,
     "metadata": {},
     "output_type": "execute_result"
    }
   ],
   "source": [
    "accuracy_score(y_valid,rfc_grid_pred)"
   ]
  },
  {
   "cell_type": "code",
   "execution_count": 73,
   "id": "7a2f22d7",
   "metadata": {},
   "outputs": [
    {
     "data": {
      "text/plain": [
       "0.1573033707865169"
      ]
     },
     "execution_count": 73,
     "metadata": {},
     "output_type": "execute_result"
    }
   ],
   "source": [
    "error=1-accuracy_score(y_valid,rfc_grid_pred)\n",
    "error"
   ]
  },
  {
   "cell_type": "markdown",
   "id": "ca2b5c75",
   "metadata": {},
   "source": [
    "# DecisionTreeClassifier"
   ]
  },
  {
   "cell_type": "code",
   "execution_count": 74,
   "id": "85df6b39",
   "metadata": {},
   "outputs": [],
   "source": [
    "from sklearn.tree import DecisionTreeClassifier\n",
    "\n",
    "dtc=DecisionTreeClassifier(random_state=42)\n",
    "dtc.fit(x_train , y_train)\n",
    "dtc_pred=dtc.predict(x_valid)"
   ]
  },
  {
   "cell_type": "code",
   "execution_count": 75,
   "id": "ee6098c2",
   "metadata": {},
   "outputs": [
    {
     "name": "stderr",
     "output_type": "stream",
     "text": [
      "C:\\Anaconda\\lib\\site-packages\\sklearn\\utils\\deprecation.py:87: FutureWarning: Function plot_confusion_matrix is deprecated; Function `plot_confusion_matrix` is deprecated in 1.0 and will be removed in 1.2. Use one of the class methods: ConfusionMatrixDisplay.from_predictions or ConfusionMatrixDisplay.from_estimator.\n",
      "  warnings.warn(msg, category=FutureWarning)\n"
     ]
    },
    {
     "data": {
      "text/plain": [
       "<sklearn.metrics._plot.confusion_matrix.ConfusionMatrixDisplay at 0x115294c06a0>"
      ]
     },
     "execution_count": 75,
     "metadata": {},
     "output_type": "execute_result"
    },
    {
     "data": {
      "image/png": "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\n",
      "text/plain": [
       "<Figure size 432x288 with 2 Axes>"
      ]
     },
     "metadata": {},
     "output_type": "display_data"
    }
   ],
   "source": [
    "plot_confusion_matrix(dtc , x_valid , y_valid)"
   ]
  },
  {
   "cell_type": "code",
   "execution_count": 76,
   "id": "5cbc5a5e",
   "metadata": {},
   "outputs": [
    {
     "data": {
      "text/plain": [
       "0.8089887640449438"
      ]
     },
     "execution_count": 76,
     "metadata": {},
     "output_type": "execute_result"
    }
   ],
   "source": [
    "accuracy_score(y_valid,dtc_pred)"
   ]
  },
  {
   "cell_type": "code",
   "execution_count": 77,
   "id": "716071e6",
   "metadata": {},
   "outputs": [
    {
     "data": {
      "text/plain": [
       "0.1910112359550562"
      ]
     },
     "execution_count": 77,
     "metadata": {},
     "output_type": "execute_result"
    }
   ],
   "source": [
    "error=1-accuracy_score(y_valid,dtc_pred)\n",
    "error"
   ]
  },
  {
   "cell_type": "code",
   "execution_count": 78,
   "id": "8ff54a4f",
   "metadata": {},
   "outputs": [
    {
     "name": "stderr",
     "output_type": "stream",
     "text": [
      "C:\\Anaconda\\lib\\site-packages\\sklearn\\model_selection\\_validation.py:372: FitFailedWarning: \n",
      "5 fits failed out of a total of 15.\n",
      "The score on these train-test partitions for these parameters will be set to nan.\n",
      "If these failures are not expected, you can try to debug them by setting error_score='raise'.\n",
      "\n",
      "Below are more details about the failures:\n",
      "--------------------------------------------------------------------------------\n",
      "5 fits failed with the following error:\n",
      "Traceback (most recent call last):\n",
      "  File \"C:\\Anaconda\\lib\\site-packages\\sklearn\\model_selection\\_validation.py\", line 680, in _fit_and_score\n",
      "    estimator.fit(X_train, y_train, **fit_params)\n",
      "  File \"C:\\Anaconda\\lib\\site-packages\\sklearn\\tree\\_classes.py\", line 937, in fit\n",
      "    super().fit(\n",
      "  File \"C:\\Anaconda\\lib\\site-packages\\sklearn\\tree\\_classes.py\", line 352, in fit\n",
      "    criterion = CRITERIA_CLF[self.criterion](\n",
      "KeyError: 'log_loss'\n",
      "\n",
      "  warnings.warn(some_fits_failed_message, FitFailedWarning)\n",
      "C:\\Anaconda\\lib\\site-packages\\sklearn\\model_selection\\_search.py:969: UserWarning: One or more of the test scores are non-finite: [0.76265143 0.74728652        nan]\n",
      "  warnings.warn(\n"
     ]
    },
    {
     "data": {
      "text/plain": [
       "GridSearchCV(estimator=DecisionTreeClassifier(random_state=42),\n",
       "             param_grid={'criterion': ['gini', 'entropy', 'log_loss']})"
      ]
     },
     "execution_count": 78,
     "metadata": {},
     "output_type": "execute_result"
    }
   ],
   "source": [
    "dtc_param={\"criterion\":[\"gini\",\"entropy\",\"log_loss\"]}\n",
    "dtc_gird=GridSearchCV(dtc ,dtc_param)\n",
    "dtc_gird.fit(x_train , y_train)"
   ]
  },
  {
   "cell_type": "code",
   "execution_count": 79,
   "id": "c44039ce",
   "metadata": {},
   "outputs": [
    {
     "data": {
      "text/plain": [
       "{'criterion': 'gini'}"
      ]
     },
     "execution_count": 79,
     "metadata": {},
     "output_type": "execute_result"
    }
   ],
   "source": [
    "dtc_gird.best_params_"
   ]
  },
  {
   "cell_type": "code",
   "execution_count": 80,
   "id": "d6458b36",
   "metadata": {},
   "outputs": [
    {
     "data": {
      "image/png": "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\n",
      "text/plain": [
       "<Figure size 2400x1600 with 1 Axes>"
      ]
     },
     "metadata": {},
     "output_type": "display_data"
    }
   ],
   "source": [
    "from sklearn.tree import plot_tree\n",
    "\n",
    "plt.figure(figsize=(12,8) , dpi=200)\n",
    "plot_tree(dtc);"
   ]
  },
  {
   "cell_type": "markdown",
   "id": "51ee52c4",
   "metadata": {},
   "source": [
    "# MLPClassifier"
   ]
  },
  {
   "cell_type": "code",
   "execution_count": 81,
   "id": "ef44ab70",
   "metadata": {},
   "outputs": [
    {
     "name": "stderr",
     "output_type": "stream",
     "text": [
      "C:\\Anaconda\\lib\\site-packages\\sklearn\\neural_network\\_multilayer_perceptron.py:692: ConvergenceWarning: Stochastic Optimizer: Maximum iterations (500) reached and the optimization hasn't converged yet.\n",
      "  warnings.warn(\n"
     ]
    }
   ],
   "source": [
    "from sklearn.neural_network import MLPClassifier\n",
    "\n",
    "mlpc=MLPClassifier(hidden_layer_sizes=(11,11,11) , max_iter=500)\n",
    "mlpc.fit(x_train , y_train)\n",
    "pred_mlpc=mlpc.predict(x_valid)"
   ]
  },
  {
   "cell_type": "code",
   "execution_count": 82,
   "id": "ba97763d",
   "metadata": {},
   "outputs": [
    {
     "name": "stderr",
     "output_type": "stream",
     "text": [
      "C:\\Anaconda\\lib\\site-packages\\sklearn\\utils\\deprecation.py:87: FutureWarning: Function plot_confusion_matrix is deprecated; Function `plot_confusion_matrix` is deprecated in 1.0 and will be removed in 1.2. Use one of the class methods: ConfusionMatrixDisplay.from_predictions or ConfusionMatrixDisplay.from_estimator.\n",
      "  warnings.warn(msg, category=FutureWarning)\n"
     ]
    },
    {
     "data": {
      "text/plain": [
       "<sklearn.metrics._plot.confusion_matrix.ConfusionMatrixDisplay at 0x11526feb6a0>"
      ]
     },
     "execution_count": 82,
     "metadata": {},
     "output_type": "execute_result"
    },
    {
     "data": {
      "image/png": "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\n",
      "text/plain": [
       "<Figure size 432x288 with 2 Axes>"
      ]
     },
     "metadata": {},
     "output_type": "display_data"
    }
   ],
   "source": [
    "plot_confusion_matrix(mlpc , x_valid , y_valid)"
   ]
  },
  {
   "cell_type": "code",
   "execution_count": 83,
   "id": "f5488023",
   "metadata": {},
   "outputs": [
    {
     "data": {
      "text/plain": [
       "0.8876404494382022"
      ]
     },
     "execution_count": 83,
     "metadata": {},
     "output_type": "execute_result"
    }
   ],
   "source": [
    "accuracy_score(y_valid,pred_mlpc)"
   ]
  },
  {
   "cell_type": "code",
   "execution_count": 84,
   "id": "9f0825a9",
   "metadata": {},
   "outputs": [
    {
     "data": {
      "text/plain": [
       "0.1123595505617978"
      ]
     },
     "execution_count": 84,
     "metadata": {},
     "output_type": "execute_result"
    }
   ],
   "source": [
    "error=1-accuracy_score(y_valid,pred_mlpc)\n",
    "error"
   ]
  },
  {
   "cell_type": "markdown",
   "id": "b8326dc2",
   "metadata": {},
   "source": [
    "# PassiveAggressiveClassifier"
   ]
  },
  {
   "cell_type": "code",
   "execution_count": 85,
   "id": "4d9b37be",
   "metadata": {},
   "outputs": [],
   "source": [
    "from sklearn.linear_model import PassiveAggressiveClassifier\n",
    "\n",
    "pac=PassiveAggressiveClassifier()\n",
    "pac.fit(x_train , y_train)\n",
    "pac_pred=pac.predict(x_valid)"
   ]
  },
  {
   "cell_type": "code",
   "execution_count": 86,
   "id": "7e31ac03",
   "metadata": {},
   "outputs": [
    {
     "name": "stderr",
     "output_type": "stream",
     "text": [
      "C:\\Anaconda\\lib\\site-packages\\sklearn\\utils\\deprecation.py:87: FutureWarning: Function plot_confusion_matrix is deprecated; Function `plot_confusion_matrix` is deprecated in 1.0 and will be removed in 1.2. Use one of the class methods: ConfusionMatrixDisplay.from_predictions or ConfusionMatrixDisplay.from_estimator.\n",
      "  warnings.warn(msg, category=FutureWarning)\n"
     ]
    },
    {
     "data": {
      "text/plain": [
       "<sklearn.metrics._plot.confusion_matrix.ConfusionMatrixDisplay at 0x11529703fa0>"
      ]
     },
     "execution_count": 86,
     "metadata": {},
     "output_type": "execute_result"
    },
    {
     "data": {
      "image/png": "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\n",
      "text/plain": [
       "<Figure size 432x288 with 2 Axes>"
      ]
     },
     "metadata": {},
     "output_type": "display_data"
    }
   ],
   "source": [
    "plot_confusion_matrix(pac , x_valid , y_valid)"
   ]
  },
  {
   "cell_type": "code",
   "execution_count": 87,
   "id": "a56e1085",
   "metadata": {},
   "outputs": [
    {
     "data": {
      "text/plain": [
       "0.7415730337078652"
      ]
     },
     "execution_count": 87,
     "metadata": {},
     "output_type": "execute_result"
    }
   ],
   "source": [
    "accuracy_score(y_valid,pac_pred)"
   ]
  },
  {
   "cell_type": "code",
   "execution_count": 88,
   "id": "ce3bf71f",
   "metadata": {},
   "outputs": [
    {
     "data": {
      "text/plain": [
       "0.2584269662921348"
      ]
     },
     "execution_count": 88,
     "metadata": {},
     "output_type": "execute_result"
    }
   ],
   "source": [
    "error=1-accuracy_score(y_valid,pac_pred)\n",
    "error"
   ]
  },
  {
   "cell_type": "markdown",
   "id": "175a6970",
   "metadata": {},
   "source": [
    "# KNeighborsClassifier"
   ]
  },
  {
   "cell_type": "code",
   "execution_count": 89,
   "id": "f79f5983",
   "metadata": {},
   "outputs": [],
   "source": [
    "from sklearn.neighbors import KNeighborsClassifier\n",
    "\n",
    "knn=KNeighborsClassifier(n_neighbors=1)\n",
    "knn.fit(x_train , y_train)\n",
    "knn_pred=knn.predict(x_valid)"
   ]
  },
  {
   "cell_type": "code",
   "execution_count": 90,
   "id": "4c0949e2",
   "metadata": {},
   "outputs": [
    {
     "name": "stderr",
     "output_type": "stream",
     "text": [
      "C:\\Anaconda\\lib\\site-packages\\sklearn\\utils\\deprecation.py:87: FutureWarning: Function plot_confusion_matrix is deprecated; Function `plot_confusion_matrix` is deprecated in 1.0 and will be removed in 1.2. Use one of the class methods: ConfusionMatrixDisplay.from_predictions or ConfusionMatrixDisplay.from_estimator.\n",
      "  warnings.warn(msg, category=FutureWarning)\n"
     ]
    },
    {
     "data": {
      "text/plain": [
       "<sklearn.metrics._plot.confusion_matrix.ConfusionMatrixDisplay at 0x11529148310>"
      ]
     },
     "execution_count": 90,
     "metadata": {},
     "output_type": "execute_result"
    },
    {
     "data": {
      "image/png": "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\n",
      "text/plain": [
       "<Figure size 432x288 with 2 Axes>"
      ]
     },
     "metadata": {},
     "output_type": "display_data"
    }
   ],
   "source": [
    "plot_confusion_matrix(knn, x_valid , y_valid)"
   ]
  },
  {
   "cell_type": "code",
   "execution_count": 91,
   "id": "101c4181",
   "metadata": {},
   "outputs": [
    {
     "data": {
      "text/plain": [
       "0.7865168539325843"
      ]
     },
     "execution_count": 91,
     "metadata": {},
     "output_type": "execute_result"
    }
   ],
   "source": [
    "accuracy_score(y_valid,knn_pred)"
   ]
  },
  {
   "cell_type": "code",
   "execution_count": 92,
   "id": "fc9786d7",
   "metadata": {},
   "outputs": [
    {
     "data": {
      "text/plain": [
       "0.2134831460674157"
      ]
     },
     "execution_count": 92,
     "metadata": {},
     "output_type": "execute_result"
    }
   ],
   "source": [
    "error=1-accuracy_score(y_valid,knn_pred)\n",
    "error"
   ]
  },
  {
   "cell_type": "code",
   "execution_count": 93,
   "id": "59f02752",
   "metadata": {},
   "outputs": [
    {
     "data": {
      "text/plain": [
       "GridSearchCV(estimator=KNeighborsClassifier(n_neighbors=1),\n",
       "             param_grid={'algorithm': ['auto', 'ball_tree', 'kd_tree'],\n",
       "                         'n_neighbors': [2, 3, 4, 5, 6, 7], 'p': [1, 2]})"
      ]
     },
     "execution_count": 93,
     "metadata": {},
     "output_type": "execute_result"
    }
   ],
   "source": [
    "knn_param={\"n_neighbors\":[2,3,4,5,6,7],\"algorithm\":[\"auto\",\"ball_tree\",\"kd_tree\"],\"p\":[1,2]}\n",
    "knn_grid=GridSearchCV(knn ,knn_param )\n",
    "knn_grid.fit(x_train , y_train)"
   ]
  },
  {
   "cell_type": "code",
   "execution_count": 94,
   "id": "203462d3",
   "metadata": {},
   "outputs": [],
   "source": [
    "knn_grid_pred=knn_grid.predict(x_valid)"
   ]
  },
  {
   "cell_type": "code",
   "execution_count": 95,
   "id": "71edefc3",
   "metadata": {},
   "outputs": [
    {
     "data": {
      "text/plain": [
       "0.8764044943820225"
      ]
     },
     "execution_count": 95,
     "metadata": {},
     "output_type": "execute_result"
    }
   ],
   "source": [
    "accuracy_score(y_valid,knn_grid_pred)"
   ]
  },
  {
   "cell_type": "code",
   "execution_count": 96,
   "id": "0c9f0beb",
   "metadata": {},
   "outputs": [
    {
     "data": {
      "text/plain": [
       "0.1235955056179775"
      ]
     },
     "execution_count": 96,
     "metadata": {},
     "output_type": "execute_result"
    }
   ],
   "source": [
    "error=1-accuracy_score(y_valid,knn_grid_pred)\n",
    "error"
   ]
  },
  {
   "cell_type": "markdown",
   "id": "f5e82031",
   "metadata": {},
   "source": [
    "# AdaBoostClassifier"
   ]
  },
  {
   "cell_type": "code",
   "execution_count": 97,
   "id": "2a272d60",
   "metadata": {},
   "outputs": [],
   "source": [
    "from sklearn.ensemble import AdaBoostClassifier\n",
    "\n",
    "abc=AdaBoostClassifier()\n",
    "abc.fit(x_train , y_train)\n",
    "abc_pred=abc.predict(x_valid)"
   ]
  },
  {
   "cell_type": "code",
   "execution_count": 98,
   "id": "06041aaf",
   "metadata": {},
   "outputs": [
    {
     "name": "stderr",
     "output_type": "stream",
     "text": [
      "C:\\Anaconda\\lib\\site-packages\\sklearn\\utils\\deprecation.py:87: FutureWarning: Function plot_confusion_matrix is deprecated; Function `plot_confusion_matrix` is deprecated in 1.0 and will be removed in 1.2. Use one of the class methods: ConfusionMatrixDisplay.from_predictions or ConfusionMatrixDisplay.from_estimator.\n",
      "  warnings.warn(msg, category=FutureWarning)\n"
     ]
    },
    {
     "data": {
      "text/plain": [
       "<sklearn.metrics._plot.confusion_matrix.ConfusionMatrixDisplay at 0x11529a2d5b0>"
      ]
     },
     "execution_count": 98,
     "metadata": {},
     "output_type": "execute_result"
    },
    {
     "data": {
      "image/png": "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\n",
      "text/plain": [
       "<Figure size 432x288 with 2 Axes>"
      ]
     },
     "metadata": {},
     "output_type": "display_data"
    }
   ],
   "source": [
    "plot_confusion_matrix(abc, x_valid , y_valid)"
   ]
  },
  {
   "cell_type": "code",
   "execution_count": 99,
   "id": "60af9c98",
   "metadata": {},
   "outputs": [
    {
     "data": {
      "text/plain": [
       "0.8651685393258427"
      ]
     },
     "execution_count": 99,
     "metadata": {},
     "output_type": "execute_result"
    }
   ],
   "source": [
    "accuracy_score(y_valid,abc_pred)"
   ]
  },
  {
   "cell_type": "code",
   "execution_count": 100,
   "id": "9a2e735a",
   "metadata": {},
   "outputs": [
    {
     "data": {
      "text/plain": [
       "0.1348314606741573"
      ]
     },
     "execution_count": 100,
     "metadata": {},
     "output_type": "execute_result"
    }
   ],
   "source": [
    "error=1-accuracy_score(y_valid,abc_pred)\n",
    "error"
   ]
  },
  {
   "cell_type": "code",
   "execution_count": 101,
   "id": "e3cf11a5",
   "metadata": {},
   "outputs": [
    {
     "data": {
      "text/plain": [
       "GridSearchCV(estimator=AdaBoostClassifier(),\n",
       "             param_grid={'algorithm': ['SAMME', 'SAMME.R'],\n",
       "                         'learning_rate': [0.001, 0.1, 0.5, 1, 1.2],\n",
       "                         'n_estimators': [30, 40, 50, 60, 70]})"
      ]
     },
     "execution_count": 101,
     "metadata": {},
     "output_type": "execute_result"
    }
   ],
   "source": [
    "abc_param={\"n_estimators\":[30,40,50,60,70] ,\"learning_rate\":[0.001,0.1,0.5,1,1.2],\"algorithm\":[\"SAMME\",\"SAMME.R\"]}\n",
    "abc_grid=GridSearchCV(abc ,abc_param )\n",
    "abc_grid.fit(x_train , y_train)"
   ]
  },
  {
   "cell_type": "code",
   "execution_count": 102,
   "id": "f13c9c77",
   "metadata": {},
   "outputs": [
    {
     "data": {
      "text/plain": [
       "{'algorithm': 'SAMME.R', 'learning_rate': 1, 'n_estimators': 40}"
      ]
     },
     "execution_count": 102,
     "metadata": {},
     "output_type": "execute_result"
    }
   ],
   "source": [
    "abc_grid.best_params_"
   ]
  },
  {
   "cell_type": "code",
   "execution_count": 103,
   "id": "aae97fe0",
   "metadata": {},
   "outputs": [],
   "source": [
    "abc_grid_pred=abc_grid.predict(x_valid)"
   ]
  },
  {
   "cell_type": "code",
   "execution_count": 104,
   "id": "870c32ac",
   "metadata": {},
   "outputs": [
    {
     "data": {
      "text/plain": [
       "0.8651685393258427"
      ]
     },
     "execution_count": 104,
     "metadata": {},
     "output_type": "execute_result"
    }
   ],
   "source": [
    "accuracy_score(y_valid,abc_grid_pred)"
   ]
  },
  {
   "cell_type": "code",
   "execution_count": 105,
   "id": "d8311052",
   "metadata": {},
   "outputs": [
    {
     "data": {
      "text/plain": [
       "0.1348314606741573"
      ]
     },
     "execution_count": 105,
     "metadata": {},
     "output_type": "execute_result"
    }
   ],
   "source": [
    "error=1-accuracy_score(y_valid,abc_grid_pred)\n",
    "error"
   ]
  },
  {
   "cell_type": "markdown",
   "id": "0e8c9c0e",
   "metadata": {},
   "source": [
    "# GradientBoostingClassifier"
   ]
  },
  {
   "cell_type": "code",
   "execution_count": 106,
   "id": "fbd4e07e",
   "metadata": {},
   "outputs": [],
   "source": [
    "from sklearn.ensemble import GradientBoostingClassifier\n",
    "\n",
    "gbc=GradientBoostingClassifier()\n",
    "gbc.fit(x_train, y_train)\n",
    "gbc_pred=gbc.predict(x_valid)"
   ]
  },
  {
   "cell_type": "code",
   "execution_count": 107,
   "id": "8909a863",
   "metadata": {},
   "outputs": [
    {
     "name": "stderr",
     "output_type": "stream",
     "text": [
      "C:\\Anaconda\\lib\\site-packages\\sklearn\\utils\\deprecation.py:87: FutureWarning: Function plot_confusion_matrix is deprecated; Function `plot_confusion_matrix` is deprecated in 1.0 and will be removed in 1.2. Use one of the class methods: ConfusionMatrixDisplay.from_predictions or ConfusionMatrixDisplay.from_estimator.\n",
      "  warnings.warn(msg, category=FutureWarning)\n"
     ]
    },
    {
     "data": {
      "text/plain": [
       "<sklearn.metrics._plot.confusion_matrix.ConfusionMatrixDisplay at 0x11529a34d90>"
      ]
     },
     "execution_count": 107,
     "metadata": {},
     "output_type": "execute_result"
    },
    {
     "data": {
      "image/png": "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\n",
      "text/plain": [
       "<Figure size 432x288 with 2 Axes>"
      ]
     },
     "metadata": {},
     "output_type": "display_data"
    }
   ],
   "source": [
    "plot_confusion_matrix(gbc, x_valid , y_valid)"
   ]
  },
  {
   "cell_type": "code",
   "execution_count": 108,
   "id": "5aa25d9c",
   "metadata": {},
   "outputs": [
    {
     "data": {
      "text/plain": [
       "0.8651685393258427"
      ]
     },
     "execution_count": 108,
     "metadata": {},
     "output_type": "execute_result"
    }
   ],
   "source": [
    "accuracy_score(y_valid,gbc_pred)"
   ]
  },
  {
   "cell_type": "code",
   "execution_count": 109,
   "id": "faf5412a",
   "metadata": {},
   "outputs": [
    {
     "data": {
      "text/plain": [
       "0.1348314606741573"
      ]
     },
     "execution_count": 109,
     "metadata": {},
     "output_type": "execute_result"
    }
   ],
   "source": [
    "error=1-accuracy_score(y_valid,gbc_pred)\n",
    "error"
   ]
  },
  {
   "cell_type": "markdown",
   "id": "ecca608e",
   "metadata": {},
   "source": [
    "# LogisticRegressionCV"
   ]
  },
  {
   "cell_type": "code",
   "execution_count": 110,
   "id": "e88dd950",
   "metadata": {},
   "outputs": [],
   "source": [
    "from sklearn.linear_model import LogisticRegressionCV\n",
    "\n",
    "log_cv=LogisticRegressionCV()\n",
    "log_cv.fit(x_train , y_train)                                        \n",
    "log_cv_pred=log_cv.predict(x_valid)"
   ]
  },
  {
   "cell_type": "code",
   "execution_count": 111,
   "id": "e36c6fa6",
   "metadata": {},
   "outputs": [
    {
     "name": "stderr",
     "output_type": "stream",
     "text": [
      "C:\\Anaconda\\lib\\site-packages\\sklearn\\utils\\deprecation.py:87: FutureWarning: Function plot_confusion_matrix is deprecated; Function `plot_confusion_matrix` is deprecated in 1.0 and will be removed in 1.2. Use one of the class methods: ConfusionMatrixDisplay.from_predictions or ConfusionMatrixDisplay.from_estimator.\n",
      "  warnings.warn(msg, category=FutureWarning)\n"
     ]
    },
    {
     "data": {
      "text/plain": [
       "<sklearn.metrics._plot.confusion_matrix.ConfusionMatrixDisplay at 0x11522d71940>"
      ]
     },
     "execution_count": 111,
     "metadata": {},
     "output_type": "execute_result"
    },
    {
     "data": {
      "image/png": "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\n",
      "text/plain": [
       "<Figure size 432x288 with 2 Axes>"
      ]
     },
     "metadata": {},
     "output_type": "display_data"
    }
   ],
   "source": [
    "plot_confusion_matrix(gbc, x_valid , y_valid)"
   ]
  },
  {
   "cell_type": "code",
   "execution_count": 112,
   "id": "c523eb7f",
   "metadata": {},
   "outputs": [
    {
     "data": {
      "text/plain": [
       "0.8651685393258427"
      ]
     },
     "execution_count": 112,
     "metadata": {},
     "output_type": "execute_result"
    }
   ],
   "source": [
    "accuracy_score(y_valid,log_cv_pred)"
   ]
  },
  {
   "cell_type": "code",
   "execution_count": 113,
   "id": "258e6131",
   "metadata": {},
   "outputs": [
    {
     "data": {
      "text/plain": [
       "0.1348314606741573"
      ]
     },
     "execution_count": 113,
     "metadata": {},
     "output_type": "execute_result"
    }
   ],
   "source": [
    "error=1-accuracy_score(y_valid,log_cv_pred)\n",
    "error"
   ]
  },
  {
   "cell_type": "code",
   "execution_count": 114,
   "id": "901af4cf",
   "metadata": {},
   "outputs": [
    {
     "name": "stderr",
     "output_type": "stream",
     "text": [
      "C:\\Anaconda\\lib\\site-packages\\sklearn\\model_selection\\_validation.py:372: FitFailedWarning: \n",
      "210 fits failed out of a total of 420.\n",
      "The score on these train-test partitions for these parameters will be set to nan.\n",
      "If these failures are not expected, you can try to debug them by setting error_score='raise'.\n",
      "\n",
      "Below are more details about the failures:\n",
      "--------------------------------------------------------------------------------\n",
      "35 fits failed with the following error:\n",
      "Traceback (most recent call last):\n",
      "  File \"C:\\Anaconda\\lib\\site-packages\\sklearn\\model_selection\\_validation.py\", line 680, in _fit_and_score\n",
      "    estimator.fit(X_train, y_train, **fit_params)\n",
      "  File \"C:\\Anaconda\\lib\\site-packages\\sklearn\\linear_model\\_logistic.py\", line 2031, in fit\n",
      "    solver = _check_solver(self.solver, self.penalty, self.dual)\n",
      "  File \"C:\\Anaconda\\lib\\site-packages\\sklearn\\linear_model\\_logistic.py\", line 447, in _check_solver\n",
      "    raise ValueError(\n",
      "ValueError: Solver lbfgs supports only 'l2' or 'none' penalties, got l1 penalty.\n",
      "\n",
      "--------------------------------------------------------------------------------\n",
      "35 fits failed with the following error:\n",
      "Traceback (most recent call last):\n",
      "  File \"C:\\Anaconda\\lib\\site-packages\\sklearn\\model_selection\\_validation.py\", line 680, in _fit_and_score\n",
      "    estimator.fit(X_train, y_train, **fit_params)\n",
      "  File \"C:\\Anaconda\\lib\\site-packages\\sklearn\\linear_model\\_logistic.py\", line 2031, in fit\n",
      "    solver = _check_solver(self.solver, self.penalty, self.dual)\n",
      "  File \"C:\\Anaconda\\lib\\site-packages\\sklearn\\linear_model\\_logistic.py\", line 447, in _check_solver\n",
      "    raise ValueError(\n",
      "ValueError: Solver newton-cg supports only 'l2' or 'none' penalties, got l1 penalty.\n",
      "\n",
      "--------------------------------------------------------------------------------\n",
      "35 fits failed with the following error:\n",
      "Traceback (most recent call last):\n",
      "  File \"C:\\Anaconda\\lib\\site-packages\\sklearn\\model_selection\\_validation.py\", line 680, in _fit_and_score\n",
      "    estimator.fit(X_train, y_train, **fit_params)\n",
      "  File \"C:\\Anaconda\\lib\\site-packages\\sklearn\\linear_model\\_logistic.py\", line 2031, in fit\n",
      "    solver = _check_solver(self.solver, self.penalty, self.dual)\n",
      "  File \"C:\\Anaconda\\lib\\site-packages\\sklearn\\linear_model\\_logistic.py\", line 447, in _check_solver\n",
      "    raise ValueError(\n",
      "ValueError: Solver lbfgs supports only 'l2' or 'none' penalties, got elasticnet penalty.\n",
      "\n",
      "--------------------------------------------------------------------------------\n",
      "35 fits failed with the following error:\n",
      "Traceback (most recent call last):\n",
      "  File \"C:\\Anaconda\\lib\\site-packages\\sklearn\\model_selection\\_validation.py\", line 680, in _fit_and_score\n",
      "    estimator.fit(X_train, y_train, **fit_params)\n",
      "  File \"C:\\Anaconda\\lib\\site-packages\\sklearn\\linear_model\\_logistic.py\", line 2031, in fit\n",
      "    solver = _check_solver(self.solver, self.penalty, self.dual)\n",
      "  File \"C:\\Anaconda\\lib\\site-packages\\sklearn\\linear_model\\_logistic.py\", line 457, in _check_solver\n",
      "    raise ValueError(\n",
      "ValueError: Only 'saga' solver supports elasticnet penalty, got solver=liblinear.\n",
      "\n",
      "--------------------------------------------------------------------------------\n",
      "35 fits failed with the following error:\n",
      "Traceback (most recent call last):\n",
      "  File \"C:\\Anaconda\\lib\\site-packages\\sklearn\\model_selection\\_validation.py\", line 680, in _fit_and_score\n",
      "    estimator.fit(X_train, y_train, **fit_params)\n",
      "  File \"C:\\Anaconda\\lib\\site-packages\\sklearn\\linear_model\\_logistic.py\", line 2031, in fit\n",
      "    solver = _check_solver(self.solver, self.penalty, self.dual)\n",
      "  File \"C:\\Anaconda\\lib\\site-packages\\sklearn\\linear_model\\_logistic.py\", line 447, in _check_solver\n",
      "    raise ValueError(\n",
      "ValueError: Solver newton-cg supports only 'l2' or 'none' penalties, got elasticnet penalty.\n",
      "\n",
      "--------------------------------------------------------------------------------\n",
      "35 fits failed with the following error:\n",
      "Traceback (most recent call last):\n",
      "  File \"C:\\Anaconda\\lib\\site-packages\\sklearn\\model_selection\\_validation.py\", line 680, in _fit_and_score\n",
      "    estimator.fit(X_train, y_train, **fit_params)\n",
      "  File \"C:\\Anaconda\\lib\\site-packages\\sklearn\\linear_model\\_logistic.py\", line 2056, in fit\n",
      "    raise ValueError(\n",
      "ValueError: l1_ratios must be a list of numbers between 0 and 1; got (l1_ratios=None)\n",
      "\n",
      "  warnings.warn(some_fits_failed_message, FitFailedWarning)\n",
      "C:\\Anaconda\\lib\\site-packages\\sklearn\\model_selection\\_search.py:969: UserWarning: One or more of the test scores are non-finite: [       nan 0.62359894        nan 0.62359894 0.62359894 0.782222\n",
      " 0.62359894 0.62359894        nan        nan        nan        nan\n",
      "        nan 0.79069241        nan 0.79069241 0.79210086 0.79210086\n",
      " 0.79210086 0.79210086        nan        nan        nan        nan\n",
      "        nan 0.79069241        nan 0.79069241 0.79065301 0.79210086\n",
      " 0.79065301 0.79065301        nan        nan        nan        nan\n",
      "        nan 0.79210086        nan 0.79210086 0.78644736 0.79210086\n",
      " 0.78644736 0.78644736        nan        nan        nan        nan\n",
      "        nan 0.79070226        nan 0.79631636 0.79489806 0.79349946\n",
      " 0.79489806 0.79489806        nan        nan        nan        nan\n",
      "        nan 0.79210086        nan 0.79210086 0.7864572  0.79349946\n",
      " 0.7864572  0.7864572         nan        nan        nan        nan\n",
      "        nan 0.79070226        nan 0.79349946 0.79069241 0.79349946\n",
      " 0.79069241 0.79069241        nan        nan        nan        nan]\n",
      "  warnings.warn(\n"
     ]
    },
    {
     "data": {
      "text/plain": [
       "GridSearchCV(estimator=LogisticRegressionCV(),\n",
       "             param_grid={'Cs': [1, 3, 5, 9, 10, 13, 15],\n",
       "                         'penalty': ['l1', 'l2', 'elasticnet'],\n",
       "                         'solver': ['lbfgs', 'liblinear', 'newton-cg', 'saga']})"
      ]
     },
     "execution_count": 114,
     "metadata": {},
     "output_type": "execute_result"
    }
   ],
   "source": [
    "logcv_param={\"Cs\":[1,3,5,9,10,13,15],\"penalty\":[\"l1\",\"l2\",\"elasticnet\"] ,\"solver\":[\"lbfgs\",\"liblinear\",\"newton-cg\",\"saga\"]}\n",
    "logcv_grid=GridSearchCV(log_cv ,logcv_param)\n",
    "logcv_grid.fit(x_train , y_train)"
   ]
  },
  {
   "cell_type": "code",
   "execution_count": 115,
   "id": "da6687f4",
   "metadata": {},
   "outputs": [],
   "source": [
    "logcv_grid_pred=logcv_grid.predict(x_valid)"
   ]
  },
  {
   "cell_type": "code",
   "execution_count": 116,
   "id": "6c170d4f",
   "metadata": {},
   "outputs": [
    {
     "data": {
      "text/plain": [
       "0.8539325842696629"
      ]
     },
     "execution_count": 116,
     "metadata": {},
     "output_type": "execute_result"
    }
   ],
   "source": [
    "accuracy_score(y_valid,logcv_grid_pred)"
   ]
  },
  {
   "cell_type": "code",
   "execution_count": 117,
   "id": "ee76178d",
   "metadata": {},
   "outputs": [
    {
     "data": {
      "text/plain": [
       "0.1460674157303371"
      ]
     },
     "execution_count": 117,
     "metadata": {},
     "output_type": "execute_result"
    }
   ],
   "source": [
    "error=1-accuracy_score(y_valid,logcv_grid_pred)\n",
    "error"
   ]
  },
  {
   "cell_type": "markdown",
   "id": "b4a4dfb3",
   "metadata": {},
   "source": [
    "# accuracy and error dataframe"
   ]
  },
  {
   "cell_type": "code",
   "execution_count": 118,
   "id": "365968e0",
   "metadata": {},
   "outputs": [],
   "source": [
    "algorithems=[\"Logistic\",\"randon\",\"random_grid\",\"decision\",\"MLP\",\"passive\",\"knn\",\"knn_grid\",\"ada\",\"ada_grid\",\"gradiant\",\"log_cv\",\"log_cv_grid\"]\n",
    "acc=[0.8876,0.8315,0.8539,0.8090,0.8652,0.5281,0.8090,0.8652,0.8652,0.8540,0.8540,0.8652,0.8652]"
   ]
  },
  {
   "cell_type": "code",
   "execution_count": 119,
   "id": "d3513986",
   "metadata": {},
   "outputs": [],
   "source": [
    "result=pd.DataFrame(columns=[\"algorithem\"], data=algorithems)"
   ]
  },
  {
   "cell_type": "code",
   "execution_count": 120,
   "id": "702c5113",
   "metadata": {},
   "outputs": [],
   "source": [
    "accuracy=pd.Series(acc)"
   ]
  },
  {
   "cell_type": "code",
   "execution_count": 121,
   "id": "7a68b86c",
   "metadata": {},
   "outputs": [],
   "source": [
    "result[\"accuracy\"]=acc"
   ]
  },
  {
   "cell_type": "code",
   "execution_count": 122,
   "id": "1fb43e98",
   "metadata": {},
   "outputs": [],
   "source": [
    "result[\"total\"]=1"
   ]
  },
  {
   "cell_type": "code",
   "execution_count": 123,
   "id": "c23d28a1",
   "metadata": {},
   "outputs": [],
   "source": [
    "result[\"error\"]=result[\"total\"]-result[\"accuracy\"]"
   ]
  },
  {
   "cell_type": "code",
   "execution_count": 124,
   "id": "ef9c088b",
   "metadata": {},
   "outputs": [],
   "source": [
    "result=result.drop(\"total\",axis=1)"
   ]
  },
  {
   "cell_type": "code",
   "execution_count": 125,
   "id": "703a47ee",
   "metadata": {},
   "outputs": [
    {
     "data": {
      "text/html": [
       "<div>\n",
       "<style scoped>\n",
       "    .dataframe tbody tr th:only-of-type {\n",
       "        vertical-align: middle;\n",
       "    }\n",
       "\n",
       "    .dataframe tbody tr th {\n",
       "        vertical-align: top;\n",
       "    }\n",
       "\n",
       "    .dataframe thead th {\n",
       "        text-align: right;\n",
       "    }\n",
       "</style>\n",
       "<table border=\"1\" class=\"dataframe\">\n",
       "  <thead>\n",
       "    <tr style=\"text-align: right;\">\n",
       "      <th></th>\n",
       "      <th>algorithem</th>\n",
       "      <th>accuracy</th>\n",
       "      <th>error</th>\n",
       "    </tr>\n",
       "  </thead>\n",
       "  <tbody>\n",
       "    <tr>\n",
       "      <th>5</th>\n",
       "      <td>passive</td>\n",
       "      <td>0.5281</td>\n",
       "      <td>0.4719</td>\n",
       "    </tr>\n",
       "    <tr>\n",
       "      <th>3</th>\n",
       "      <td>decision</td>\n",
       "      <td>0.8090</td>\n",
       "      <td>0.1910</td>\n",
       "    </tr>\n",
       "    <tr>\n",
       "      <th>6</th>\n",
       "      <td>knn</td>\n",
       "      <td>0.8090</td>\n",
       "      <td>0.1910</td>\n",
       "    </tr>\n",
       "    <tr>\n",
       "      <th>1</th>\n",
       "      <td>randon</td>\n",
       "      <td>0.8315</td>\n",
       "      <td>0.1685</td>\n",
       "    </tr>\n",
       "    <tr>\n",
       "      <th>2</th>\n",
       "      <td>random_grid</td>\n",
       "      <td>0.8539</td>\n",
       "      <td>0.1461</td>\n",
       "    </tr>\n",
       "    <tr>\n",
       "      <th>9</th>\n",
       "      <td>ada_grid</td>\n",
       "      <td>0.8540</td>\n",
       "      <td>0.1460</td>\n",
       "    </tr>\n",
       "    <tr>\n",
       "      <th>10</th>\n",
       "      <td>gradiant</td>\n",
       "      <td>0.8540</td>\n",
       "      <td>0.1460</td>\n",
       "    </tr>\n",
       "    <tr>\n",
       "      <th>4</th>\n",
       "      <td>MLP</td>\n",
       "      <td>0.8652</td>\n",
       "      <td>0.1348</td>\n",
       "    </tr>\n",
       "    <tr>\n",
       "      <th>7</th>\n",
       "      <td>knn_grid</td>\n",
       "      <td>0.8652</td>\n",
       "      <td>0.1348</td>\n",
       "    </tr>\n",
       "    <tr>\n",
       "      <th>8</th>\n",
       "      <td>ada</td>\n",
       "      <td>0.8652</td>\n",
       "      <td>0.1348</td>\n",
       "    </tr>\n",
       "    <tr>\n",
       "      <th>11</th>\n",
       "      <td>log_cv</td>\n",
       "      <td>0.8652</td>\n",
       "      <td>0.1348</td>\n",
       "    </tr>\n",
       "    <tr>\n",
       "      <th>12</th>\n",
       "      <td>log_cv_grid</td>\n",
       "      <td>0.8652</td>\n",
       "      <td>0.1348</td>\n",
       "    </tr>\n",
       "    <tr>\n",
       "      <th>0</th>\n",
       "      <td>Logistic</td>\n",
       "      <td>0.8876</td>\n",
       "      <td>0.1124</td>\n",
       "    </tr>\n",
       "  </tbody>\n",
       "</table>\n",
       "</div>"
      ],
      "text/plain": [
       "     algorithem  accuracy   error\n",
       "5       passive    0.5281  0.4719\n",
       "3      decision    0.8090  0.1910\n",
       "6           knn    0.8090  0.1910\n",
       "1        randon    0.8315  0.1685\n",
       "2   random_grid    0.8539  0.1461\n",
       "9      ada_grid    0.8540  0.1460\n",
       "10     gradiant    0.8540  0.1460\n",
       "4           MLP    0.8652  0.1348\n",
       "7      knn_grid    0.8652  0.1348\n",
       "8           ada    0.8652  0.1348\n",
       "11       log_cv    0.8652  0.1348\n",
       "12  log_cv_grid    0.8652  0.1348\n",
       "0      Logistic    0.8876  0.1124"
      ]
     },
     "execution_count": 125,
     "metadata": {},
     "output_type": "execute_result"
    }
   ],
   "source": [
    "result.sort_values(\"accuracy\")"
   ]
  },
  {
   "cell_type": "code",
   "execution_count": 126,
   "id": "6008151c",
   "metadata": {},
   "outputs": [
    {
     "data": {
      "image/png": "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\n",
      "text/plain": [
       "<Figure size 432x288 with 1 Axes>"
      ]
     },
     "metadata": {},
     "output_type": "display_data"
    }
   ],
   "source": [
    "sns.barplot(data=result , x=\"algorithem\" , y=\"accuracy\")\n",
    "plt.xticks(rotation=90);"
   ]
  },
  {
   "cell_type": "code",
   "execution_count": 127,
   "id": "086d7f28",
   "metadata": {},
   "outputs": [
    {
     "data": {
      "image/png": "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\n",
      "text/plain": [
       "<Figure size 432x288 with 1 Axes>"
      ]
     },
     "metadata": {},
     "output_type": "display_data"
    }
   ],
   "source": [
    "sns.barplot(data=result , x=\"algorithem\" , y=\"error\")\n",
    "plt.xticks(rotation=90);"
   ]
  }
 ],
 "metadata": {
  "kernelspec": {
   "display_name": "Python 3 (ipykernel)",
   "language": "python",
   "name": "python3"
  },
  "language_info": {
   "codemirror_mode": {
    "name": "ipython",
    "version": 3
   },
   "file_extension": ".py",
   "mimetype": "text/x-python",
   "name": "python",
   "nbconvert_exporter": "python",
   "pygments_lexer": "ipython3",
   "version": "3.9.12"
  }
 },
 "nbformat": 4,
 "nbformat_minor": 5
}
fc",
   "metadata": {},
   "outputs": [
    {
     "data": {
      "text/html": [
       "<div>\n",
       "<style scoped>\n",
       "    .dataframe tbody tr th:only-of-type {\n",
       "        vertical-align: middle;\n",
       "    }\n",
       "\n",
       "    .dataframe tbody tr th {\n",
       "        vertical-align: top;\n",
       "    }\n",
       "\n",
       "    .dataframe thead th {\n",
       "        text-align: right;\n",
       "    }\n",
       "</style>\n",
       "<table border=\"1\" class=\"dataframe\">\n",
       "  <thead>\n",
       "    <tr style=\"text-align: right;\">\n",
       "      <th></th>\n",
       "      <th>PassengerId</th>\n",
       "      <th>Survived</th>\n",
       "      <th>Pclass</th>\n",
       "      <th>Name</th>\n",
       "      <th>Sex</th>\n",
       "      <th>Age</th>\n",
       "      <th>SibSp</th>\n",
       "      <th>Parch</th>\n",
       "      <th>Ticket</th>\n",
       "      <th>Fare</th>\n",
       "      <th>...</th>\n",
       "      <th>Embarked</th>\n",
       "      <th>WikiId</th>\n",
       "      <th>Name_wiki</th>\n",
       "      <th>Age_wiki</th>\n",
       "      <th>Hometown</th>\n",
       "      <th>Boarded</th>\n",
       "      <th>Destination</th>\n",
       "      <th>Lifeboat</th>\n",
       "      <th>Body</th>\n",
       "      <th>Class</th>\n",
       "    </tr>\n",
       "  </thead>\n",
       "  <tbody>\n",
       "    <tr>\n",
       "      <th>0</th>\n",
       "      <td>1</td>\n",
       "      <td>0.0</td>\n",
       "      <td>3</td>\n",
       "      <td>Braund, Mr. Owen Harris</td>\n",
       "      <td>male</td>\n",
       "      <td>22.0</td>\n",
       "      <td>1</td>\n",
       "      <td>0</td>\n",
       "      <td>A/5 21171</td>\n",
       "      <td>7.2500</td>\n",
       "      <td>...</td>\n",
       "      <td>S</td>\n",
       "      <td>691.0</td>\n",
       "      <td>Braund, Mr. Owen Harris</td>\n",
       "      <td>22.0</td>\n",
       "      <td>Bridgerule, Devon, England</td>\n",
       "      <td>Southampton</td>\n",
       "      <td>Qu'Appelle Valley, Saskatchewan, Canada</td>\n",
       "      <td>NaN</td>\n",
       "      <td>NaN</td>\n",
       "      <td>3.0</td>\n",
       "    </tr>\n",
       "    <tr>\n",
       "      <th>1</th>\n",
       "      <td>2</td>\n",
       "      <td>1.0</td>\n",
       "      <td>1</td>\n",
       "      <td>Cumings, Mrs. John Bradley (Florence Briggs Th...</td>\n",
       "      <td>female</td>\n",
       "      <td>38.0</td>\n",
       "      <td>1</td>\n",
       "      <td>0</td>\n",
       "      <td>PC 17599</td>\n",
       "      <td>71.2833</td>\n",
       "      <td>...</td>\n",
       "      <td>C</td>\n",
       "      <td>90.0</td>\n",
       "      <td>Cumings, Mrs. Florence Briggs (née Thayer)</td>\n",
       "      <td>35.0</td>\n",
       "      <td>New York, New York, US</td>\n",
       "      <td>Cherbourg</td>\n",
       "      <td>New York, New York, US</td>\n",
       "      <td>4</td>\n",
       "      <td>NaN</td>\n",
       "      <td>1.0</td>\n",
       "    </tr>\n",
       "    <tr>\n",
       "      <th>2</th>\n",
       "      <td>3</td>\n",
       "      <td>1.0</td>\n",
       "      <td>3</td>\n",
       "      <td>Heikkinen, Miss. Laina</td>\n",
       "      <td>female</td>\n",
       "      <td>26.0</td>\n",
       "      <td>0</td>\n",
       "      <td>0</td>\n",
       "      <td>STON/O2. 3101282</td>\n",
       "      <td>7.9250</td>\n",
       "      <td>...</td>\n",
       "      <td>S</td>\n",
       "      <td>865.0</td>\n",
       "      <td>Heikkinen, Miss Laina</td>\n",
       "      <td>26.0</td>\n",
       "      <td>Jyväskylä, Finland</td>\n",
       "      <td>Southampton</td>\n",
       "      <td>New York City</td>\n",
       "      <td>14?</td>\n",
       "      <td>NaN</td>\n",
       "      <td>3.0</td>\n",
       "    </tr>\n",
       "    <tr>\n",
       "      <th>3</th>\n",
       "      <td>4</td>\n",
       "      <td>1.0</td>\n",
       "      <td>1</td>\n",
       "      <td>Futrelle, Mrs. Jacques Heath (Lily May Peel)</td>\n",
       "      <td>female</td>\n",
       "      <td>35.0</td>\n",
       "      <td>1</td>\n",
       "      <td>0</td>\n",
       "      <td>113803</td>\n",
       "      <td>53.1000</td>\n",
       "      <td>...</td>\n",
       "      <td>S</td>\n",
       "      <td>127.0</td>\n",
       "      <td>Futrelle, Mrs. Lily May (née Peel)</td>\n",
       "      <td>35.0</td>\n",
       "      <td>Scituate, Massachusetts, US</td>\n",
       "      <td>Southampton</td>\n",
       "      <td>Scituate, Massachusetts, US</td>\n",
       "      <td>D</td>\n",
       "      <td>NaN</td>\n",
       "      <td>1.0</td>\n",
       "    </tr>\n",
       "    <tr>\n",
       "      <th>4</th>\n",
       "      <td>5</td>\n",
       "      <td>0.0</td>\n",
       "      <td>3</td>\n",
       "      <td>Allen, Mr. William Henry</td>\n",
       "      <td>male</td>\n",
       "      <td>35.0</td>\n",
       "      <td>0</td>\n",
       "      <td>0</td>\n",
       "      <td>373450</td>\n",
       "      <td>8.0500</td>\n",
       "      <td>...</td>\n",
       "      <td>S</td>\n",
       "      <td>627.0</td>\n",
       "      <td>Allen, Mr. William Henry</td>\n",
       "      <td>35.0</td>\n",
       "      <td>Birmingham, West Midlands, England</td>\n",
       "      <td>Southampton</td>\n",
       "      <td>New York City</td>\n",
       "      <td>NaN</td>\n",
       "      <td>NaN</td>\n",
       "      <td>3.0</td>\n",
       "    </tr>\n",
       "  </tbody>\n",
       "</table>\n",
       "<p>5 rows × 21 columns</p>\n",
       "</div>"
      ],
      "text/plain": [
       "   PassengerId  Survived  Pclass  \\\n",
       "0            1       0.0       3   \n",
       "1            2       1.0       1   \n",
       "2            3       1.0       3   \n",
       "3            4       1.0       1   \n",
       "4            5       0.0       3   \n",
       "\n",
       "                                                Name     Sex   Age  SibSp  \\\n",
       "0                            Braund, Mr. Owen Harris    male  22.0      1   \n",
       "1  Cumings, Mrs. John Bradley (Florence Briggs Th...  female  38.0      1   \n",
       "2                             Heikkinen, Miss. Laina  female  26.0      0   \n",
       "3       Futrelle, Mrs. Jacques Heath (Lily May Peel)  female  35.0      1   \n",
       "4                           Allen, Mr. William Henry    male  35.0      0   \n",
       "\n",
       "   Parch            Ticket     Fare  ... Embarked WikiId  \\\n",
       "0      0         A/5 21171   7.2500  ...        S  691.0   \n",
       "1      0          PC 17599  71.2833  ...        C   90.0   \n",
       "2      0  STON/O2. 3101282   7.9250  ...        S  865.0   \n",
       "3      0            113803  53.1000  ...        S  127.0   \n",
       "4      0            373450   8.0500  ...        S  627.0   \n",
       "\n",
       "                                    Name_wiki Age_wiki  \\\n",
       "0                     Braund, Mr. Owen Harris     22.0   \n",
       "1  Cumings, Mrs. Florence Briggs (née Thayer)     35.0   \n",
       "2                       Heikkinen, Miss Laina     26.0   \n",
       "3          Futrelle, Mrs. Lily May (née Peel)     35.0   \n",
       "4                    Allen, Mr. William Henry     35.0   \n",
       "\n",
       "                             Hometown      Boarded  \\\n",
       "0          Bridgerule, Devon, England  Southampton   \n",
       "1              New York, New York, US    Cherbourg   \n",
       "2                  Jyväskylä, Finland  Southampton   \n",
       "3         Scituate, Massachusetts, US  Southampton   \n",
       "4  Birmingham, West Midlands, England  Southampton   \n",
       "\n",
       "                               Destination Lifeboat Body Class  \n",
       "0  Qu'Appelle Valley, Saskatchewan, Canada      NaN  NaN   3.0  \n",
       "1                   New York, New York, US        4  NaN   1.0  \n",
       "2                            New York City      14?  NaN   3.0  \n",
       "3              Scituate, Massachusetts, US        D  NaN   1.0  \n",
       "4                            New York City      NaN  NaN   3.0  \n",
       "\n",
       "[5 rows x 21 columns]"
      ]
     },
     "execution_count": 2,
     "metadata": {},
     "output_type": "execute_result"
    }
   ],
   "source": [
    "data=pd.read_csv(\"D:\\\\tala\\\\titanic\\\\titanic.csv\")\n",
    "data.head()"
   ]
  },
  {
   "cell_type": "code",
   "execution_count": 3,
   "id": "4862d0e4",
   "metadata": {},
   "outputs": [
    {
     "name": "stdout",
     "output_type": "stream",
     "text": [
      "<class 'pandas.core.frame.DataFrame'>\n",
      "RangeIndex: 1309 entries, 0 to 1308\n",
      "Data columns (total 21 columns):\n",
      " #   Column       Non-Null Count  Dtype  \n",
      "---  ------       --------------  -----  \n",
      " 0   PassengerId  1309 non-null   int64  \n",
      " 1   Survived     891 non-null    float64\n",
      " 2   Pclass       1309 non-null   int64  \n",
      " 3   Name         1309 non-null   object \n",
      " 4   Sex          1309 non-null   object \n",
      " 5   Age          1046 non-null   float64\n",
      " 6   SibSp        1309 non-null   int64  \n",
      " 7   Parch        1309 non-null   int64  \n",
      " 8   Ticket       1309 non-null   object \n",
      " 9   Fare         1308 non-null   float64\n",
      " 10  Cabin        295 non-null    object \n",
      " 11  Embarked     1307 non-null   object \n",
      " 12  WikiId       1304 non-null   float64\n",
      " 13  Name_wiki    1304 non-null   object \n",
      " 14  Age_wiki     1302 non-null   float64\n",
      " 15  Hometown     1304 non-null   object \n",
      " 16  Boarded      1304 non-null   object \n",
      " 17  Destination  1304 non-null   object \n",
      " 18  Lifeboat     502 non-null    object \n",
      " 19  Body         130 non-null    object \n",
      " 20  Class        1304 non-null   float64\n",
      "dtypes: float64(6), int64(4), object(11)\n",
      "memory usage: 214.9+ KB\n"
     ]
    }
   ],
   "source": [
    "data.info()"
   ]
  },
  {
   "cell_type": "code",
   "execution_count": 4,
   "id": "55402d3a",
   "metadata": {},
   "outputs": [],
   "source": [
    "data=data.drop([\"PassengerId\"] , axis=1)"
   ]
  },
  {
   "cell_type": "code",
   "execution_count": 5,
   "id": "6977cde7",
   "metadata": {},
   "outputs": [],
   "source": [
    "data=data.drop([\"Name\"] , axis=1)"
   ]
  },
  {
   "cell_type": "code",
   "execution_count": 6,
   "id": "74937c6f",
   "metadata": {},
   "outputs": [
    {
     "data": {
      "text/html": [
       "<div>\n",
       "<style scoped>\n",
       "    .dataframe tbody tr th:only-of-type {\n",
       "        vertical-align: middle;\n",
       "    }\n",
       "\n",
       "    .dataframe tbody tr th {\n",
       "        vertical-align: top;\n",
       "    }\n",
       "\n",
       "    .dataframe thead th {\n",
       "        text-align: right;\n",
       "    }\n",
       "</style>\n",
       "<table border=\"1\" class=\"dataframe\">\n",
       "  <thead>\n",
       "    <tr style=\"text-align: right;\">\n",
       "      <th></th>\n",
       "      <th>Survived</th>\n",
       "      <th>Pclass</th>\n",
       "      <th>Sex</th>\n",
       "      <th>Age</th>\n",
       "      <th>SibSp</th>\n",
       "      <th>Parch</th>\n",
       "      <th>Ticket</th>\n",
       "      <th>Fare</th>\n",
       "      <th>Cabin</th>\n",
       "      <th>Embarked</th>\n",
       "      <th>WikiId</th>\n",
       "      <th>Name_wiki</th>\n",
       "      <th>Age_wiki</th>\n",
       "      <th>Hometown</th>\n",
       "      <th>Boarded</th>\n",
       "      <th>Destination</th>\n",
       "      <th>Lifeboat</th>\n",
       "      <th>Body</th>\n",
       "      <th>Class</th>\n",
       "    </tr>\n",
       "  </thead>\n",
       "  <tbody>\n",
       "    <tr>\n",
       "      <th>0</th>\n",
       "      <td>0.0</td>\n",
       "      <td>3</td>\n",
       "      <td>male</td>\n",
       "      <td>22.0</td>\n",
       "      <td>1</td>\n",
       "      <td>0</td>\n",
       "      <td>A/5 21171</td>\n",
       "      <td>7.2500</td>\n",
       "      <td>NaN</td>\n",
       "      <td>S</td>\n",
       "      <td>691.0</td>\n",
       "      <td>Braund, Mr. Owen Harris</td>\n",
       "      <td>22.0</td>\n",
       "      <td>Bridgerule, Devon, England</td>\n",
       "      <td>Southampton</td>\n",
       "      <td>Qu'Appelle Valley, Saskatchewan, Canada</td>\n",
       "      <td>NaN</td>\n",
       "      <td>NaN</td>\n",
       "      <td>3.0</td>\n",
       "    </tr>\n",
       "    <tr>\n",
       "      <th>1</th>\n",
       "      <td>1.0</td>\n",
       "      <td>1</td>\n",
       "      <td>female</td>\n",
       "      <td>38.0</td>\n",
       "      <td>1</td>\n",
       "      <td>0</td>\n",
       "      <td>PC 17599</td>\n",
       "      <td>71.2833</td>\n",
       "      <td>C85</td>\n",
       "      <td>C</td>\n",
       "      <td>90.0</td>\n",
       "      <td>Cumings, Mrs. Florence Briggs (née Thayer)</td>\n",
       "      <td>35.0</td>\n",
       "      <td>New York, New York, US</td>\n",
       "      <td>Cherbourg</td>\n",
       "      <td>New York, New York, US</td>\n",
       "      <td>4</td>\n",
       "      <td>NaN</td>\n",
       "      <td>1.0</td>\n",
       "    </tr>\n",
       "    <tr>\n",
       "      <th>2</th>\n",
       "      <td>1.0</td>\n",
       "      <td>3</td>\n",
       "      <td>female</td>\n",
       "      <td>26.0</td>\n",
       "      <td>0</td>\n",
       "      <td>0</td>\n",
       "      <td>STON/O2. 3101282</td>\n",
       "      <td>7.9250</td>\n",
       "      <td>NaN</td>\n",
       "      <td>S</td>\n",
       "      <td>865.0</td>\n",
       "      <td>Heikkinen, Miss Laina</td>\n",
       "      <td>26.0</td>\n",
       "      <td>Jyväskylä, Finland</td>\n",
       "      <td>Southampton</td>\n",
       "      <td>New York City</td>\n",
       "      <td>14?</td>\n",
       "      <td>NaN</td>\n",
       "      <td>3.0</td>\n",
       "    </tr>\n",
       "    <tr>\n",
       "      <th>3</th>\n",
       "      <td>1.0</td>\n",
       "      <td>1</td>\n",
       "      <td>female</td>\n",
       "      <td>35.0</td>\n",
       "      <td>1</td>\n",
       "      <td>0</td>\n",
       "      <td>113803</td>\n",
       "      <td>53.1000</td>\n",
       "      <td>C123</td>\n",
       "      <td>S</td>\n",
       "      <td>127.0</td>\n",
       "      <td>Futrelle, Mrs. Lily May (née Peel)</td>\n",
       "      <td>35.0</td>\n",
       "      <td>Scituate, Massachusetts, US</td>\n",
       "      <td>Southampton</td>\n",
       "      <td>Scituate, Massachusetts, US</td>\n",
       "      <td>D</td>\n",
       "      <td>NaN</td>\n",
       "      <td>1.0</td>\n",
       "    </tr>\n",
       "    <tr>\n",
       "      <th>4</th>\n",
       "      <td>0.0</td>\n",
       "      <td>3</td>\n",
       "      <td>male</td>\n",
       "      <td>35.0</td>\n",
       "      <td>0</td>\n",
       "      <td>0</td>\n",
       "      <td>373450</td>\n",
       "      <td>8.0500</td>\n",
       "      <td>NaN</td>\n",
       "      <td>S</td>\n",
       "      <td>627.0</td>\n",
       "      <td>Allen, Mr. William Henry</td>\n",
       "      <td>35.0</td>\n",
       "      <td>Birmingham, West Midlands, England</td>\n",
       "      <td>Southampton</td>\n",
       "      <td>New York City</td>\n",
       "      <td>NaN</td>\n",
       "      <td>NaN</td>\n",
       "      <td>3.0</td>\n",
       "    </tr>\n",
       "    <tr>\n",
       "      <th>5</th>\n",
       "      <td>0.0</td>\n",
       "      <td>3</td>\n",
       "      <td>male</td>\n",
       "      <td>NaN</td>\n",
       "      <td>0</td>\n",
       "      <td>0</td>\n",
       "      <td>330877</td>\n",
       "      <td>8.4583</td>\n",
       "      <td>NaN</td>\n",
       "      <td>Q</td>\n",
       "      <td>785.0</td>\n",
       "      <td>Doherty, Mr. William John (aka \"James Moran\")</td>\n",
       "      <td>22.0</td>\n",
       "      <td>Cork, Ireland</td>\n",
       "      <td>Queenstown</td>\n",
       "      <td>New York City</td>\n",
       "      <td>NaN</td>\n",
       "      <td>NaN</td>\n",
       "      <td>3.0</td>\n",
       "    </tr>\n",
       "    <tr>\n",
       "      <th>6</th>\n",
       "      <td>0.0</td>\n",
       "      <td>1</td>\n",
       "      <td>male</td>\n",
       "      <td>54.0</td>\n",
       "      <td>0</td>\n",
       "      <td>0</td>\n",
       "      <td>17463</td>\n",
       "      <td>51.8625</td>\n",
       "      <td>E46</td>\n",
       "      <td>S</td>\n",
       "      <td>200.0</td>\n",
       "      <td>McCarthy, Mr. Timothy J.</td>\n",
       "      <td>54.0</td>\n",
       "      <td>Dorchester, Massachusetts, US</td>\n",
       "      <td>Southampton</td>\n",
       "      <td>Dorchester, Massachusetts, US</td>\n",
       "      <td>NaN</td>\n",
       "      <td>175MB</td>\n",
       "      <td>1.0</td>\n",
       "    </tr>\n",
       "    <tr>\n",
       "      <th>7</th>\n",
       "      <td>0.0</td>\n",
       "      <td>3</td>\n",
       "      <td>male</td>\n",
       "      <td>2.0</td>\n",
       "      <td>3</td>\n",
       "      <td>1</td>\n",
       "      <td>349909</td>\n",
       "      <td>21.0750</td>\n",
       "      <td>NaN</td>\n",
       "      <td>S</td>\n",
       "      <td>1108.0</td>\n",
       "      <td>Pålsson, Master Gösta Leonard</td>\n",
       "      <td>2.0</td>\n",
       "      <td>Bjuv, Skåne, Sweden</td>\n",
       "      <td>Southampton</td>\n",
       "      <td>Chicago, Illinois, US</td>\n",
       "      <td>NaN</td>\n",
       "      <td>NaN</td>\n",
       "      <td>3.0</td>\n",
       "    </tr>\n",
       "    <tr>\n",
       "      <th>8</th>\n",
       "      <td>1.0</td>\n",
       "      <td>3</td>\n",
       "      <td>female</td>\n",
       "      <td>27.0</td>\n",
       "      <td>0</td>\n",
       "      <td>2</td>\n",
       "      <td>347742</td>\n",
       "      <td>11.1333</td>\n",
       "      <td>NaN</td>\n",
       "      <td>S</td>\n",
       "      <td>902.0</td>\n",
       "      <td>Johnson, Mrs. Elisabeth Vilhelmina (née Berg)</td>\n",
       "      <td>26.0</td>\n",
       "      <td>St. Charles, Illinois, US</td>\n",
       "      <td>Southampton</td>\n",
       "      <td>St. Charles, Illinois, US</td>\n",
       "      <td>15</td>\n",
       "      <td>NaN</td>\n",
       "      <td>3.0</td>\n",
       "    </tr>\n",
       "    <tr>\n",
       "      <th>9</th>\n",
       "      <td>1.0</td>\n",
       "      <td>2</td>\n",
       "      <td>female</td>\n",
       "      <td>14.0</td>\n",
       "      <td>1</td>\n",
       "      <td>0</td>\n",
       "      <td>237736</td>\n",
       "      <td>30.0708</td>\n",
       "      <td>NaN</td>\n",
       "      <td>C</td>\n",
       "      <td>520.0</td>\n",
       "      <td>Nassr Allah, Mrs. Adal (née Akim)[62][77]</td>\n",
       "      <td>14.0</td>\n",
       "      <td>Zahlé, Lebanon, Ottoman Empire</td>\n",
       "      <td>Cherbourg</td>\n",
       "      <td>Cleveland, Ohio, US</td>\n",
       "      <td>?</td>\n",
       "      <td>NaN</td>\n",
       "      <td>2.0</td>\n",
       "    </tr>\n",
       "    <tr>\n",
       "      <th>10</th>\n",
       "      <td>1.0</td>\n",
       "      <td>3</td>\n",
       "      <td>female</td>\n",
       "      <td>4.0</td>\n",
       "      <td>1</td>\n",
       "      <td>1</td>\n",
       "      <td>PP 9549</td>\n",
       "      <td>16.7000</td>\n",
       "      <td>G6</td>\n",
       "      <td>S</td>\n",
       "      <td>1193.0</td>\n",
       "      <td>Sandström, Miss Marguerite Rut</td>\n",
       "      <td>4.0</td>\n",
       "      <td>Motala, Östergötland, Sweden</td>\n",
       "      <td>Southampton</td>\n",
       "      <td>San Francisco, US</td>\n",
       "      <td>13</td>\n",
       "      <td>NaN</td>\n",
       "      <td>3.0</td>\n",
       "    </tr>\n",
       "    <tr>\n",
       "      <th>11</th>\n",
       "      <td>1.0</td>\n",
       "      <td>1</td>\n",
       "      <td>female</td>\n",
       "      <td>58.0</td>\n",
       "      <td>0</td>\n",
       "      <td>0</td>\n",
       "      <td>113783</td>\n",
       "      <td>26.5500</td>\n",
       "      <td>C103</td>\n",
       "      <td>S</td>\n",
       "      <td>35.0</td>\n",
       "      <td>Bonnell, Miss Elizabeth</td>\n",
       "      <td>61.0</td>\n",
       "      <td>Youngstown, Ohio, US</td>\n",
       "      <td>Southampton</td>\n",
       "      <td>Youngstown, Ohio, US</td>\n",
       "      <td>8</td>\n",
       "      <td>NaN</td>\n",
       "      <td>1.0</td>\n",
       "    </tr>\n",
       "  </tbody>\n",
       "</table>\n",
       "</div>"
      ],
      "text/plain": [
       "    Survived  Pclass     Sex   Age  SibSp  Parch            Ticket     Fare  \\\n",
       "0        0.0       3    male  22.0      1      0         A/5 21171   7.2500   \n",
       "1        1.0       1  female  38.0      1      0          PC 17599  71.2833   \n",
       "2        1.0       3  female  26.0      0      0  STON/O2. 3101282   7.9250   \n",
       "3        1.0       1  female  35.0      1      0            113803  53.1000   \n",
       "4        0.0       3    male  35.0      0      0            373450   8.0500   \n",
       "5        0.0       3    male   NaN      0      0            330877   8.4583   \n",
       "6        0.0       1    male  54.0      0      0             17463  51.8625   \n",
       "7        0.0       3    male   2.0      3      1            349909  21.0750   \n",
       "8        1.0       3  female  27.0      0      2            347742  11.1333   \n",
       "9        1.0       2  female  14.0      1      0            237736  30.0708   \n",
       "10       1.0       3  female   4.0      1      1           PP 9549  16.7000   \n",
       "11       1.0       1  female  58.0      0      0            113783  26.5500   \n",
       "\n",
       "   Cabin Embarked  WikiId                                      Name_wiki  \\\n",
       "0    NaN        S   691.0                        Braund, Mr. Owen Harris   \n",
       "1    C85        C    90.0     Cumings, Mrs. Florence Briggs (née Thayer)   \n",
       "2    NaN        S   865.0                          Heikkinen, Miss Laina   \n",
       "3   C123        S   127.0             Futrelle, Mrs. Lily May (née Peel)   \n",
       "4    NaN        S   627.0                       Allen, Mr. William Henry   \n",
       "5    NaN        Q   785.0  Doherty, Mr. William John (aka \"James Moran\")   \n",
       "6    E46        S   200.0                       McCarthy, Mr. Timothy J.   \n",
       "7    NaN        S  1108.0                  Pålsson, Master Gösta Leonard   \n",
       "8    NaN        S   902.0  Johnson, Mrs. Elisabeth Vilhelmina (née Berg)   \n",
       "9    NaN        C   520.0      Nassr Allah, Mrs. Adal (née Akim)[62][77]   \n",
       "10    G6        S  1193.0                 Sandström, Miss Marguerite Rut   \n",
       "11  C103        S    35.0                        Bonnell, Miss Elizabeth   \n",
       "\n",
       "    Age_wiki                            Hometown      Boarded  \\\n",
       "0       22.0          Bridgerule, Devon, England  Southampton   \n",
       "1       35.0              New York, New York, US    Cherbourg   \n",
       "2       26.0                  Jyväskylä, Finland  Southampton   \n",
       "3       35.0         Scituate, Massachusetts, US  Southampton   \n",
       "4       35.0  Birmingham, West Midlands, England  Southampton   \n",
       "5       22.0                       Cork, Ireland   Queenstown   \n",
       "6       54.0       Dorchester, Massachusetts, US  Southampton   \n",
       "7        2.0                 Bjuv, Skåne, Sweden  Southampton   \n",
       "8       26.0           St. Charles, Illinois, US  Southampton   \n",
       "9       14.0      Zahlé, Lebanon, Ottoman Empire    Cherbourg   \n",
       "10       4.0        Motala, Östergötland, Sweden  Southampton   \n",
       "11      61.0                Youngstown, Ohio, US  Southampton   \n",
       "\n",
       "                                Destination Lifeboat   Body  Class  \n",
       "0   Qu'Appelle Valley, Saskatchewan, Canada      NaN    NaN    3.0  \n",
       "1                    New York, New York, US        4    NaN    1.0  \n",
       "2                             New York City      14?    NaN    3.0  \n",
       "3               Scituate, Massachusetts, US        D    NaN    1.0  \n",
       "4                             New York City      NaN    NaN    3.0  \n",
       "5                             New York City      NaN    NaN    3.0  \n",
       "6             Dorchester, Massachusetts, US      NaN  175MB    1.0  \n",
       "7                     Chicago, Illinois, US      NaN    NaN    3.0  \n",
       "8                 St. Charles, Illinois, US       15    NaN    3.0  \n",
       "9                       Cleveland, Ohio, US        ?    NaN    2.0  \n",
       "10                        San Francisco, US       13    NaN    3.0  \n",
       "11                     Youngstown, Ohio, US        8    NaN    1.0  "
      ]
     },
     "execution_count": 6,
     "metadata": {},
     "output_type": "execute_result"
    }
   ],
   "source": [
    "data.head(12)"
   ]
  },
  {
   "cell_type": "code",
   "execution_count": 7,
   "id": "f3d1e582",
   "metadata": {},
   "outputs": [],
   "source": [
    "data=data.drop([\"Fare\"] , axis=1)"
   ]
  },
  {
   "cell_type": "code",
   "execution_count": 8,
   "id": "3450f623",
   "metadata": {},
   "outputs": [],
   "source": [
    "data=data.drop([\"Name_wiki\"] , axis=1)"
   ]
  },
  {
   "cell_type": "code",
   "execution_count": 9,
   "id": "86619419",
   "metadata": {},
   "outputs": [],
   "source": [
    "data=data.drop([\"Ticket\"] , axis=1)"
   ]
  },
  {
   "cell_type": "code",
   "execution_count": 10,
   "id": "fe8257f1",
   "metadata": {},
   "outputs": [
    {
     "data": {
      "text/html": [
       "<div>\n",
       "<style scoped>\n",
       "    .dataframe tbody tr th:only-of-type {\n",
       "        vertical-align: middle;\n",
       "    }\n",
       "\n",
       "    .dataframe tbody tr th {\n",
       "        vertical-align: top;\n",
       "    }\n",
       "\n",
       "    .dataframe thead th {\n",
       "        text-align: right;\n",
       "    }\n",
       "</style>\n",
       "<table border=\"1\" class=\"dataframe\">\n",
       "  <thead>\n",
       "    <tr style=\"text-align: right;\">\n",
       "      <th></th>\n",
       "      <th>Survived</th>\n",
       "      <th>Pclass</th>\n",
       "      <th>Sex</th>\n",
       "      <th>Age</th>\n",
       "      <th>SibSp</th>\n",
       "      <th>Parch</th>\n",
       "      <th>Cabin</th>\n",
       "      <th>Embarked</th>\n",
       "      <th>WikiId</th>\n",
       "      <th>Age_wiki</th>\n",
       "      <th>Hometown</th>\n",
       "      <th>Boarded</th>\n",
       "      <th>Destination</th>\n",
       "      <th>Lifeboat</th>\n",
       "      <th>Body</th>\n",
       "      <th>Class</th>\n",
       "    </tr>\n",
       "  </thead>\n",
       "  <tbody>\n",
       "    <tr>\n",
       "      <th>0</th>\n",
       "      <td>0.0</td>\n",
       "      <td>3</td>\n",
       "      <td>male</td>\n",
       "      <td>22.0</td>\n",
       "      <td>1</td>\n",
       "      <td>0</td>\n",
       "      <td>NaN</td>\n",
       "      <td>S</td>\n",
       "      <td>691.0</td>\n",
       "      <td>22.0</td>\n",
       "      <td>Bridgerule, Devon, England</td>\n",
       "      <td>Southampton</td>\n",
       "      <td>Qu'Appelle Valley, Saskatchewan, Canada</td>\n",
       "      <td>NaN</td>\n",
       "      <td>NaN</td>\n",
       "      <td>3.0</td>\n",
       "    </tr>\n",
       "    <tr>\n",
       "      <th>1</th>\n",
       "      <td>1.0</td>\n",
       "      <td>1</td>\n",
       "      <td>female</td>\n",
       "      <td>38.0</td>\n",
       "      <td>1</td>\n",
       "      <td>0</td>\n",
       "      <td>C85</td>\n",
       "      <td>C</td>\n",
       "      <td>90.0</td>\n",
       "      <td>35.0</td>\n",
       "      <td>New York, New York, US</td>\n",
       "      <td>Cherbourg</td>\n",
       "      <td>New York, New York, US</td>\n",
       "      <td>4</td>\n",
       "      <td>NaN</td>\n",
       "      <td>1.0</td>\n",
       "    </tr>\n",
       "    <tr>\n",
       "      <th>2</th>\n",
       "      <td>1.0</td>\n",
       "      <td>3</td>\n",
       "      <td>female</td>\n",
       "      <td>26.0</td>\n",
       "      <td>0</td>\n",
       "      <td>0</td>\n",
       "      <td>NaN</td>\n",
       "      <td>S</td>\n",
       "      <td>865.0</td>\n",
       "      <td>26.0</td>\n",
       "      <td>Jyväskylä, Finland</td>\n",
       "      <td>Southampton</td>\n",
       "      <td>New York City</td>\n",
       "      <td>14?</td>\n",
       "      <td>NaN</td>\n",
       "      <td>3.0</td>\n",
       "    </tr>\n",
       "    <tr>\n",
       "      <th>3</th>\n",
       "      <td>1.0</td>\n",
       "      <td>1</td>\n",
       "      <td>female</td>\n",
       "      <td>35.0</td>\n",
       "      <td>1</td>\n",
       "      <td>0</td>\n",
       "      <td>C123</td>\n",
       "      <td>S</td>\n",
       "      <td>127.0</td>\n",
       "      <td>35.0</td>\n",
       "      <td>Scituate, Massachusetts, US</td>\n",
       "      <td>Southampton</td>\n",
       "      <td>Scituate, Massachusetts, US</td>\n",
       "      <td>D</td>\n",
       "      <td>NaN</td>\n",
       "      <td>1.0</td>\n",
       "    </tr>\n",
       "    <tr>\n",
       "      <th>4</th>\n",
       "      <td>0.0</td>\n",
       "      <td>3</td>\n",
       "      <td>male</td>\n",
       "      <td>35.0</td>\n",
       "      <td>0</td>\n",
       "      <td>0</td>\n",
       "      <td>NaN</td>\n",
       "      <td>S</td>\n",
       "      <td>627.0</td>\n",
       "      <td>35.0</td>\n",
       "      <td>Birmingham, West Midlands, England</td>\n",
       "      <td>Southampton</td>\n",
       "      <td>New York City</td>\n",
       "      <td>NaN</td>\n",
       "      <td>NaN</td>\n",
       "      <td>3.0</td>\n",
       "    </tr>\n",
       "  </tbody>\n",
       "</table>\n",
       "</div>"
      ],
      "text/plain": [
       "   Survived  Pclass     Sex   Age  SibSp  Parch Cabin Embarked  WikiId  \\\n",
       "0       0.0       3    male  22.0      1      0   NaN        S   691.0   \n",
       "1       1.0       1  female  38.0      1      0   C85        C    90.0   \n",
       "2       1.0       3  female  26.0      0      0   NaN        S   865.0   \n",
       "3       1.0       1  female  35.0      1      0  C123        S   127.0   \n",
       "4       0.0       3    male  35.0      0      0   NaN        S   627.0   \n",
       "\n",
       "   Age_wiki                            Hometown      Boarded  \\\n",
       "0      22.0          Bridgerule, Devon, England  Southampton   \n",
       "1      35.0              New York, New York, US    Cherbourg   \n",
       "2      26.0                  Jyväskylä, Finland  Southampton   \n",
       "3      35.0         Scituate, Massachusetts, US  Southampton   \n",
       "4      35.0  Birmingham, West Midlands, England  Southampton   \n",
       "\n",
       "                               Destination Lifeboat Body  Class  \n",
       "0  Qu'Appelle Valley, Saskatchewan, Canada      NaN  NaN    3.0  \n",
       "1                   New York, New York, US        4  NaN    1.0  \n",
       "2                            New York City      14?  NaN    3.0  \n",
       "3              Scituate, Massachusetts, US        D  NaN    1.0  \n",
       "4                            New York City      NaN  NaN    3.0  "
      ]
     },
     "execution_count": 10,
     "metadata": {},
     "output_type": "execute_result"
    }
   ],
   "source": [
    "data.head()"
   ]
  },
  {
   "cell_type": "code",
   "execution_count": 11,
   "id": "9bf9bd80",
   "metadata": {},
   "outputs": [
    {
     "name": "stdout",
     "output_type": "stream",
     "text": [
      "<class 'pandas.core.frame.DataFrame'>\n",
      "RangeIndex: 1309 entries, 0 to 1308\n",
      "Data columns (total 16 columns):\n",
      " #   Column       Non-Null Count  Dtype  \n",
      "---  ------       --------------  -----  \n",
      " 0   Survived     891 non-null    float64\n",
      " 1   Pclass       1309 non-null   int64  \n",
      " 2   Sex          1309 non-null   object \n",
      " 3   Age          1046 non-null   float64\n",
      " 4   SibSp        1309 non-null   int64  \n",
      " 5   Parch        1309 non-null   int64  \n",
      " 6   Cabin        295 non-null    object \n",
      " 7   Embarked     1307 non-null   object \n",
      " 8   WikiId       1304 non-null   float64\n",
      " 9   Age_wiki     1302 non-null   float64\n",
      " 10  Hometown     1304 non-null   object \n",
      " 11  Boarded      1304 non-null   object \n",
      " 12  Destination  1304 non-null   object \n",
      " 13  Lifeboat     502 non-null    object \n",
      " 14  Body         130 non-null    object \n",
      " 15  Class        1304 non-null   float64\n",
      "dtypes: float64(5), int64(3), object(8)\n",
      "memory usage: 163.8+ KB\n"
     ]
    }
   ],
   "source": [
    "data.info()"
   ]
  },
  {
   "cell_type": "code",
   "execution_count": 12,
   "id": "8ff119d1",
   "metadata": {},
   "outputs": [
    {
     "data": {
      "text/plain": [
       "dtype('float64')"
      ]
     },
     "execution_count": 12,
     "metadata": {},
     "output_type": "execute_result"
    }
   ],
   "source": [
    "data[\"Survived\"].dtype"
   ]
  },
  {
   "cell_type": "code",
   "execution_count": 13,
   "id": "9c44894f",
   "metadata": {},
   "outputs": [
    {
     "data": {
      "text/plain": [
       "0       False\n",
       "1        True\n",
       "2        True\n",
       "3        True\n",
       "4       False\n",
       "        ...  \n",
       "1304     True\n",
       "1305     True\n",
       "1306     True\n",
       "1307     True\n",
       "1308     True\n",
       "Name: Survived, Length: 1309, dtype: bool"
      ]
     },
     "execution_count": 13,
     "metadata": {},
     "output_type": "execute_result"
    }
   ],
   "source": [
    "data[\"Survived\"].astype(bool)"
   ]
  },
  {
   "cell_type": "code",
   "execution_count": 15,
   "id": "ddde94ee",
   "metadata": {},
   "outputs": [
    {
     "data": {
      "text/plain": [
       "dtype('float64')"
      ]
     },
     "execution_count": 15,
     "metadata": {},
     "output_type": "execute_result"
    }
   ],
   "source": [
    "data[\"Survived\"].dtype"
   ]
  },
  {
   "cell_type": "code",
   "execution_count": null,
   "id": "fd5caec2",
   "metadata": {},
   "outputs": [],
   "source": []
  }
 ],
 "metadata": {
  "kernelspec": {
   "display_name": "Python 3 (ipykernel)",
   "language": "python",
   "name": "python3"
  },
  "language_info": {
   "codemirror_mode": {
    "name": "ipython",
    "version": 3
   },
   "file_extension": ".py",
   "mimetype": "text/x-python",
   "name": "python",
   "nbconvert_exporter": "python",
   "pygments_lexer": "ipython3",
   "version": "3.9.12"
  }
 },
 "nbformat": 4,
 "nbformat_minor": 5
}
